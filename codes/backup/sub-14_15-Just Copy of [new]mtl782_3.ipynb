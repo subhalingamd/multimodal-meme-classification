{
 "cells": [
  {
   "cell_type": "code",
   "execution_count": 1,
   "metadata": {
    "colab": {
     "base_uri": "https://localhost:8080/",
     "height": 1000
    },
    "executionInfo": {
     "elapsed": 129197,
     "status": "ok",
     "timestamp": 1619356567938,
     "user": {
      "displayName": "Subhalingam D",
      "photoUrl": "https://lh3.googleusercontent.com/a-/AOh14Gg86bQ1NVmL-U0-lCsAdMpCA_G3d9fxrw_PlOwtJg=s64",
      "userId": "08059846138458314824"
     },
     "user_tz": -330
    },
    "id": "338Hq8xzJTur",
    "outputId": "f6d0cbd3-c612-42b5-8075-5408a6a0da72"
   },
   "outputs": [
    {
     "name": "stdout",
     "output_type": "stream",
     "text": [
      "[nltk_data] Downloading package punkt to /root/nltk_data...\n",
      "[nltk_data]   Unzipping tokenizers/punkt.zip.\n",
      "[nltk_data] Downloading package stopwords to /root/nltk_data...\n",
      "[nltk_data]   Unzipping corpora/stopwords.zip.\n",
      "Collecting contractions\n",
      "  Downloading https://files.pythonhosted.org/packages/0a/04/d5e0bb9f2cef5d15616ebf68087a725c5dbdd71bd422bcfb35d709f98ce7/contractions-0.0.48-py2.py3-none-any.whl\n",
      "Collecting textsearch>=0.0.21\n",
      "  Downloading https://files.pythonhosted.org/packages/d3/fe/021d7d76961b5ceb9f8d022c4138461d83beff36c3938dc424586085e559/textsearch-0.0.21-py2.py3-none-any.whl\n",
      "Collecting pyahocorasick\n",
      "\u001b[?25l  Downloading https://files.pythonhosted.org/packages/7f/c2/eae730037ae1cbbfaa229d27030d1d5e34a1e41114b21447d1202ae9c220/pyahocorasick-1.4.2.tar.gz (321kB)\n",
      "\u001b[K     |████████████████████████████████| 327kB 4.3MB/s \n",
      "\u001b[?25hCollecting anyascii\n",
      "\u001b[?25l  Downloading https://files.pythonhosted.org/packages/a3/14/666cd44bf53f36a961544af592cb5c5c800013f9c51a4745af8d7c17362a/anyascii-0.2.0-py3-none-any.whl (283kB)\n",
      "\u001b[K     |████████████████████████████████| 286kB 7.8MB/s \n",
      "\u001b[?25hBuilding wheels for collected packages: pyahocorasick\n",
      "  Building wheel for pyahocorasick (setup.py) ... \u001b[?25l\u001b[?25hdone\n",
      "  Created wheel for pyahocorasick: filename=pyahocorasick-1.4.2-cp37-cp37m-linux_x86_64.whl size=85391 sha256=818e8203df0a805589bfa286aecfe891832a2ef44131a1fa433cb5d928b14119\n",
      "  Stored in directory: /root/.cache/pip/wheels/3a/03/34/77e3ece0bba8b86bfac88a79f923b36d805cad63caeba38842\n",
      "Successfully built pyahocorasick\n",
      "Installing collected packages: pyahocorasick, anyascii, textsearch, contractions\n",
      "Successfully installed anyascii-0.2.0 contractions-0.0.48 pyahocorasick-1.4.2 textsearch-0.0.21\n",
      "Collecting zeugma\n",
      "  Downloading https://files.pythonhosted.org/packages/59/38/8f57f83719027e36a61238abe1cafa55d257eaaf8e9185b2adbb5a928308/zeugma-0.48.tar.gz\n",
      "Requirement already satisfied: numpy>=1.13.3 in /usr/local/lib/python3.7/dist-packages (from zeugma) (1.19.5)\n",
      "Requirement already satisfied: Cython>=0.27.3 in /usr/local/lib/python3.7/dist-packages (from zeugma) (0.29.22)\n",
      "Requirement already satisfied: pandas>=0.20.3 in /usr/local/lib/python3.7/dist-packages (from zeugma) (1.1.5)\n",
      "Requirement already satisfied: gensim>=3.5.0 in /usr/local/lib/python3.7/dist-packages (from zeugma) (3.6.0)\n",
      "Requirement already satisfied: scikit_learn>=0.19.1 in /usr/local/lib/python3.7/dist-packages (from zeugma) (0.22.2.post1)\n",
      "Requirement already satisfied: tensorflow>=1.5.0 in /usr/local/lib/python3.7/dist-packages (from zeugma) (2.4.1)\n",
      "Requirement already satisfied: keras>=2.1.3 in /usr/local/lib/python3.7/dist-packages (from zeugma) (2.4.3)\n",
      "Requirement already satisfied: python-dateutil>=2.7.3 in /usr/local/lib/python3.7/dist-packages (from pandas>=0.20.3->zeugma) (2.8.1)\n",
      "Requirement already satisfied: pytz>=2017.2 in /usr/local/lib/python3.7/dist-packages (from pandas>=0.20.3->zeugma) (2018.9)\n",
      "Requirement already satisfied: six>=1.5.0 in /usr/local/lib/python3.7/dist-packages (from gensim>=3.5.0->zeugma) (1.15.0)\n",
      "Requirement already satisfied: smart-open>=1.2.1 in /usr/local/lib/python3.7/dist-packages (from gensim>=3.5.0->zeugma) (5.0.0)\n",
      "Requirement already satisfied: scipy>=0.18.1 in /usr/local/lib/python3.7/dist-packages (from gensim>=3.5.0->zeugma) (1.4.1)\n",
      "Requirement already satisfied: joblib>=0.11 in /usr/local/lib/python3.7/dist-packages (from scikit_learn>=0.19.1->zeugma) (1.0.1)\n",
      "Requirement already satisfied: keras-preprocessing~=1.1.2 in /usr/local/lib/python3.7/dist-packages (from tensorflow>=1.5.0->zeugma) (1.1.2)\n",
      "Requirement already satisfied: termcolor~=1.1.0 in /usr/local/lib/python3.7/dist-packages (from tensorflow>=1.5.0->zeugma) (1.1.0)\n",
      "Requirement already satisfied: typing-extensions~=3.7.4 in /usr/local/lib/python3.7/dist-packages (from tensorflow>=1.5.0->zeugma) (3.7.4.3)\n",
      "Requirement already satisfied: wrapt~=1.12.1 in /usr/local/lib/python3.7/dist-packages (from tensorflow>=1.5.0->zeugma) (1.12.1)\n",
      "Requirement already satisfied: protobuf>=3.9.2 in /usr/local/lib/python3.7/dist-packages (from tensorflow>=1.5.0->zeugma) (3.12.4)\n",
      "Requirement already satisfied: absl-py~=0.10 in /usr/local/lib/python3.7/dist-packages (from tensorflow>=1.5.0->zeugma) (0.12.0)\n",
      "Requirement already satisfied: h5py~=2.10.0 in /usr/local/lib/python3.7/dist-packages (from tensorflow>=1.5.0->zeugma) (2.10.0)\n",
      "Requirement already satisfied: wheel~=0.35 in /usr/local/lib/python3.7/dist-packages (from tensorflow>=1.5.0->zeugma) (0.36.2)\n",
      "Requirement already satisfied: flatbuffers~=1.12.0 in /usr/local/lib/python3.7/dist-packages (from tensorflow>=1.5.0->zeugma) (1.12)\n",
      "Requirement already satisfied: astunparse~=1.6.3 in /usr/local/lib/python3.7/dist-packages (from tensorflow>=1.5.0->zeugma) (1.6.3)\n",
      "Requirement already satisfied: opt-einsum~=3.3.0 in /usr/local/lib/python3.7/dist-packages (from tensorflow>=1.5.0->zeugma) (3.3.0)\n",
      "Requirement already satisfied: tensorboard~=2.4 in /usr/local/lib/python3.7/dist-packages (from tensorflow>=1.5.0->zeugma) (2.4.1)\n",
      "Requirement already satisfied: grpcio~=1.32.0 in /usr/local/lib/python3.7/dist-packages (from tensorflow>=1.5.0->zeugma) (1.32.0)\n",
      "Requirement already satisfied: google-pasta~=0.2 in /usr/local/lib/python3.7/dist-packages (from tensorflow>=1.5.0->zeugma) (0.2.0)\n",
      "Requirement already satisfied: tensorflow-estimator<2.5.0,>=2.4.0 in /usr/local/lib/python3.7/dist-packages (from tensorflow>=1.5.0->zeugma) (2.4.0)\n",
      "Requirement already satisfied: gast==0.3.3 in /usr/local/lib/python3.7/dist-packages (from tensorflow>=1.5.0->zeugma) (0.3.3)\n",
      "Requirement already satisfied: pyyaml in /usr/local/lib/python3.7/dist-packages (from keras>=2.1.3->zeugma) (3.13)\n",
      "Requirement already satisfied: setuptools in /usr/local/lib/python3.7/dist-packages (from protobuf>=3.9.2->tensorflow>=1.5.0->zeugma) (56.0.0)\n",
      "Requirement already satisfied: werkzeug>=0.11.15 in /usr/local/lib/python3.7/dist-packages (from tensorboard~=2.4->tensorflow>=1.5.0->zeugma) (1.0.1)\n",
      "Requirement already satisfied: markdown>=2.6.8 in /usr/local/lib/python3.7/dist-packages (from tensorboard~=2.4->tensorflow>=1.5.0->zeugma) (3.3.4)\n",
      "Requirement already satisfied: requests<3,>=2.21.0 in /usr/local/lib/python3.7/dist-packages (from tensorboard~=2.4->tensorflow>=1.5.0->zeugma) (2.23.0)\n",
      "Requirement already satisfied: tensorboard-plugin-wit>=1.6.0 in /usr/local/lib/python3.7/dist-packages (from tensorboard~=2.4->tensorflow>=1.5.0->zeugma) (1.8.0)\n",
      "Requirement already satisfied: google-auth-oauthlib<0.5,>=0.4.1 in /usr/local/lib/python3.7/dist-packages (from tensorboard~=2.4->tensorflow>=1.5.0->zeugma) (0.4.4)\n",
      "Requirement already satisfied: google-auth<2,>=1.6.3 in /usr/local/lib/python3.7/dist-packages (from tensorboard~=2.4->tensorflow>=1.5.0->zeugma) (1.28.1)\n",
      "Requirement already satisfied: importlib-metadata; python_version < \"3.8\" in /usr/local/lib/python3.7/dist-packages (from markdown>=2.6.8->tensorboard~=2.4->tensorflow>=1.5.0->zeugma) (3.10.1)\n",
      "Requirement already satisfied: urllib3!=1.25.0,!=1.25.1,<1.26,>=1.21.1 in /usr/local/lib/python3.7/dist-packages (from requests<3,>=2.21.0->tensorboard~=2.4->tensorflow>=1.5.0->zeugma) (1.24.3)\n",
      "Requirement already satisfied: certifi>=2017.4.17 in /usr/local/lib/python3.7/dist-packages (from requests<3,>=2.21.0->tensorboard~=2.4->tensorflow>=1.5.0->zeugma) (2020.12.5)\n",
      "Requirement already satisfied: chardet<4,>=3.0.2 in /usr/local/lib/python3.7/dist-packages (from requests<3,>=2.21.0->tensorboard~=2.4->tensorflow>=1.5.0->zeugma) (3.0.4)\n",
      "Requirement already satisfied: idna<3,>=2.5 in /usr/local/lib/python3.7/dist-packages (from requests<3,>=2.21.0->tensorboard~=2.4->tensorflow>=1.5.0->zeugma) (2.10)\n",
      "Requirement already satisfied: requests-oauthlib>=0.7.0 in /usr/local/lib/python3.7/dist-packages (from google-auth-oauthlib<0.5,>=0.4.1->tensorboard~=2.4->tensorflow>=1.5.0->zeugma) (1.3.0)\n",
      "Requirement already satisfied: pyasn1-modules>=0.2.1 in /usr/local/lib/python3.7/dist-packages (from google-auth<2,>=1.6.3->tensorboard~=2.4->tensorflow>=1.5.0->zeugma) (0.2.8)\n",
      "Requirement already satisfied: cachetools<5.0,>=2.0.0 in /usr/local/lib/python3.7/dist-packages (from google-auth<2,>=1.6.3->tensorboard~=2.4->tensorflow>=1.5.0->zeugma) (4.2.1)\n",
      "Requirement already satisfied: rsa<5,>=3.1.4; python_version >= \"3.6\" in /usr/local/lib/python3.7/dist-packages (from google-auth<2,>=1.6.3->tensorboard~=2.4->tensorflow>=1.5.0->zeugma) (4.7.2)\n",
      "Requirement already satisfied: zipp>=0.5 in /usr/local/lib/python3.7/dist-packages (from importlib-metadata; python_version < \"3.8\"->markdown>=2.6.8->tensorboard~=2.4->tensorflow>=1.5.0->zeugma) (3.4.1)\n",
      "Requirement already satisfied: oauthlib>=3.0.0 in /usr/local/lib/python3.7/dist-packages (from requests-oauthlib>=0.7.0->google-auth-oauthlib<0.5,>=0.4.1->tensorboard~=2.4->tensorflow>=1.5.0->zeugma) (3.1.0)\n",
      "Requirement already satisfied: pyasn1<0.5.0,>=0.4.6 in /usr/local/lib/python3.7/dist-packages (from pyasn1-modules>=0.2.1->google-auth<2,>=1.6.3->tensorboard~=2.4->tensorflow>=1.5.0->zeugma) (0.4.8)\n",
      "Building wheels for collected packages: zeugma\n",
      "  Building wheel for zeugma (setup.py) ... \u001b[?25l\u001b[?25hdone\n",
      "  Created wheel for zeugma: filename=zeugma-0.48-cp37-none-any.whl size=8778 sha256=9549a552c26d49bf3f341a9da4854b53e3e619481d4238aed59655126057fa7f\n",
      "  Stored in directory: /root/.cache/pip/wheels/6a/b5/bc/5183ac478b0071d04d3ed0c0dd4a43db94c5c8ffb317b5eb53\n",
      "Successfully built zeugma\n",
      "Installing collected packages: zeugma\n",
      "Successfully installed zeugma-0.48\n",
      "Collecting textattack\n",
      "\u001b[?25l  Downloading https://files.pythonhosted.org/packages/0f/82/2f16ef7f22f19b3a49bbcd079dc31e53d362e1ef1299298c3eda05cf2b3a/textattack-0.2.15-py3-none-any.whl (349kB)\n",
      "\u001b[K     |████████████████████████████████| 358kB 5.7MB/s \n",
      "\u001b[?25hCollecting datasets\n",
      "\u001b[?25l  Downloading https://files.pythonhosted.org/packages/da/d6/a3d2c55b940a7c556e88f5598b401990805fc0f0a28b2fc9870cf0b8c761/datasets-1.6.0-py3-none-any.whl (202kB)\n",
      "\u001b[K     |████████████████████████████████| 204kB 18.2MB/s \n",
      "\u001b[?25hCollecting terminaltables\n",
      "  Downloading https://files.pythonhosted.org/packages/9b/c4/4a21174f32f8a7e1104798c445dacdc1d4df86f2f26722767034e4de4bff/terminaltables-3.1.0.tar.gz\n",
      "Collecting lru-dict\n",
      "  Downloading https://files.pythonhosted.org/packages/68/ea/997af58d4e6da019ad825a412f93081d9df67e9dda11cfb026a3d7cd0b6c/lru-dict-1.1.7.tar.gz\n",
      "Requirement already satisfied: tqdm<4.50.0,>=4.27 in /usr/local/lib/python3.7/dist-packages (from textattack) (4.41.1)\n",
      "Requirement already satisfied: more-itertools in /usr/local/lib/python3.7/dist-packages (from textattack) (8.7.0)\n",
      "Collecting num2words\n",
      "\u001b[?25l  Downloading https://files.pythonhosted.org/packages/eb/a2/ea800689730732e27711c41beed4b2a129b34974435bdc450377ec407738/num2words-0.5.10-py3-none-any.whl (101kB)\n",
      "\u001b[K     |████████████████████████████████| 102kB 5.8MB/s \n",
      "\u001b[?25hRequirement already satisfied: filelock in /usr/local/lib/python3.7/dist-packages (from textattack) (3.0.12)\n",
      "Requirement already satisfied: editdistance in /usr/local/lib/python3.7/dist-packages (from textattack) (0.5.3)\n",
      "Collecting word2number\n",
      "  Downloading https://files.pythonhosted.org/packages/4a/29/a31940c848521f0725f0df6b25dca8917f13a2025b0e8fcbe5d0457e45e6/word2number-1.1.zip\n",
      "Requirement already satisfied: nltk in /usr/local/lib/python3.7/dist-packages (from textattack) (3.2.5)\n",
      "Requirement already satisfied: PySocks!=1.5.7,>=1.5.6 in /usr/local/lib/python3.7/dist-packages (from textattack) (1.7.1)\n",
      "Collecting numpy<1.19.0\n",
      "\u001b[?25l  Downloading https://files.pythonhosted.org/packages/d6/c6/58e517e8b1fb192725cfa23c01c2e60e4e6699314ee9684a1c5f5c9b27e1/numpy-1.18.5-cp37-cp37m-manylinux1_x86_64.whl (20.1MB)\n",
      "\u001b[K     |████████████████████████████████| 20.1MB 1.3MB/s \n",
      "\u001b[?25hRequirement already satisfied: scipy==1.4.1 in /usr/local/lib/python3.7/dist-packages (from textattack) (1.4.1)\n",
      "Requirement already satisfied: torch in /usr/local/lib/python3.7/dist-packages (from textattack) (1.8.1+cu101)\n",
      "Collecting bert-score>=0.3.5\n",
      "\u001b[?25l  Downloading https://files.pythonhosted.org/packages/38/fb/e63e7e231a79db0489dbf7e7d0ebfb279ccb3d8216aa0d133572f784f3fa/bert_score-0.3.9-py3-none-any.whl (59kB)\n",
      "\u001b[K     |████████████████████████████████| 61kB 5.3MB/s \n",
      "\u001b[?25hCollecting flair==0.6.1.post1\n",
      "\u001b[?25l  Downloading https://files.pythonhosted.org/packages/4a/49/a812ed93088ba9519cbb40eb9f52341694b31cfa126bfddcd9db3761f3ac/flair-0.6.1.post1-py3-none-any.whl (337kB)\n",
      "\u001b[K     |████████████████████████████████| 337kB 31.9MB/s \n",
      "\u001b[?25hRequirement already satisfied: pandas>=1.0.1 in /usr/local/lib/python3.7/dist-packages (from textattack) (1.1.5)\n",
      "Collecting transformers>=3.3.0\n",
      "\u001b[?25l  Downloading https://files.pythonhosted.org/packages/d8/b2/57495b5309f09fa501866e225c84532d1fd89536ea62406b2181933fb418/transformers-4.5.1-py3-none-any.whl (2.1MB)\n",
      "\u001b[K     |████████████████████████████████| 2.1MB 44.3MB/s \n",
      "\u001b[?25hCollecting language-tool-python\n",
      "  Downloading https://files.pythonhosted.org/packages/37/26/48b22ad565fd372edec3577218fb817e0e6626bf4e658033197470ad92b3/language_tool_python-2.5.3-py3-none-any.whl\n",
      "Collecting lemminflect\n",
      "\u001b[?25l  Downloading https://files.pythonhosted.org/packages/4b/67/d04ca98b661d4ad52b9b965c9dabb1f1a2c85541d20f8decb9a9df4e4b32/lemminflect-0.2.2-py3-none-any.whl (769kB)\n",
      "\u001b[K     |████████████████████████████████| 778kB 38.4MB/s \n",
      "\u001b[?25hCollecting fsspec\n",
      "\u001b[?25l  Downloading https://files.pythonhosted.org/packages/e9/91/2ef649137816850fa4f4c97c6f2eabb1a79bf0aa2c8ed198e387e373455e/fsspec-2021.4.0-py3-none-any.whl (108kB)\n",
      "\u001b[K     |████████████████████████████████| 112kB 33.8MB/s \n",
      "\u001b[?25hRequirement already satisfied: packaging in /usr/local/lib/python3.7/dist-packages (from datasets->textattack) (20.9)\n",
      "Requirement already satisfied: requests>=2.19.0 in /usr/local/lib/python3.7/dist-packages (from datasets->textattack) (2.23.0)\n",
      "Collecting huggingface-hub<0.1.0\n",
      "  Downloading https://files.pythonhosted.org/packages/a1/88/7b1e45720ecf59c6c6737ff332f41c955963090a18e72acbcbeac6b25e86/huggingface_hub-0.0.8-py3-none-any.whl\n",
      "Requirement already satisfied: multiprocess in /usr/local/lib/python3.7/dist-packages (from datasets->textattack) (0.70.11.1)\n",
      "Requirement already satisfied: dill in /usr/local/lib/python3.7/dist-packages (from datasets->textattack) (0.3.3)\n",
      "Collecting xxhash\n",
      "\u001b[?25l  Downloading https://files.pythonhosted.org/packages/7d/4f/0a862cad26aa2ed7a7cd87178cbbfa824fc1383e472d63596a0d018374e7/xxhash-2.0.2-cp37-cp37m-manylinux2010_x86_64.whl (243kB)\n",
      "\u001b[K     |████████████████████████████████| 245kB 33.8MB/s \n",
      "\u001b[?25hRequirement already satisfied: importlib-metadata; python_version < \"3.8\" in /usr/local/lib/python3.7/dist-packages (from datasets->textattack) (3.10.1)\n",
      "Requirement already satisfied: pyarrow>=1.0.0 in /usr/local/lib/python3.7/dist-packages (from datasets->textattack) (3.0.0)\n",
      "Requirement already satisfied: docopt>=0.6.2 in /usr/local/lib/python3.7/dist-packages (from num2words->textattack) (0.6.2)\n",
      "Requirement already satisfied: six in /usr/local/lib/python3.7/dist-packages (from nltk->textattack) (1.15.0)\n",
      "Requirement already satisfied: typing-extensions in /usr/local/lib/python3.7/dist-packages (from torch->textattack) (3.7.4.3)\n",
      "Requirement already satisfied: matplotlib in /usr/local/lib/python3.7/dist-packages (from bert-score>=0.3.5->textattack) (3.2.2)\n",
      "Requirement already satisfied: gensim>=3.4.0 in /usr/local/lib/python3.7/dist-packages (from flair==0.6.1.post1->textattack) (3.6.0)\n",
      "Collecting sqlitedict>=1.6.0\n",
      "  Downloading https://files.pythonhosted.org/packages/5c/2d/b1d99e9ad157dd7de9cd0d36a8a5876b13b55e4b75f7498bc96035fb4e96/sqlitedict-1.7.0.tar.gz\n",
      "Collecting bpemb>=0.3.2\n",
      "  Downloading https://files.pythonhosted.org/packages/f2/6f/9191b85109772636a8f8accb122900c34db26c091d2793218aa94954524c/bpemb-0.3.3-py3-none-any.whl\n",
      "Collecting konoha<5.0.0,>=4.0.0\n",
      "  Downloading https://files.pythonhosted.org/packages/02/be/4dd30d56a0a19619deb9bf41ba8202709fa83b1b301b876572cd6dc38117/konoha-4.6.4-py3-none-any.whl\n",
      "Collecting segtok>=1.5.7\n",
      "  Downloading https://files.pythonhosted.org/packages/41/08/582dab5f4b1d5ca23bc6927b4bb977c8ff7f3a87a3b98844ef833e2f5623/segtok-1.5.10.tar.gz\n",
      "Requirement already satisfied: scikit-learn>=0.21.3 in /usr/local/lib/python3.7/dist-packages (from flair==0.6.1.post1->textattack) (0.22.2.post1)\n",
      "Requirement already satisfied: hyperopt>=0.1.1 in /usr/local/lib/python3.7/dist-packages (from flair==0.6.1.post1->textattack) (0.1.2)\n",
      "Requirement already satisfied: lxml in /usr/local/lib/python3.7/dist-packages (from flair==0.6.1.post1->textattack) (4.2.6)\n",
      "Collecting ftfy\n",
      "\u001b[?25l  Downloading https://files.pythonhosted.org/packages/ce/b5/5da463f9c7823e0e575e9908d004e2af4b36efa8d02d3d6dad57094fcb11/ftfy-6.0.1.tar.gz (63kB)\n",
      "\u001b[K     |████████████████████████████████| 71kB 5.5MB/s \n",
      "\u001b[?25hCollecting deprecated>=1.2.4\n",
      "  Downloading https://files.pythonhosted.org/packages/fb/73/994edfcba74443146c84b91921fcc269374354118d4f452fb0c54c1cbb12/Deprecated-1.2.12-py2.py3-none-any.whl\n",
      "Requirement already satisfied: gdown in /usr/local/lib/python3.7/dist-packages (from flair==0.6.1.post1->textattack) (3.6.4)\n",
      "Requirement already satisfied: tabulate in /usr/local/lib/python3.7/dist-packages (from flair==0.6.1.post1->textattack) (0.8.9)\n",
      "Collecting sentencepiece!=0.1.92\n",
      "\u001b[?25l  Downloading https://files.pythonhosted.org/packages/f5/99/e0808cb947ba10f575839c43e8fafc9cc44e4a7a2c8f79c60db48220a577/sentencepiece-0.1.95-cp37-cp37m-manylinux2014_x86_64.whl (1.2MB)\n",
      "\u001b[K     |████████████████████████████████| 1.2MB 35.9MB/s \n",
      "\u001b[?25hCollecting mpld3==0.3\n",
      "\u001b[?25l  Downloading https://files.pythonhosted.org/packages/91/95/a52d3a83d0a29ba0d6898f6727e9858fe7a43f6c2ce81a5fe7e05f0f4912/mpld3-0.3.tar.gz (788kB)\n",
      "\u001b[K     |████████████████████████████████| 798kB 37.5MB/s \n",
      "\u001b[?25hRequirement already satisfied: regex in /usr/local/lib/python3.7/dist-packages (from flair==0.6.1.post1->textattack) (2019.12.20)\n",
      "Requirement already satisfied: python-dateutil>=2.6.1 in /usr/local/lib/python3.7/dist-packages (from flair==0.6.1.post1->textattack) (2.8.1)\n",
      "Collecting janome\n",
      "\u001b[?25l  Downloading https://files.pythonhosted.org/packages/a8/63/98858cbead27df7536c7e300c169da0999e9704d02220dc6700b804eeff0/Janome-0.4.1-py2.py3-none-any.whl (19.7MB)\n",
      "\u001b[K     |████████████████████████████████| 19.7MB 5.7MB/s \n",
      "\u001b[?25hCollecting langdetect\n",
      "\u001b[?25l  Downloading https://files.pythonhosted.org/packages/56/a3/8407c1e62d5980188b4acc45ef3d94b933d14a2ebc9ef3505f22cf772570/langdetect-1.0.8.tar.gz (981kB)\n",
      "\u001b[K     |████████████████████████████████| 983kB 32.9MB/s \n",
      "\u001b[?25hRequirement already satisfied: pytz>=2017.2 in /usr/local/lib/python3.7/dist-packages (from pandas>=1.0.1->textattack) (2018.9)\n",
      "Collecting tokenizers<0.11,>=0.10.1\n",
      "\u001b[?25l  Downloading https://files.pythonhosted.org/packages/ae/04/5b870f26a858552025a62f1649c20d29d2672c02ff3c3fb4c688ca46467a/tokenizers-0.10.2-cp37-cp37m-manylinux2010_x86_64.whl (3.3MB)\n",
      "\u001b[K     |████████████████████████████████| 3.3MB 38.4MB/s \n",
      "\u001b[?25hCollecting sacremoses\n",
      "\u001b[?25l  Downloading https://files.pythonhosted.org/packages/75/ee/67241dc87f266093c533a2d4d3d69438e57d7a90abb216fa076e7d475d4a/sacremoses-0.0.45-py3-none-any.whl (895kB)\n",
      "\u001b[K     |████████████████████████████████| 901kB 28.6MB/s \n",
      "\u001b[?25hRequirement already satisfied: pyparsing>=2.0.2 in /usr/local/lib/python3.7/dist-packages (from packaging->datasets->textattack) (2.4.7)\n",
      "Requirement already satisfied: certifi>=2017.4.17 in /usr/local/lib/python3.7/dist-packages (from requests>=2.19.0->datasets->textattack) (2020.12.5)\n",
      "Requirement already satisfied: urllib3!=1.25.0,!=1.25.1,<1.26,>=1.21.1 in /usr/local/lib/python3.7/dist-packages (from requests>=2.19.0->datasets->textattack) (1.24.3)\n",
      "Requirement already satisfied: chardet<4,>=3.0.2 in /usr/local/lib/python3.7/dist-packages (from requests>=2.19.0->datasets->textattack) (3.0.4)\n",
      "Requirement already satisfied: idna<3,>=2.5 in /usr/local/lib/python3.7/dist-packages (from requests>=2.19.0->datasets->textattack) (2.10)\n",
      "Requirement already satisfied: zipp>=0.5 in /usr/local/lib/python3.7/dist-packages (from importlib-metadata; python_version < \"3.8\"->datasets->textattack) (3.4.1)\n",
      "Requirement already satisfied: cycler>=0.10 in /usr/local/lib/python3.7/dist-packages (from matplotlib->bert-score>=0.3.5->textattack) (0.10.0)\n",
      "Requirement already satisfied: kiwisolver>=1.0.1 in /usr/local/lib/python3.7/dist-packages (from matplotlib->bert-score>=0.3.5->textattack) (1.3.1)\n",
      "Requirement already satisfied: smart-open>=1.2.1 in /usr/local/lib/python3.7/dist-packages (from gensim>=3.4.0->flair==0.6.1.post1->textattack) (5.0.0)\n",
      "Collecting overrides<4.0.0,>=3.0.0\n",
      "  Downloading https://files.pythonhosted.org/packages/ff/b1/10f69c00947518e6676bbd43e739733048de64b8dd998e9c2d5a71f44c5d/overrides-3.1.0.tar.gz\n",
      "Requirement already satisfied: joblib>=0.11 in /usr/local/lib/python3.7/dist-packages (from scikit-learn>=0.21.3->flair==0.6.1.post1->textattack) (1.0.1)\n",
      "Requirement already satisfied: pymongo in /usr/local/lib/python3.7/dist-packages (from hyperopt>=0.1.1->flair==0.6.1.post1->textattack) (3.11.3)\n",
      "Requirement already satisfied: future in /usr/local/lib/python3.7/dist-packages (from hyperopt>=0.1.1->flair==0.6.1.post1->textattack) (0.16.0)\n",
      "Requirement already satisfied: networkx in /usr/local/lib/python3.7/dist-packages (from hyperopt>=0.1.1->flair==0.6.1.post1->textattack) (2.5.1)\n",
      "Requirement already satisfied: wcwidth in /usr/local/lib/python3.7/dist-packages (from ftfy->flair==0.6.1.post1->textattack) (0.2.5)\n",
      "Requirement already satisfied: wrapt<2,>=1.10 in /usr/local/lib/python3.7/dist-packages (from deprecated>=1.2.4->flair==0.6.1.post1->textattack) (1.12.1)\n",
      "Requirement already satisfied: click in /usr/local/lib/python3.7/dist-packages (from sacremoses->transformers>=3.3.0->textattack) (7.1.2)\n",
      "Requirement already satisfied: decorator<5,>=4.3 in /usr/local/lib/python3.7/dist-packages (from networkx->hyperopt>=0.1.1->flair==0.6.1.post1->textattack) (4.4.2)\n",
      "Building wheels for collected packages: terminaltables, lru-dict, word2number, sqlitedict, segtok, ftfy, mpld3, langdetect, overrides\n",
      "  Building wheel for terminaltables (setup.py) ... \u001b[?25l\u001b[?25hdone\n",
      "  Created wheel for terminaltables: filename=terminaltables-3.1.0-cp37-none-any.whl size=15356 sha256=c512eb624d996aab3faee8b28e23157ee2a087523efd05ab3fbd0630c1d27503\n",
      "  Stored in directory: /root/.cache/pip/wheels/30/6b/50/6c75775b681fb36cdfac7f19799888ef9d8813aff9e379663e\n",
      "  Building wheel for lru-dict (setup.py) ... \u001b[?25l\u001b[?25hdone\n",
      "  Created wheel for lru-dict: filename=lru_dict-1.1.7-cp37-cp37m-linux_x86_64.whl size=28373 sha256=a9e5741129927ecc7098467b3fe4262eda99270b6c0b7bafde649ac9d9246087\n",
      "  Stored in directory: /root/.cache/pip/wheels/ae/51/23/0a416781dead9225c7d66d25b9f223c7e32304e99a0b01d566\n",
      "  Building wheel for word2number (setup.py) ... \u001b[?25l\u001b[?25hdone\n",
      "  Created wheel for word2number: filename=word2number-1.1-cp37-none-any.whl size=5589 sha256=8b8cca7a8696c667fce66bcb39e2057054c28ae6bab95ebba1196de7b196ade0\n",
      "  Stored in directory: /root/.cache/pip/wheels/46/2f/53/5f5c1d275492f2fce1cdab9a9bb12d49286dead829a4078e0e\n",
      "  Building wheel for sqlitedict (setup.py) ... \u001b[?25l\u001b[?25hdone\n",
      "  Created wheel for sqlitedict: filename=sqlitedict-1.7.0-cp37-none-any.whl size=14376 sha256=4a0ad1bb7b6f1c97035cc001e927cfdc2b73450edb13f8b886c6f7f6e3425c9d\n",
      "  Stored in directory: /root/.cache/pip/wheels/cf/c6/4f/2c64a43f041415eb8b8740bd80e15e92f0d46c5e464d8e4b9b\n",
      "  Building wheel for segtok (setup.py) ... \u001b[?25l\u001b[?25hdone\n",
      "  Created wheel for segtok: filename=segtok-1.5.10-cp37-none-any.whl size=25019 sha256=57ea4c261a91003c34a51db14fd9207dfd906c7e3ba0a1ddda2a751bb88ccf00\n",
      "  Stored in directory: /root/.cache/pip/wheels/b4/39/f6/9ca1c5cabde964d728023b5751c3a206a5c8cc40252321fb6b\n",
      "  Building wheel for ftfy (setup.py) ... \u001b[?25l\u001b[?25hdone\n",
      "  Created wheel for ftfy: filename=ftfy-6.0.1-cp37-none-any.whl size=41573 sha256=dfb01ec7217299950bb3e5b6cae8be0ac7a99090db5e951cf25046a63a08413d\n",
      "  Stored in directory: /root/.cache/pip/wheels/ae/73/c7/9056e14b04919e5c262fe80b54133b1a88d73683d05d7ac65c\n",
      "  Building wheel for mpld3 (setup.py) ... \u001b[?25l\u001b[?25hdone\n",
      "  Created wheel for mpld3: filename=mpld3-0.3-cp37-none-any.whl size=116679 sha256=f095fc98e89e1a91db9b207ff21168725c635e3e82cf09a41dbd4ead0edd2d0c\n",
      "  Stored in directory: /root/.cache/pip/wheels/c0/47/fb/8a64f89aecfe0059830479308ad42d62e898a3e3cefdf6ba28\n",
      "  Building wheel for langdetect (setup.py) ... \u001b[?25l\u001b[?25hdone\n",
      "  Created wheel for langdetect: filename=langdetect-1.0.8-cp37-none-any.whl size=993193 sha256=1264125cb844a2a73828bbdf79dfe2b543952555b817e7efaee069220d1d559c\n",
      "  Stored in directory: /root/.cache/pip/wheels/8d/b3/aa/6d99de9f3841d7d3d40a60ea06e6d669e8e5012e6c8b947a57\n",
      "  Building wheel for overrides (setup.py) ... \u001b[?25l\u001b[?25hdone\n",
      "  Created wheel for overrides: filename=overrides-3.1.0-cp37-none-any.whl size=10174 sha256=5e38b5dea8b0062e3def3ab9b078ae13ecb2b82f8978b505911fbb4120404a49\n",
      "  Stored in directory: /root/.cache/pip/wheels/5c/24/13/6ef8600e6f147c95e595f1289a86a3cc82ed65df57582c65a9\n",
      "Successfully built terminaltables lru-dict word2number sqlitedict segtok ftfy mpld3 langdetect overrides\n",
      "\u001b[31mERROR: tensorflow 2.4.1 has requirement numpy~=1.19.2, but you'll have numpy 1.18.5 which is incompatible.\u001b[0m\n",
      "\u001b[31mERROR: datascience 0.10.6 has requirement folium==0.2.1, but you'll have folium 0.8.3 which is incompatible.\u001b[0m\n",
      "\u001b[31mERROR: albumentations 0.1.12 has requirement imgaug<0.2.7,>=0.2.5, but you'll have imgaug 0.2.9 which is incompatible.\u001b[0m\n",
      "\u001b[31mERROR: konoha 4.6.4 has requirement requests<3.0.0,>=2.25.1, but you'll have requests 2.23.0 which is incompatible.\u001b[0m\n",
      "Installing collected packages: fsspec, huggingface-hub, xxhash, numpy, datasets, terminaltables, lru-dict, num2words, word2number, tokenizers, sacremoses, transformers, bert-score, sqlitedict, sentencepiece, bpemb, overrides, konoha, segtok, ftfy, deprecated, mpld3, janome, langdetect, flair, language-tool-python, lemminflect, textattack\n",
      "  Found existing installation: numpy 1.19.5\n",
      "    Uninstalling numpy-1.19.5:\n",
      "      Successfully uninstalled numpy-1.19.5\n",
      "Successfully installed bert-score-0.3.9 bpemb-0.3.3 datasets-1.6.0 deprecated-1.2.12 flair-0.6.1.post1 fsspec-2021.4.0 ftfy-6.0.1 huggingface-hub-0.0.8 janome-0.4.1 konoha-4.6.4 langdetect-1.0.8 language-tool-python-2.5.3 lemminflect-0.2.2 lru-dict-1.1.7 mpld3-0.3 num2words-0.5.10 numpy-1.18.5 overrides-3.1.0 sacremoses-0.0.45 segtok-1.5.10 sentencepiece-0.1.95 sqlitedict-1.7.0 terminaltables-3.1.0 textattack-0.2.15 tokenizers-0.10.2 transformers-4.5.1 word2number-1.1 xxhash-2.0.2\n"
     ]
    },
    {
     "data": {
      "application/vnd.colab-display-data+json": {
       "pip_warning": {
        "packages": [
         "numpy"
        ]
       }
      }
     },
     "metadata": {
      "tags": []
     },
     "output_type": "display_data"
    },
    {
     "name": "stderr",
     "output_type": "stream",
     "text": [
      "\u001b[34;1mtextattack\u001b[0m: Updating TextAttack package dependencies.\n",
      "\u001b[34;1mtextattack\u001b[0m: Downloading NLTK required packages.\n"
     ]
    },
    {
     "name": "stdout",
     "output_type": "stream",
     "text": [
      "[nltk_data] Downloading package averaged_perceptron_tagger to\n",
      "[nltk_data]     /root/nltk_data...\n",
      "[nltk_data]   Unzipping taggers/averaged_perceptron_tagger.zip.\n",
      "[nltk_data] Downloading package stopwords to /root/nltk_data...\n",
      "[nltk_data]   Package stopwords is already up-to-date!\n",
      "[nltk_data] Downloading package omw to /root/nltk_data...\n",
      "[nltk_data]   Unzipping corpora/omw.zip.\n",
      "[nltk_data] Downloading package universal_tagset to /root/nltk_data...\n",
      "[nltk_data]   Unzipping taggers/universal_tagset.zip.\n",
      "[nltk_data] Downloading package wordnet to /root/nltk_data...\n",
      "[nltk_data]   Unzipping corpora/wordnet.zip.\n",
      "[nltk_data] Downloading package punkt to /root/nltk_data...\n",
      "[nltk_data]   Package punkt is already up-to-date!\n"
     ]
    },
    {
     "name": "stderr",
     "output_type": "stream",
     "text": [
      "\u001b[34;1mtextattack\u001b[0m: Downloading https://textattack.s3.amazonaws.com/word_embeddings/paragramcf.\n",
      "100%|██████████| 481M/481M [00:10<00:00, 44.7MB/s]\n",
      "\u001b[34;1mtextattack\u001b[0m: Unzipping file /root/.cache/textattack/tmpnq747grf.zip to /root/.cache/textattack/word_embeddings/paragramcf.\n",
      "\u001b[34;1mtextattack\u001b[0m: Successfully saved word_embeddings/paragramcf to cache.\n"
     ]
    }
   ],
   "source": [
    "import os \n",
    "\n",
    "import pandas as pd\n",
    "import numpy as np\n",
    "\n",
    "\"\"\"\n",
    "# import radial color histogram code, which can be found here:\n",
    "# https://github.com/gmorinan/radialColorHistogram\n",
    "from radialColorHistogram.color_density import ColorDensity\n",
    "from radialColorHistogram.radial_split import RadialSplitter\n",
    "\"\"\"\n",
    "\n",
    "from sklearn.model_selection import train_test_split\n",
    "\n",
    "from sklearn.svm import LinearSVC, SVC\n",
    "from sklearn.tree import DecisionTreeClassifier\n",
    "from sklearn.ensemble import RandomForestClassifier\n",
    "\n",
    "from sklearn.feature_extraction.text import TfidfVectorizer\n",
    "from sklearn.feature_extraction.text import CountVectorizer, TfidfTransformer\n",
    "from sklearn.naive_bayes import MultinomialNB\n",
    "\n",
    "import nltk\n",
    "from nltk.tokenize import word_tokenize\n",
    "from nltk import pos_tag\n",
    "from nltk.corpus import stopwords\n",
    "# from nltk.stem import WordNetLemmatizer\n",
    "# from nltk.corpus import wordnet as wn\n",
    "from collections import defaultdict\n",
    "import regex as re\n",
    "from nltk.tokenize import TweetTokenizer\n",
    "from nltk.stem import SnowballStemmer\n",
    "\n",
    "nltk.download('punkt')\n",
    "# nltk.download('averaged_perceptron_tagger')\n",
    "# nltk.download('wordnet')\n",
    "nltk.download('stopwords')\n",
    "\n",
    "try:\n",
    "  import contractiond\n",
    "except:\n",
    "  !pip install contractions\n",
    "  import contractions\n",
    "\n",
    "tweet_tokenizer = TweetTokenizer()\n",
    "# word_Lemmatized = WordNetLemmatizer()\n",
    "stop = set(stopwords.words(\"english\")) \n",
    "stemmer = SnowballStemmer(language=\"english\")\n",
    "\n",
    "from sklearn.pipeline import Pipeline\n",
    "from sklearn.pipeline import FeatureUnion\n",
    "from sklearn.preprocessing import FunctionTransformer\n",
    "\n",
    "try:\n",
    "  from zeugma.embeddings import EmbeddingTransformer\n",
    "except:\n",
    "  !pip install zeugma\n",
    "  from zeugma.embeddings import EmbeddingTransformer\n",
    "\n",
    "\n",
    "from xgboost import XGBClassifier\n",
    "\n",
    "from sklearn.linear_model import LogisticRegression\n",
    "from sklearn.multiclass import OneVsRestClassifier\n",
    "\n",
    "try:\n",
    "  from textattack.augmentation import WordNetAugmenter, EmbeddingAugmenter, EasyDataAugmenter\n",
    "except:\n",
    "  !pip install textattack\n",
    "  from textattack.augmentation import WordNetAugmenter, EmbeddingAugmenter, EasyDataAugmenter\n",
    "\n",
    "from sklearn.neighbors import KNeighborsClassifier"
   ]
  },
  {
   "cell_type": "markdown",
   "metadata": {
    "id": "OGMm2OraIDL4"
   },
   "source": [
    "### PP"
   ]
  },
  {
   "cell_type": "code",
   "execution_count": 2,
   "metadata": {
    "colab": {
     "base_uri": "https://localhost:8080/",
     "height": 204
    },
    "executionInfo": {
     "elapsed": 129173,
     "status": "ok",
     "timestamp": 1619356567942,
     "user": {
      "displayName": "Subhalingam D",
      "photoUrl": "https://lh3.googleusercontent.com/a-/AOh14Gg86bQ1NVmL-U0-lCsAdMpCA_G3d9fxrw_PlOwtJg=s64",
      "userId": "08059846138458314824"
     },
     "user_tz": -330
    },
    "id": "NKWlXqTxIKRe",
    "outputId": "8d3904ce-943b-40f4-fd46-4d7b6e64ca94"
   },
   "outputs": [
    {
     "data": {
      "text/html": [
       "<div>\n",
       "<style scoped>\n",
       "    .dataframe tbody tr th:only-of-type {\n",
       "        vertical-align: middle;\n",
       "    }\n",
       "\n",
       "    .dataframe tbody tr th {\n",
       "        vertical-align: top;\n",
       "    }\n",
       "\n",
       "    .dataframe thead th {\n",
       "        text-align: right;\n",
       "    }\n",
       "</style>\n",
       "<table border=\"1\" class=\"dataframe\">\n",
       "  <thead>\n",
       "    <tr style=\"text-align: right;\">\n",
       "      <th></th>\n",
       "      <th>ID</th>\n",
       "      <th>image id</th>\n",
       "      <th>text</th>\n",
       "      <th>label</th>\n",
       "      <th>label_num</th>\n",
       "    </tr>\n",
       "  </thead>\n",
       "  <tbody>\n",
       "    <tr>\n",
       "      <th>0</th>\n",
       "      <td>1</td>\n",
       "      <td>image_2455.jpg</td>\n",
       "      <td>- It is not our fight - Are we not part of thi...</td>\n",
       "      <td>troll</td>\n",
       "      <td>2</td>\n",
       "    </tr>\n",
       "    <tr>\n",
       "      <th>1</th>\n",
       "      <td>2</td>\n",
       "      <td>image_3701.jpg</td>\n",
       "      <td>THAT'S THE DIFFERENCE BETWEEN YOU AND ME  YOU...</td>\n",
       "      <td>none</td>\n",
       "      <td>0</td>\n",
       "    </tr>\n",
       "    <tr>\n",
       "      <th>2</th>\n",
       "      <td>3</td>\n",
       "      <td>image_4166.png</td>\n",
       "      <td>- WHAT DO THE TITANIC AND THE SIXTH SENSE HAVE...</td>\n",
       "      <td>none</td>\n",
       "      <td>0</td>\n",
       "    </tr>\n",
       "    <tr>\n",
       "      <th>3</th>\n",
       "      <td>4</td>\n",
       "      <td>448_image_batch_2.png</td>\n",
       "      <td>\"COME ON MAN, YOU KNOW THE THING.\\r\\nJUST ASK ...</td>\n",
       "      <td>troll</td>\n",
       "      <td>2</td>\n",
       "    </tr>\n",
       "    <tr>\n",
       "      <th>4</th>\n",
       "      <td>5</td>\n",
       "      <td>653_image_batch_2.png</td>\n",
       "      <td>\"Those who believe without reason cannot be co...</td>\n",
       "      <td>none</td>\n",
       "      <td>0</td>\n",
       "    </tr>\n",
       "  </tbody>\n",
       "</table>\n",
       "</div>"
      ],
      "text/plain": [
       "   ID               image id  ...  label label_num\n",
       "0   1         image_2455.jpg  ...  troll         2\n",
       "1   2         image_3701.jpg  ...   none         0\n",
       "2   3         image_4166.png  ...   none         0\n",
       "3   4  448_image_batch_2.png  ...  troll         2\n",
       "4   5  653_image_batch_2.png  ...   none         0\n",
       "\n",
       "[5 rows x 5 columns]"
      ]
     },
     "execution_count": 2,
     "metadata": {
      "tags": []
     },
     "output_type": "execute_result"
    }
   ],
   "source": [
    "root = \"/content/drive/MyDrive/MTL782-Memes Classifier/dataminingmtl782/\"\n",
    "train_path = \"train_images/train_images\"\n",
    "test_path = \"test_images\"\n",
    "\n",
    "train_dt = pd.read_csv(\"/content/drive/MyDrive/MTL782-Memes Classifier/dataminingmtl782/train.csv\")\n",
    "test_dt = pd.read_csv(\"/content/drive/MyDrive/MTL782-Memes Classifier/dataminingmtl782/test.csv\")\n",
    "train_dt.head()"
   ]
  },
  {
   "cell_type": "code",
   "execution_count": 58,
   "metadata": {
    "executionInfo": {
     "elapsed": 1267,
     "status": "ok",
     "timestamp": 1619357627681,
     "user": {
      "displayName": "Subhalingam D",
      "photoUrl": "https://lh3.googleusercontent.com/a-/AOh14Gg86bQ1NVmL-U0-lCsAdMpCA_G3d9fxrw_PlOwtJg=s64",
      "userId": "08059846138458314824"
     },
     "user_tz": -330
    },
    "id": "-P8G3H1EIsOc"
   },
   "outputs": [],
   "source": [
    "def preprocess_txt(text):\n",
    "\n",
    "  caps = True if text != text.lower() else False\n",
    "  multiline = True if '\\n' in text else False\n",
    "  bullet = True if '- ' in text else False\n",
    "\n",
    "  text = text.lower()   # ??\n",
    "  text = re.sub(r\"\\n\",\" \",text)\n",
    "  text = re.sub(r'((www\\.[^\\s]+)|(https?://[^\\s]+)|(http?://[^\\s]+))', '', text)\n",
    "  text = re.sub(r'(([^\\s]+\\.com)|([^\\s]+\\.net)|([^\\s]+\\.in))', '', text)\n",
    "  text = re.sub(r'http\\S+', '', text)\n",
    "  \n",
    "  # contractions fis\n",
    "  expanded_words = []\n",
    "  for word in text.split():\n",
    "    expanded_words.append(contractions.fix(word))\n",
    "  text = \" \".join(expanded_words)\n",
    "\n",
    "  \"\"\"\n",
    "  #$# text = text.replace(r'\\s+', ' ')\n",
    "  text = text.replace(\"@\",\"@ \")\n",
    "  text = re.sub(r'[^a-zA-Z0-9 \\@]', ' ', text) # ????\n",
    "  ## text = re.sub('@[^\\s]+','',text)\n",
    "  \"\"\"\n",
    "\n",
    "  text = re.sub(r'[^a-zA-Z0-9 \\.\\,\\-]', ' ', text) # ????\n",
    "\n",
    "  # Single character removal\n",
    "  text = re.sub(r\"\\s+[a-zA-Z]\\s+\", ' ', text)\n",
    "\n",
    "  # Removing multiple spaces\n",
    "  text = re.sub(r'\\s+', ' ', text)\n",
    "\n",
    "  #####text = tweet_tokenizer.tokenize(text)\n",
    "  text = word_tokenize(text)\n",
    "  text = [x for x in text if x not in stop]\n",
    "  \n",
    "  text = [stemmer.stem(x) for x in text]\n",
    "\n",
    "  ##text = [\"<CAPS>\"] + text if caps else text\n",
    "  text = [\"<MULTILINE>\"] + text if multiline else text\n",
    "  ##text = [\"<BULLET>\"] + text if bullet else text\n",
    "\n",
    "\n",
    "  text = \" \".join(text)\n",
    "\n",
    "\n",
    "  return text\n",
    "\n",
    "\n",
    "def preprocess_txt_mini(text):\n",
    "\n",
    "  text = re.sub(r'((www\\.[^\\s]+)|(https?://[^\\s]+)|(http?://[^\\s]+))', '', text)\n",
    "  text = re.sub(r'(([^\\s]+\\.com)|([^\\s]+\\.net)|([^\\s]+\\.in))', '', text)\n",
    "  text = re.sub(r'http\\S+', '', text)\n",
    "\n",
    "  text = re.sub(r'[^a-zA-Z0-9 \\.,\\?\\\\\\'\\\"\\:\\;\\#\\%\\!\\&\\-\\@\\n]', ' ', text) # ????\n",
    "\n",
    "  return text\n",
    "\n",
    "\n",
    "def tokenize(text): \n",
    "    tknzr = TweetTokenizer()\n",
    "    return tknzr.tokenize(text)\n",
    "\n",
    "def stem(doc):\n",
    "    return (stemmer.stem(w) for w in analyzer(doc))\n",
    "\n",
    "en_stopwords = set(stopwords.words(\"english\")) "
   ]
  },
  {
   "cell_type": "code",
   "execution_count": 59,
   "metadata": {
    "executionInfo": {
     "elapsed": 826,
     "status": "ok",
     "timestamp": 1619357627683,
     "user": {
      "displayName": "Subhalingam D",
      "photoUrl": "https://lh3.googleusercontent.com/a-/AOh14Gg86bQ1NVmL-U0-lCsAdMpCA_G3d9fxrw_PlOwtJg=s64",
      "userId": "08059846138458314824"
     },
     "user_tz": -330
    },
    "id": "qMNrhjVlISm0"
   },
   "outputs": [],
   "source": [
    "def get_files_labels(subpath,csv):\n",
    "    \"\"\"Gets paths images within a folder, and their labels\"\"\"\n",
    "    img_paths, img_labels, texts = [], [], []\n",
    "    df = pd.read_csv(root+csv)\n",
    "    i=0\n",
    "    for index, row in df.iterrows():\n",
    "        try:\n",
    "          img, text, label = row[\"image id\"], row[\"text\"], int(row[\"label_num\"])\n",
    "        except:\n",
    "          img, text, label = row[\"image id\"], row[\"text\"], -1\n",
    "        # print(img_,\": \",text_)\n",
    "        \n",
    "        ## Change this for img....>>>\n",
    "        ##$$# if not (i in [858, 1986, 1990] and csv==\"train.csv\"):\n",
    "        if True:\n",
    "          img_paths.append(root+subpath+'/'+img.strip())\n",
    "          img_labels.append(label)\n",
    "          ###texts.append(preprocess_txt(text))\n",
    "          ###texts.append(text)\n",
    "          texts.append(preprocess_txt_mini(text))\n",
    "        i+=1\n",
    "        #print('\\r images: {} labels : {}'.format(len(img_paths), len(img_labels)) )\n",
    "    return img_paths, img_labels, texts"
   ]
  },
  {
   "cell_type": "code",
   "execution_count": 60,
   "metadata": {
    "executionInfo": {
     "elapsed": 1873,
     "status": "ok",
     "timestamp": 1619357629579,
     "user": {
      "displayName": "Subhalingam D",
      "photoUrl": "https://lh3.googleusercontent.com/a-/AOh14Gg86bQ1NVmL-U0-lCsAdMpCA_G3d9fxrw_PlOwtJg=s64",
      "userId": "08059846138458314824"
     },
     "user_tz": -330
    },
    "id": "RcowII-vJCr9"
   },
   "outputs": [],
   "source": [
    "files_, y_, texts_ = get_files_labels(train_path,\"train.csv\")\n",
    "files_test, y_test, texts_test = get_files_labels(test_path,\"test.csv\")\n"
   ]
  },
  {
   "cell_type": "code",
   "execution_count": 61,
   "metadata": {
    "executionInfo": {
     "elapsed": 1764,
     "status": "ok",
     "timestamp": 1619357629582,
     "user": {
      "displayName": "Subhalingam D",
      "photoUrl": "https://lh3.googleusercontent.com/a-/AOh14Gg86bQ1NVmL-U0-lCsAdMpCA_G3d9fxrw_PlOwtJg=s64",
      "userId": "08059846138458314824"
     },
     "user_tz": -330
    },
    "id": "_UAyrOsRKizr"
   },
   "outputs": [],
   "source": [
    "X_train, X_val, y_train, y_val = train_test_split(\n",
    "    np.column_stack([files_, texts_]), y_, test_size=0.1, random_state=42, stratify=y_, shuffle=True)\n",
    "X_test = np.column_stack([files_test,texts_test])\n",
    "# X_train[0]"
   ]
  },
  {
   "cell_type": "code",
   "execution_count": 62,
   "metadata": {
    "executionInfo": {
     "elapsed": 1286,
     "status": "ok",
     "timestamp": 1619357629583,
     "user": {
      "displayName": "Subhalingam D",
      "photoUrl": "https://lh3.googleusercontent.com/a-/AOh14Gg86bQ1NVmL-U0-lCsAdMpCA_G3d9fxrw_PlOwtJg=s64",
      "userId": "08059846138458314824"
     },
     "user_tz": -330
    },
    "id": "wmXYldwzDhar"
   },
   "outputs": [],
   "source": [
    "##aug = EasyDataAugmenter()\n",
    "##aug.augment(texts_[0])"
   ]
  },
  {
   "cell_type": "code",
   "execution_count": 63,
   "metadata": {
    "executionInfo": {
     "elapsed": 579,
     "status": "ok",
     "timestamp": 1619357629584,
     "user": {
      "displayName": "Subhalingam D",
      "photoUrl": "https://lh3.googleusercontent.com/a-/AOh14Gg86bQ1NVmL-U0-lCsAdMpCA_G3d9fxrw_PlOwtJg=s64",
      "userId": "08059846138458314824"
     },
     "user_tz": -330
    },
    "id": "R1KRFIvOgFgv"
   },
   "outputs": [],
   "source": [
    "#X_val1 = X_val.copy()\n",
    "#np.all(X_val == X_val1)"
   ]
  },
  {
   "cell_type": "code",
   "execution_count": 64,
   "metadata": {
    "executionInfo": {
     "elapsed": 1128,
     "status": "ok",
     "timestamp": 1619357631247,
     "user": {
      "displayName": "Subhalingam D",
      "photoUrl": "https://lh3.googleusercontent.com/a-/AOh14Gg86bQ1NVmL-U0-lCsAdMpCA_G3d9fxrw_PlOwtJg=s64",
      "userId": "08059846138458314824"
     },
     "user_tz": -330
    },
    "id": "XWKbpNtdH9LJ"
   },
   "outputs": [],
   "source": [
    "def newaug(sentences,aug = EmbeddingAugmenter(),easy=False ):\n",
    "  new_sentences = []\n",
    "  for sentence in sentences:\n",
    "    if easy:\n",
    "      sen = aug.augment(sentence)\n",
    "      idx,le = 0,0\n",
    "      for i in range(len(sen)):\n",
    "        if len(sen[i]) > le:\n",
    "          le = len(sen[i])\n",
    "          idx = i\n",
    "      new_sentences.append(sen[idx])     \n",
    "    else:\n",
    "      new_sentences.append(aug.augment(sentence)[0])\n",
    "  return new_sentences\n",
    "\n",
    "# newaug(X_train[:,1])[0]\n",
    "# newaug([\"HELLO from New York!\",\"I'm fine!\"],WordNetAugmenter())"
   ]
  },
  {
   "cell_type": "code",
   "execution_count": 65,
   "metadata": {
    "colab": {
     "base_uri": "https://localhost:8080/"
    },
    "executionInfo": {
     "elapsed": 75129,
     "status": "ok",
     "timestamp": 1619357705260,
     "user": {
      "displayName": "Subhalingam D",
      "photoUrl": "https://lh3.googleusercontent.com/a-/AOh14Gg86bQ1NVmL-U0-lCsAdMpCA_G3d9fxrw_PlOwtJg=s64",
      "userId": "08059846138458314824"
     },
     "user_tz": -330
    },
    "id": "gHr0nhuWH9q7",
    "outputId": "7583f6d2-ea0d-4932-94b8-247360897fb7"
   },
   "outputs": [
    {
     "name": "stdout",
     "output_type": "stream",
     "text": [
      "Done0\n"
     ]
    }
   ],
   "source": [
    "X_train_wn = newaug(X_train[:,1], aug=WordNetAugmenter())\n",
    "print(\"Done0\")\n",
    "#X_train_emb = newaug(X_train[:,1], aug=EmbeddingAugmenter())\n",
    "#print(\"Done1\")\n",
    "#X_train_ed = newaug(X_train[:,1], aug=EasyDataAugmenter(), easy=True)\n"
   ]
  },
  {
   "cell_type": "code",
   "execution_count": 66,
   "metadata": {
    "colab": {
     "base_uri": "https://localhost:8080/",
     "height": 54
    },
    "executionInfo": {
     "elapsed": 1028,
     "status": "ok",
     "timestamp": 1619357706320,
     "user": {
      "displayName": "Subhalingam D",
      "photoUrl": "https://lh3.googleusercontent.com/a-/AOh14Gg86bQ1NVmL-U0-lCsAdMpCA_G3d9fxrw_PlOwtJg=s64",
      "userId": "08059846138458314824"
     },
     "user_tz": -330
    },
    "id": "m72YjdbZLHyi",
    "outputId": "43e8248f-d162-4a71-8dee-bd1035f5bbca"
   },
   "outputs": [
    {
     "data": {
      "application/vnd.google.colaboratory.intrinsic+json": {
       "type": "string"
      },
      "text/plain": [
       "'\\nimport pickle \\n\\nopen_file = open(\"04-25-modpp__X_train_wn.pkl\", \"rb\")\\nX_train_wn = pickle.load(open_file)\\nopen_file.close()\\n'"
      ]
     },
     "execution_count": 66,
     "metadata": {
      "tags": []
     },
     "output_type": "execute_result"
    }
   ],
   "source": [
    "\"\"\"\n",
    "import pickle \n",
    "\n",
    "open_file = open(\"04-25-modpp__X_train_wn.pkl\", \"rb\")\n",
    "X_train_wn = pickle.load(open_file)\n",
    "open_file.close()\n",
    "\"\"\""
   ]
  },
  {
   "cell_type": "code",
   "execution_count": 67,
   "metadata": {
    "executionInfo": {
     "elapsed": 2802,
     "status": "ok",
     "timestamp": 1619357708115,
     "user": {
      "displayName": "Subhalingam D",
      "photoUrl": "https://lh3.googleusercontent.com/a-/AOh14Gg86bQ1NVmL-U0-lCsAdMpCA_G3d9fxrw_PlOwtJg=s64",
      "userId": "08059846138458314824"
     },
     "user_tz": -330
    },
    "id": "UKdZWOrpJh67"
   },
   "outputs": [],
   "source": [
    "## print(X_train[0,1])\n",
    "for i in range(X_train.shape[0]):\n",
    "  X_train[i,1] = preprocess_txt(X_train[i,1])\n",
    "\n",
    "for i in range(X_val.shape[0]):\n",
    "  X_val[i,1] = preprocess_txt(X_val[i,1])\n",
    "\n",
    "for i in range(X_test.shape[0]):\n",
    "  X_test[i,1] = preprocess_txt(X_test[i,1])"
   ]
  },
  {
   "cell_type": "code",
   "execution_count": 68,
   "metadata": {
    "colab": {
     "base_uri": "https://localhost:8080/",
     "height": 54
    },
    "executionInfo": {
     "elapsed": 2800,
     "status": "ok",
     "timestamp": 1619357708126,
     "user": {
      "displayName": "Subhalingam D",
      "photoUrl": "https://lh3.googleusercontent.com/a-/AOh14Gg86bQ1NVmL-U0-lCsAdMpCA_G3d9fxrw_PlOwtJg=s64",
      "userId": "08059846138458314824"
     },
     "user_tz": -330
    },
    "id": "oZhGvfunQn-m",
    "outputId": "50505351-4b85-4de3-eb04-ce560074269c"
   },
   "outputs": [
    {
     "data": {
      "application/vnd.google.colaboratory.intrinsic+json": {
       "type": "string"
      },
      "text/plain": [
       "'20 years later and all of these things burst in your pocket. nfigueiroa   9GAG HOLI L500 LINI NORACY IX Follow @9GAG on Instagram!'"
      ]
     },
     "execution_count": 68,
     "metadata": {
      "tags": []
     },
     "output_type": "execute_result"
    }
   ],
   "source": [
    "X_train_wn[0]"
   ]
  },
  {
   "cell_type": "code",
   "execution_count": 69,
   "metadata": {
    "executionInfo": {
     "elapsed": 4041,
     "status": "ok",
     "timestamp": 1619357709387,
     "user": {
      "displayName": "Subhalingam D",
      "photoUrl": "https://lh3.googleusercontent.com/a-/AOh14Gg86bQ1NVmL-U0-lCsAdMpCA_G3d9fxrw_PlOwtJg=s64",
      "userId": "08059846138458314824"
     },
     "user_tz": -330
    },
    "id": "7-PZ2HyXJv8E"
   },
   "outputs": [],
   "source": [
    "for i in range(X_train.shape[0]):\n",
    "  X_train_wn[i] = preprocess_txt(X_train_wn[i])\n",
    "  #X_train_emb[i] = preprocess_txt(X_train_emb[i])\n",
    "  #X_train_ed[i] = preprocess_txt(X_train_ed[i])\n"
   ]
  },
  {
   "cell_type": "code",
   "execution_count": 70,
   "metadata": {
    "colab": {
     "base_uri": "https://localhost:8080/",
     "height": 71
    },
    "executionInfo": {
     "elapsed": 4032,
     "status": "ok",
     "timestamp": 1619357709389,
     "user": {
      "displayName": "Subhalingam D",
      "photoUrl": "https://lh3.googleusercontent.com/a-/AOh14Gg86bQ1NVmL-U0-lCsAdMpCA_G3d9fxrw_PlOwtJg=s64",
      "userId": "08059846138458314824"
     },
     "user_tz": -330
    },
    "id": "fjTFEMJCnuib",
    "outputId": "e66ab99a-403a-4e7f-8352-dfaa6a090bd7"
   },
   "outputs": [
    {
     "data": {
      "application/vnd.google.colaboratory.intrinsic+json": {
       "type": "string"
      },
      "text/plain": [
       "'\\nopen_file = open(\"X_train_emb1.pkl\", \"rb\")\\nX_train_emb = pickle.load(open_file)\\nopen_file.close()\\n\\n\\nopen_file = open(\"X_train_wn.pkl\", \"rb\")\\nX_train_wn = pickle.load(open_file)\\nopen_file.close()\\n'"
      ]
     },
     "execution_count": 70,
     "metadata": {
      "tags": []
     },
     "output_type": "execute_result"
    }
   ],
   "source": [
    "import pickle \n",
    "\"\"\"\n",
    "open_file = open(\"X_train_emb1.pkl\", \"rb\")\n",
    "X_train_emb = pickle.load(open_file)\n",
    "open_file.close()\n",
    "\n",
    "\n",
    "open_file = open(\"X_train_wn.pkl\", \"rb\")\n",
    "X_train_wn = pickle.load(open_file)\n",
    "open_file.close()\n",
    "\"\"\""
   ]
  },
  {
   "cell_type": "code",
   "execution_count": 71,
   "metadata": {
    "colab": {
     "base_uri": "https://localhost:8080/",
     "height": 37
    },
    "executionInfo": {
     "elapsed": 4008,
     "status": "ok",
     "timestamp": 1619357709390,
     "user": {
      "displayName": "Subhalingam D",
      "photoUrl": "https://lh3.googleusercontent.com/a-/AOh14Gg86bQ1NVmL-U0-lCsAdMpCA_G3d9fxrw_PlOwtJg=s64",
      "userId": "08059846138458314824"
     },
     "user_tz": -330
    },
    "id": "OzRI0WMNfLb9",
    "outputId": "cee4629c-a893-4276-a6b7-760959cad21c"
   },
   "outputs": [
    {
     "data": {
      "application/vnd.google.colaboratory.intrinsic+json": {
       "type": "string"
      },
      "text/plain": [
       "'20 year later thing burst pocket . nfigueiroa 9gag holi l500 lini noraci ix follow 9gag instagram'"
      ]
     },
     "execution_count": 71,
     "metadata": {
      "tags": []
     },
     "output_type": "execute_result"
    }
   ],
   "source": [
    "X_train_wn[0]"
   ]
  },
  {
   "cell_type": "code",
   "execution_count": 72,
   "metadata": {
    "executionInfo": {
     "elapsed": 3988,
     "status": "ok",
     "timestamp": 1619357709391,
     "user": {
      "displayName": "Subhalingam D",
      "photoUrl": "https://lh3.googleusercontent.com/a-/AOh14Gg86bQ1NVmL-U0-lCsAdMpCA_G3d9fxrw_PlOwtJg=s64",
      "userId": "08059846138458314824"
     },
     "user_tz": -330
    },
    "id": "vYSyj-mrkkZM"
   },
   "outputs": [],
   "source": [
    "def augment(sentences,n):\n",
    "    import random\n",
    "    random.seed(42)\n",
    "    new_sentences = []\n",
    "    for _ in range(n):\n",
    "      for sentence in sentences:\n",
    "        words = sentence.split()\n",
    "        random.shuffle(words)\n",
    "        new_sentences.append(' '.join(words))\n",
    "    return new_sentences"
   ]
  },
  {
   "cell_type": "code",
   "execution_count": 73,
   "metadata": {
    "executionInfo": {
     "elapsed": 3983,
     "status": "ok",
     "timestamp": 1619357709392,
     "user": {
      "displayName": "Subhalingam D",
      "photoUrl": "https://lh3.googleusercontent.com/a-/AOh14Gg86bQ1NVmL-U0-lCsAdMpCA_G3d9fxrw_PlOwtJg=s64",
      "userId": "08059846138458314824"
     },
     "user_tz": -330
    },
    "id": "oIu3euxqqetW"
   },
   "outputs": [],
   "source": [
    "def get_synonyms_lexicon(path=\"ppdb-xl.txt\"):\n",
    "    synonyms_lexicon = {}\n",
    "    text_entries = [l.strip() for l in open(path).readlines()]\n",
    "    for e in text_entries:\n",
    "        e = e.split(' ')\n",
    "        k = e[0]\n",
    "        v = e[1:len(e)]\n",
    "        synonyms_lexicon[k] = v\n",
    "    return synonyms_lexicon\n",
    "\n",
    "synonyms = get_synonyms_lexicon()"
   ]
  },
  {
   "cell_type": "code",
   "execution_count": 73,
   "metadata": {
    "executionInfo": {
     "elapsed": 3978,
     "status": "ok",
     "timestamp": 1619357709393,
     "user": {
      "displayName": "Subhalingam D",
      "photoUrl": "https://lh3.googleusercontent.com/a-/AOh14Gg86bQ1NVmL-U0-lCsAdMpCA_G3d9fxrw_PlOwtJg=s64",
      "userId": "08059846138458314824"
     },
     "user_tz": -330
    },
    "id": "Wmg4AvXQqylH"
   },
   "outputs": [],
   "source": []
  },
  {
   "cell_type": "code",
   "execution_count": 74,
   "metadata": {
    "colab": {
     "base_uri": "https://localhost:8080/"
    },
    "executionInfo": {
     "elapsed": 3968,
     "status": "ok",
     "timestamp": 1619357709394,
     "user": {
      "displayName": "Subhalingam D",
      "photoUrl": "https://lh3.googleusercontent.com/a-/AOh14Gg86bQ1NVmL-U0-lCsAdMpCA_G3d9fxrw_PlOwtJg=s64",
      "userId": "08059846138458314824"
     },
     "user_tz": -330
    },
    "id": "gPkss-5UlmKq",
    "outputId": "079d4cdf-e15e-403d-b377-829df95c8e8b"
   },
   "outputs": [
    {
     "data": {
      "text/plain": [
       "('20 year later thing fit pocket . nfigueiroa 9gag holi l500 lini noraci 9 follow 9gag instagram',\n",
       " 'nfigueiroa l500 pocket . 9gag follow 9 holi 9gag year later noraci instagram fit lini 20 thing')"
      ]
     },
     "execution_count": 74,
     "metadata": {
      "tags": []
     },
     "output_type": "execute_result"
    }
   ],
   "source": [
    "X_train2 = augment(X_train[:,1],1)\n",
    "X_train[:,1][0],X_train2[0]"
   ]
  },
  {
   "cell_type": "code",
   "execution_count": 75,
   "metadata": {
    "colab": {
     "base_uri": "https://localhost:8080/",
     "height": 54
    },
    "executionInfo": {
     "elapsed": 3943,
     "status": "ok",
     "timestamp": 1619357709395,
     "user": {
      "displayName": "Subhalingam D",
      "photoUrl": "https://lh3.googleusercontent.com/a-/AOh14Gg86bQ1NVmL-U0-lCsAdMpCA_G3d9fxrw_PlOwtJg=s64",
      "userId": "08059846138458314824"
     },
     "user_tz": -330
    },
    "id": "0MUym9-1q3pB",
    "outputId": "c965ed98-6f4a-4b5e-99b5-99be11cd48c2"
   },
   "outputs": [
    {
     "data": {
      "application/vnd.google.colaboratory.intrinsic+json": {
       "type": "string"
      },
      "text/plain": [
       "'20 annum later thing appropriate pocket ... nfigueiroa 9gag holi l500 lini noraci nine follow 9gag instagram'"
      ]
     },
     "execution_count": 75,
     "metadata": {
      "tags": []
     },
     "output_type": "execute_result"
    }
   ],
   "source": [
    "X_train1 = []\n",
    "for sentence in X_train[:,1]:\n",
    "  new_sentence = []\n",
    "  for word in sentence.split():\n",
    "    if word in synonyms.keys():\n",
    "      new_sentence.append(synonyms[word][0])\n",
    "    else:\n",
    "      new_sentence.append(word)\n",
    "  X_train1.append(\" \".join(new_sentence))\n",
    "\n",
    "X_train1[0]"
   ]
  },
  {
   "cell_type": "code",
   "execution_count": 21,
   "metadata": {
    "executionInfo": {
     "elapsed": 82826,
     "status": "ok",
     "timestamp": 1619356651545,
     "user": {
      "displayName": "Subhalingam D",
      "photoUrl": "https://lh3.googleusercontent.com/a-/AOh14Gg86bQ1NVmL-U0-lCsAdMpCA_G3d9fxrw_PlOwtJg=s64",
      "userId": "08059846138458314824"
     },
     "user_tz": -330
    },
    "id": "6naE3oCOLQtE"
   },
   "outputs": [],
   "source": [
    "def img_col(X):\n",
    "    return X[:,0]\n",
    "\n",
    "def text_col(X):\n",
    "    return X[:,1]\n"
   ]
  },
  {
   "cell_type": "code",
   "execution_count": 32,
   "metadata": {
    "colab": {
     "base_uri": "https://localhost:8080/",
     "height": 37
    },
    "executionInfo": {
     "elapsed": 2046,
     "status": "ok",
     "timestamp": 1619349796342,
     "user": {
      "displayName": "Subhalingam D",
      "photoUrl": "https://lh3.googleusercontent.com/a-/AOh14Gg86bQ1NVmL-U0-lCsAdMpCA_G3d9fxrw_PlOwtJg=s64",
      "userId": "08059846138458314824"
     },
     "user_tz": -330
    },
    "id": "8xdHl0Q5qhBZ",
    "outputId": "3165edbb-7a36-4742-b596-80f13e902250"
   },
   "outputs": [
    {
     "data": {
      "application/vnd.google.colaboratory.intrinsic+json": {
       "type": "string"
      },
      "text/plain": [
       "'ali'"
      ]
     },
     "execution_count": 32,
     "metadata": {
      "tags": []
     },
     "output_type": "execute_result"
    }
   ],
   "source": [
    "preprocess_txt(\"ali imgflip.com\")"
   ]
  },
  {
   "cell_type": "code",
   "execution_count": 33,
   "metadata": {
    "colab": {
     "base_uri": "https://localhost:8080/",
     "height": 164
    },
    "executionInfo": {
     "elapsed": 2020,
     "status": "error",
     "timestamp": 1619349796344,
     "user": {
      "displayName": "Subhalingam D",
      "photoUrl": "https://lh3.googleusercontent.com/a-/AOh14Gg86bQ1NVmL-U0-lCsAdMpCA_G3d9fxrw_PlOwtJg=s64",
      "userId": "08059846138458314824"
     },
     "user_tz": -330
    },
    "id": "y2JhHZNN6ACj",
    "outputId": "bd68d155-df55-48c4-df3a-67d1fea0db2d"
   },
   "outputs": [
    {
     "ename": "NameError",
     "evalue": "ignored",
     "output_type": "error",
     "traceback": [
      "\u001b[0;31m---------------------------------------------------------------------------\u001b[0m",
      "\u001b[0;31mNameError\u001b[0m                                 Traceback (most recent call last)",
      "\u001b[0;32m<ipython-input-33-b33d5d4d3b24>\u001b[0m in \u001b[0;36m<module>\u001b[0;34m()\u001b[0m\n\u001b[0;32m----> 1\u001b[0;31m \u001b[0mtweet_tokenizer\u001b[0m\u001b[0;34m.\u001b[0m\u001b[0mtokenize\u001b[0m\u001b[0;34m(\u001b[0m\u001b[0mtext\u001b[0m\u001b[0;34m)\u001b[0m\u001b[0;34m\u001b[0m\u001b[0;34m\u001b[0m\u001b[0m\n\u001b[0m",
      "\u001b[0;31mNameError\u001b[0m: name 'text' is not defined"
     ]
    }
   ],
   "source": [
    "tweet_tokenizer.tokenize(text)"
   ]
  },
  {
   "cell_type": "code",
   "execution_count": null,
   "metadata": {
    "executionInfo": {
     "elapsed": 2014,
     "status": "aborted",
     "timestamp": 1619349796343,
     "user": {
      "displayName": "Subhalingam D",
      "photoUrl": "https://lh3.googleusercontent.com/a-/AOh14Gg86bQ1NVmL-U0-lCsAdMpCA_G3d9fxrw_PlOwtJg=s64",
      "userId": "08059846138458314824"
     },
     "user_tz": -330
    },
    "id": "-LffGO-s2oUN"
   },
   "outputs": [],
   "source": [
    "X_train_______ = X_train.copy()\n",
    "X_train1_______ = X_train1.copy()"
   ]
  },
  {
   "cell_type": "code",
   "execution_count": null,
   "metadata": {
    "id": "PXpad8gv3Q5h"
   },
   "outputs": [],
   "source": [
    "for i in range(X_train.shape[0]):\n",
    "  if X_train[i,1] != X_train_______[i,1]:\n",
    "    print(i, '\\n', X_train[i,1],'\\n', X_train_______[i,1])\n",
    "    break\n"
   ]
  },
  {
   "cell_type": "code",
   "execution_count": null,
   "metadata": {
    "id": "TUA4Slli8Q2H"
   },
   "outputs": [],
   "source": [
    "for i in range(X_train.shape[0]):\n",
    "  if  X_train1[i] != X_train1_______[i]:\n",
    "    print(i, '\\n', X_train1[i],'\\n', X_train1_______[i])\n",
    "    break\n"
   ]
  },
  {
   "cell_type": "markdown",
   "metadata": {
    "id": "-14qEINpEXZe"
   },
   "source": [
    "### Text"
   ]
  },
  {
   "cell_type": "code",
   "execution_count": 201,
   "metadata": {
    "colab": {
     "base_uri": "https://localhost:8080/"
    },
    "executionInfo": {
     "elapsed": 26887,
     "status": "ok",
     "timestamp": 1619363107985,
     "user": {
      "displayName": "Subhalingam D",
      "photoUrl": "https://lh3.googleusercontent.com/a-/AOh14Gg86bQ1NVmL-U0-lCsAdMpCA_G3d9fxrw_PlOwtJg=s64",
      "userId": "08059846138458314824"
     },
     "user_tz": -330
    },
    "id": "DuBxrdYBEdYa",
    "outputId": "0cb251ca-a5c3-489b-e82a-f1013dc7c344"
   },
   "outputs": [
    {
     "name": "stdout",
     "output_type": "stream",
     "text": [
      "[Pipeline] .............. (step 1 of 3) Processing vect, total=   0.2s\n",
      "[Pipeline] ............. (step 2 of 3) Processing tfidf, total=   0.0s\n",
      "[Pipeline] ............... (step 3 of 3) Processing clf, total=  25.8s\n"
     ]
    },
    {
     "name": "stderr",
     "output_type": "stream",
     "text": [
      "/usr/local/lib/python3.7/dist-packages/sklearn/svm/_base.py:231: ConvergenceWarning: Solver terminated early (max_iter=5000).  Consider pre-processing your data with StandardScaler or MinMaxScaler.\n",
      "  % self.max_iter, ConvergenceWarning)\n"
     ]
    },
    {
     "data": {
      "text/plain": [
       "Pipeline(memory=None,\n",
       "         steps=[('vect',\n",
       "                 CountVectorizer(analyzer='word', binary=False,\n",
       "                                 decode_error='strict',\n",
       "                                 dtype=<class 'numpy.int64'>, encoding='utf-8',\n",
       "                                 input='content', lowercase=True, max_df=600,\n",
       "                                 max_features=None, min_df=3,\n",
       "                                 ngram_range=(1, 2), preprocessor=None,\n",
       "                                 stop_words=None, strip_accents=None,\n",
       "                                 token_pattern='(?u)\\\\b\\\\w\\\\w+\\\\b',\n",
       "                                 tokenizer=None, vocabulary=None)),\n",
       "                ('tfidf',\n",
       "                 TfidfTransformer(norm='l2', smooth_idf=True,\n",
       "                                  sublinear_tf=False, use_idf=True)),\n",
       "                ('clf',\n",
       "                 SVC(C=1, break_ties=False, cache_size=200, class_weight=None,\n",
       "                     coef0=0.0, decision_function_shape='ovr', degree=3,\n",
       "                     gamma='scale', kernel='rbf', max_iter=5000,\n",
       "                     probability=True, random_state=42, shrinking=True,\n",
       "                     tol=0.001, verbose=False))],\n",
       "         verbose=1)"
      ]
     },
     "execution_count": 201,
     "metadata": {
      "tags": []
     },
     "output_type": "execute_result"
    }
   ],
   "source": [
    "from sklearn.preprocessing import FunctionTransformer\n",
    "from sklearn.utils import shuffle\n",
    "\n",
    "\"\"\"\n",
    "text_pipe = Pipeline([\n",
    "                     (\"tdidf\",TfidfVectorizer(\n",
    "                        min_df=4, norm='l2', \n",
    "                        encoding='utf-8', \n",
    "                        ngram_range=(1,   ))),\n",
    "                     (\"svc\",SVC(kernel='linear',probability=True, C=10, max_iter=50000, random_state=2020))\n",
    "                    ],\n",
    "                    verbose = 1)\n",
    "\"\"\"\n",
    "\n",
    "\"\"\"\n",
    "text_pipe = Pipeline([\n",
    "        #('vect', CountVectorizer()),\n",
    "        #('tfidf', TfidfTransformer()),\n",
    "        (\"tdidf\",TfidfVectorizer(\n",
    "                        min_df=3, norm='l2', \n",
    "                        encoding='utf-8', \n",
    "                        lowercase = True,\n",
    "                        ngram_range=(1, 2),\n",
    "                        preprocessor = None)),\n",
    "        ('clf', SVC(C=2,random_state=42,probability=True))\n",
    "        ],\n",
    "        verbose = 1)\n",
    "\"\"\"\n",
    "######################################\n",
    "\n",
    "\n",
    "## BEST\n",
    "text_pipe = Pipeline([\n",
    "        ('vect', CountVectorizer(analyzer = 'word',\n",
    "                  lowercase = True,\n",
    "                  ngram_range=(1, 2),\n",
    "                  preprocessor = None,\n",
    "                  min_df=3, max_df=600,\n",
    "                   ) ),\n",
    "        ('tfidf', TfidfTransformer(sublinear_tf=False)),\n",
    "        ('clf', SVC(C=1, max_iter=5000, random_state=42, probability=True)) ],\n",
    "        verbose = 1)\n",
    "\n",
    "\n",
    "\"\"\"\n",
    "text_pipe = Pipeline([\n",
    "        ('vect', CountVectorizer(analyzer = 'word',\n",
    "                  lowercase = True,\n",
    "                  ngram_range=(1, 2),\n",
    "                  preprocessor = None,\n",
    "                  min_df=5, max_df=600,\n",
    "                   ) ),\n",
    "        ('tfidf', TfidfTransformer(sublinear_tf=False)),\n",
    "        ('clf', MultinomialNB() ) ],\n",
    "        verbose = 1)\n",
    "\"\"\"\n",
    "\n",
    "\n",
    "'''\n",
    "text_pipe = Pipeline([\n",
    "        ('vect', CountVectorizer(analyzer = 'word',\n",
    "                  lowercase = True,\n",
    "                  ngram_range=(1, 3),\n",
    "                  preprocessor = None,\n",
    "                  min_df=9, \n",
    "                   ) ),\n",
    "        ('tfidf', TfidfTransformer(sublinear_tf=False)),\n",
    "        ('clf', XGBClassifier(\n",
    "    gamma=4,\n",
    "    eta=0.8,\n",
    "    reg_alpha=0.5,\n",
    "    reg_lambda=0.5\n",
    ") )],\n",
    "        verbose = 1)\n",
    "'''\n",
    "\n",
    "\"\"\"\n",
    "### emb = EmbeddingTransformer('fasttext')\n",
    "\n",
    "text_pipe = Pipeline([\n",
    "        # ('pp', FunctionTransformer(preprocess_txt) ),\n",
    "        ('vect', EmbeddingTransformer('glove') ),  # glove, word2vec, fasttext\n",
    "        ('clf', SVC(C=2, random_state=42) )],\n",
    "        verbose = 1)\n",
    "\"\"\"\n",
    "\n",
    "'''\n",
    "text_pipe = Pipeline([\n",
    "        # ('pp', FunctionTransformer(preprocess_txt) ),\n",
    "        ('vect', EmbeddingTransformer('glove') ),  # glove, word2vec, fasttext\n",
    "        # ('clf', LogisticRegression(class_weight=\"balanced\", random_state=42),\n",
    "        ('clf', OneVsRestClassifier( LogisticRegression(solver=\"sag\", class_weight=\"balanced\", random_state=42) ) )\n",
    "        ],\n",
    "\n",
    "        verbose = 1)\n",
    "'''\n",
    "\n",
    "'''\n",
    "text_pipe = Pipeline([\n",
    "        ('vect', CountVectorizer(analyzer = 'word',\n",
    "                  lowercase = True,\n",
    "                  ngram_range=(1, 2),\n",
    "                  preprocessor = None,\n",
    "                  min_df=3, max_df=600,\n",
    "                   ) ),\n",
    "        ('tfidf', TfidfTransformer(sublinear_tf=False)),\n",
    "        # ('clf', LogisticRegression(class_weight=\"balanced\", random_state=42),\n",
    "        ('clf', OneVsRestClassifier( LogisticRegression(class_weight=\"balanced\", random_state=42) ) \n",
    "        )],\n",
    "        verbose = 1)\n",
    "\n",
    "'''\n",
    "\n",
    "_XX_, _YY_ = shuffle( list( X_train[:,1])+X_train1+ X_train_wn ,3*[x for x in y_train] , random_state=42)\n",
    "text_pipe.fit( _XX_,_YY_ )"
   ]
  },
  {
   "cell_type": "code",
   "execution_count": 202,
   "metadata": {
    "executionInfo": {
     "elapsed": 22422,
     "status": "ok",
     "timestamp": 1619363109818,
     "user": {
      "displayName": "Subhalingam D",
      "photoUrl": "https://lh3.googleusercontent.com/a-/AOh14Gg86bQ1NVmL-U0-lCsAdMpCA_G3d9fxrw_PlOwtJg=s64",
      "userId": "08059846138458314824"
     },
     "user_tz": -330
    },
    "id": "ORpUlq4gbu7c"
   },
   "outputs": [],
   "source": [
    "# make predictions\n",
    "y_pred_train_text = text_pipe.predict(X_train[:,1])\n",
    "y_pred_val_text = text_pipe.predict(X_val[:,1])\n",
    "y_pred_test_text = text_pipe.predict(X_test[:,1])"
   ]
  },
  {
   "cell_type": "code",
   "execution_count": 203,
   "metadata": {
    "colab": {
     "base_uri": "https://localhost:8080/"
    },
    "executionInfo": {
     "elapsed": 20747,
     "status": "ok",
     "timestamp": 1619363109824,
     "user": {
      "displayName": "Subhalingam D",
      "photoUrl": "https://lh3.googleusercontent.com/a-/AOh14Gg86bQ1NVmL-U0-lCsAdMpCA_G3d9fxrw_PlOwtJg=s64",
      "userId": "08059846138458314824"
     },
     "user_tz": -330
    },
    "id": "gGjZeeGDb1m9",
    "outputId": "8fe5f6d8-314e-4526-db25-ab7a33856bac"
   },
   "outputs": [
    {
     "name": "stdout",
     "output_type": "stream",
     "text": [
      "              precision    recall  f1-score   support\n",
      "\n",
      "           0       0.99      0.99      0.99       543\n",
      "           1       1.00      1.00      1.00       620\n",
      "           2       1.00      0.99      0.99       628\n",
      "\n",
      "    accuracy                           0.99      1791\n",
      "   macro avg       0.99      0.99      0.99      1791\n",
      "weighted avg       0.99      0.99      0.99      1791\n",
      "\n",
      "              precision    recall  f1-score   support\n",
      "\n",
      "           0       0.38      0.26      0.31        61\n",
      "           1       0.42      0.52      0.46        69\n",
      "           2       0.42      0.43      0.42        70\n",
      "\n",
      "    accuracy                           0.41       200\n",
      "   macro avg       0.41      0.40      0.40       200\n",
      "weighted avg       0.41      0.41      0.40       200\n",
      "\n"
     ]
    }
   ],
   "source": [
    "from sklearn.metrics import classification_report\n",
    "print(classification_report([x for x in y_train ], y_pred_train_text))\n",
    "print(classification_report([x for x in y_val], y_pred_val_text))"
   ]
  },
  {
   "cell_type": "code",
   "execution_count": null,
   "metadata": {
    "id": "rJKO3x8EcAyp"
   },
   "outputs": [],
   "source": [
    "print(*y_pred_test_text,sep=\"\\n\")"
   ]
  },
  {
   "cell_type": "code",
   "execution_count": 80,
   "metadata": {
    "colab": {
     "base_uri": "https://localhost:8080/",
     "height": 324
    },
    "executionInfo": {
     "elapsed": 11598,
     "status": "error",
     "timestamp": 1619357717123,
     "user": {
      "displayName": "Subhalingam D",
      "photoUrl": "https://lh3.googleusercontent.com/a-/AOh14Gg86bQ1NVmL-U0-lCsAdMpCA_G3d9fxrw_PlOwtJg=s64",
      "userId": "08059846138458314824"
     },
     "user_tz": -330
    },
    "id": "udHLE0Ktu1eN",
    "outputId": "44cc611d-1b1d-4387-8f76-b191462edc04"
   },
   "outputs": [
    {
     "ename": "AttributeError",
     "evalue": "ignored",
     "output_type": "error",
     "traceback": [
      "\u001b[0;31m---------------------------------------------------------------------------\u001b[0m",
      "\u001b[0;31mAttributeError\u001b[0m                            Traceback (most recent call last)",
      "\u001b[0;32m<ipython-input-80-40aec777e07d>\u001b[0m in \u001b[0;36m<module>\u001b[0;34m()\u001b[0m\n\u001b[0;32m----> 1\u001b[0;31m \u001b[0mftxt_v\u001b[0m \u001b[0;34m=\u001b[0m \u001b[0mtext_pipe\u001b[0m\u001b[0;34m.\u001b[0m\u001b[0mpredict_proba\u001b[0m\u001b[0;34m(\u001b[0m\u001b[0mX_val\u001b[0m\u001b[0;34m[\u001b[0m\u001b[0;34m:\u001b[0m\u001b[0;34m,\u001b[0m\u001b[0;36m1\u001b[0m\u001b[0;34m]\u001b[0m\u001b[0;34m)\u001b[0m\u001b[0;34m\u001b[0m\u001b[0;34m\u001b[0m\u001b[0m\n\u001b[0m\u001b[1;32m      2\u001b[0m \u001b[0mftxt_t\u001b[0m \u001b[0;34m=\u001b[0m \u001b[0mtext_pipe\u001b[0m\u001b[0;34m.\u001b[0m\u001b[0mpredict_proba\u001b[0m\u001b[0;34m(\u001b[0m\u001b[0mX_test\u001b[0m\u001b[0;34m[\u001b[0m\u001b[0;34m:\u001b[0m\u001b[0;34m,\u001b[0m\u001b[0;36m1\u001b[0m\u001b[0;34m]\u001b[0m\u001b[0;34m)\u001b[0m\u001b[0;34m\u001b[0m\u001b[0;34m\u001b[0m\u001b[0m\n",
      "\u001b[0;32m/usr/local/lib/python3.7/dist-packages/sklearn/utils/metaestimators.py\u001b[0m in \u001b[0;36m__get__\u001b[0;34m(self, obj, type)\u001b[0m\n\u001b[1;32m    108\u001b[0m                     \u001b[0;32mcontinue\u001b[0m\u001b[0;34m\u001b[0m\u001b[0;34m\u001b[0m\u001b[0m\n\u001b[1;32m    109\u001b[0m                 \u001b[0;32melse\u001b[0m\u001b[0;34m:\u001b[0m\u001b[0;34m\u001b[0m\u001b[0;34m\u001b[0m\u001b[0m\n\u001b[0;32m--> 110\u001b[0;31m                     \u001b[0mgetattr\u001b[0m\u001b[0;34m(\u001b[0m\u001b[0mdelegate\u001b[0m\u001b[0;34m,\u001b[0m \u001b[0mself\u001b[0m\u001b[0;34m.\u001b[0m\u001b[0mattribute_name\u001b[0m\u001b[0;34m)\u001b[0m\u001b[0;34m\u001b[0m\u001b[0;34m\u001b[0m\u001b[0m\n\u001b[0m\u001b[1;32m    111\u001b[0m                     \u001b[0;32mbreak\u001b[0m\u001b[0;34m\u001b[0m\u001b[0;34m\u001b[0m\u001b[0m\n\u001b[1;32m    112\u001b[0m             \u001b[0;32melse\u001b[0m\u001b[0;34m:\u001b[0m\u001b[0;34m\u001b[0m\u001b[0;34m\u001b[0m\u001b[0m\n",
      "\u001b[0;32m/usr/local/lib/python3.7/dist-packages/sklearn/svm/_base.py\u001b[0m in \u001b[0;36mpredict_proba\u001b[0;34m(self)\u001b[0m\n\u001b[1;32m    634\u001b[0m         \u001b[0mdatasets\u001b[0m\u001b[0;34m.\u001b[0m\u001b[0;34m\u001b[0m\u001b[0;34m\u001b[0m\u001b[0m\n\u001b[1;32m    635\u001b[0m         \"\"\"\n\u001b[0;32m--> 636\u001b[0;31m         \u001b[0mself\u001b[0m\u001b[0;34m.\u001b[0m\u001b[0m_check_proba\u001b[0m\u001b[0;34m(\u001b[0m\u001b[0;34m)\u001b[0m\u001b[0;34m\u001b[0m\u001b[0;34m\u001b[0m\u001b[0m\n\u001b[0m\u001b[1;32m    637\u001b[0m         \u001b[0;32mreturn\u001b[0m \u001b[0mself\u001b[0m\u001b[0;34m.\u001b[0m\u001b[0m_predict_proba\u001b[0m\u001b[0;34m\u001b[0m\u001b[0;34m\u001b[0m\u001b[0m\n\u001b[1;32m    638\u001b[0m \u001b[0;34m\u001b[0m\u001b[0m\n",
      "\u001b[0;32m/usr/local/lib/python3.7/dist-packages/sklearn/svm/_base.py\u001b[0m in \u001b[0;36m_check_proba\u001b[0;34m(self)\u001b[0m\n\u001b[1;32m    601\u001b[0m     \u001b[0;32mdef\u001b[0m \u001b[0m_check_proba\u001b[0m\u001b[0;34m(\u001b[0m\u001b[0mself\u001b[0m\u001b[0;34m)\u001b[0m\u001b[0;34m:\u001b[0m\u001b[0;34m\u001b[0m\u001b[0;34m\u001b[0m\u001b[0m\n\u001b[1;32m    602\u001b[0m         \u001b[0;32mif\u001b[0m \u001b[0;32mnot\u001b[0m \u001b[0mself\u001b[0m\u001b[0;34m.\u001b[0m\u001b[0mprobability\u001b[0m\u001b[0;34m:\u001b[0m\u001b[0;34m\u001b[0m\u001b[0;34m\u001b[0m\u001b[0m\n\u001b[0;32m--> 603\u001b[0;31m             raise AttributeError(\"predict_proba is not available when \"\n\u001b[0m\u001b[1;32m    604\u001b[0m                                  \" probability=False\")\n\u001b[1;32m    605\u001b[0m         \u001b[0;32mif\u001b[0m \u001b[0mself\u001b[0m\u001b[0;34m.\u001b[0m\u001b[0m_impl\u001b[0m \u001b[0;32mnot\u001b[0m \u001b[0;32min\u001b[0m \u001b[0;34m(\u001b[0m\u001b[0;34m'c_svc'\u001b[0m\u001b[0;34m,\u001b[0m \u001b[0;34m'nu_svc'\u001b[0m\u001b[0;34m)\u001b[0m\u001b[0;34m:\u001b[0m\u001b[0;34m\u001b[0m\u001b[0;34m\u001b[0m\u001b[0m\n",
      "\u001b[0;31mAttributeError\u001b[0m: predict_proba is not available when  probability=False"
     ]
    }
   ],
   "source": [
    "ftxt_v = text_pipe.predict_proba(X_val[:,1])\n",
    "ftxt_t = text_pipe.predict_proba(X_test[:,1])"
   ]
  },
  {
   "cell_type": "code",
   "execution_count": null,
   "metadata": {
    "id": "NmR3uU67wubB"
   },
   "outputs": [],
   "source": []
  },
  {
   "cell_type": "code",
   "execution_count": null,
   "metadata": {
    "id": "BV2YVO0QyfRY"
   },
   "outputs": [],
   "source": [
    "import pickle\n",
    "\n",
    "open_file = open(\"lstm__val_pred_2.pkl\", \"rb\")\n",
    "flstm_v = pickle.load(open_file)\n",
    "open_file.close()\n",
    "\n",
    "open_file = open(\"lstm__test_pred_2.pkl\", \"rb\")\n",
    "flstm_t = pickle.load(open_file)\n",
    "open_file.close()"
   ]
  },
  {
   "cell_type": "code",
   "execution_count": null,
   "metadata": {
    "id": "iJVPMB8nvfWE"
   },
   "outputs": [],
   "source": []
  },
  {
   "cell_type": "code",
   "execution_count": null,
   "metadata": {
    "colab": {
     "base_uri": "https://localhost:8080/"
    },
    "executionInfo": {
     "elapsed": 1147,
     "status": "ok",
     "timestamp": 1619266158519,
     "user": {
      "displayName": "Subhalingam D",
      "photoUrl": "https://lh3.googleusercontent.com/a-/AOh14Gg86bQ1NVmL-U0-lCsAdMpCA_G3d9fxrw_PlOwtJg=s64",
      "userId": "08059846138458314824"
     },
     "user_tz": -330
    },
    "id": "5pHkx07fwvbu",
    "outputId": "f878c882-67df-406f-970b-05b897e0dc60"
   },
   "outputs": [
    {
     "data": {
      "text/plain": [
       "(199,)"
      ]
     },
     "execution_count": 367,
     "metadata": {
      "tags": []
     },
     "output_type": "execute_result"
    }
   ],
   "source": [
    "f = np.argmax(ftxt_v+fimg_v+flstm_v ,axis=1)\n",
    "f.shape"
   ]
  },
  {
   "cell_type": "code",
   "execution_count": null,
   "metadata": {
    "id": "u30Dqx7lw6hb"
   },
   "outputs": [],
   "source": [
    "print(classification_report([x for x in y_val], f))"
   ]
  },
  {
   "cell_type": "code",
   "execution_count": null,
   "metadata": {
    "id": "N2gSPkJe-Sxf"
   },
   "outputs": [],
   "source": [
    "ft = np.argmax(ftxt_t+fimg_t+flstm_t ,axis=1)\n",
    "print(*ft,sep='\\n')"
   ]
  },
  {
   "cell_type": "code",
   "execution_count": null,
   "metadata": {
    "colab": {
     "base_uri": "https://localhost:8080/"
    },
    "executionInfo": {
     "elapsed": 712,
     "status": "ok",
     "timestamp": 1619329418696,
     "user": {
      "displayName": "Subhalingam D",
      "photoUrl": "https://lh3.googleusercontent.com/a-/AOh14Gg86bQ1NVmL-U0-lCsAdMpCA_G3d9fxrw_PlOwtJg=s64",
      "userId": "08059846138458314824"
     },
     "user_tz": -330
    },
    "id": "w-XupePfjbM-",
    "outputId": "b2060993-c730-419b-bd89-4e7d8f4dadaf"
   },
   "outputs": [
    {
     "data": {
      "text/plain": [
       "False"
      ]
     },
     "execution_count": 67,
     "metadata": {
      "tags": []
     },
     "output_type": "execute_result"
    }
   ],
   "source": [
    "[x.replace(\"@ \",\"\") for x in list( X_train[:,1])+X_train_wn+X_train1] ==  list( X_train[:,1])+X_train_wn+X_train1"
   ]
  },
  {
   "cell_type": "markdown",
   "metadata": {
    "id": "U0fY-iCFbOwP"
   },
   "source": [
    "#### Pipeline Grid Search"
   ]
  },
  {
   "cell_type": "code",
   "execution_count": null,
   "metadata": {
    "colab": {
     "base_uri": "https://localhost:8080/"
    },
    "executionInfo": {
     "elapsed": 76294,
     "status": "ok",
     "timestamp": 1618823905817,
     "user": {
      "displayName": "Subhalingam D",
      "photoUrl": "https://lh3.googleusercontent.com/a-/AOh14Gg86bQ1NVmL-U0-lCsAdMpCA_G3d9fxrw_PlOwtJg=s64",
      "userId": "08059846138458314824"
     },
     "user_tz": -330
    },
    "id": "AEX5NLDvZnnk",
    "outputId": "9afaddc6-d876-4bea-e17b-379b3955ae7b"
   },
   "outputs": [
    {
     "name": "stdout",
     "output_type": "stream",
     "text": [
      "Fitting 5 folds for each of 12 candidates, totalling 60 fits\n",
      "[CV] svc__C=1, svc__gamma=0.001, svc__kernel=rbf .....................\n"
     ]
    },
    {
     "name": "stderr",
     "output_type": "stream",
     "text": [
      "[Parallel(n_jobs=1)]: Using backend SequentialBackend with 1 concurrent workers.\n"
     ]
    },
    {
     "name": "stdout",
     "output_type": "stream",
     "text": [
      "[Pipeline] .............. (step 1 of 3) Processing vect, total=   0.8s\n",
      "[Pipeline] ............. (step 2 of 3) Processing tfidf, total=   0.0s\n",
      "[Pipeline] ............... (step 3 of 3) Processing svc, total=   0.4s\n",
      "[CV]  svc__C=1, svc__gamma=0.001, svc__kernel=rbf, score=0.173, total=   1.4s\n",
      "[CV] svc__C=1, svc__gamma=0.001, svc__kernel=rbf .....................\n"
     ]
    },
    {
     "name": "stderr",
     "output_type": "stream",
     "text": [
      "[Parallel(n_jobs=1)]: Done   1 out of   1 | elapsed:    1.4s remaining:    0.0s\n"
     ]
    },
    {
     "name": "stdout",
     "output_type": "stream",
     "text": [
      "[Pipeline] .............. (step 1 of 3) Processing vect, total=   0.7s\n",
      "[Pipeline] ............. (step 2 of 3) Processing tfidf, total=   0.0s\n",
      "[Pipeline] ............... (step 3 of 3) Processing svc, total=   0.4s\n",
      "[CV]  svc__C=1, svc__gamma=0.001, svc__kernel=rbf, score=0.173, total=   1.4s\n",
      "[CV] svc__C=1, svc__gamma=0.001, svc__kernel=rbf .....................\n"
     ]
    },
    {
     "name": "stderr",
     "output_type": "stream",
     "text": [
      "[Parallel(n_jobs=1)]: Done   2 out of   2 | elapsed:    2.7s remaining:    0.0s\n"
     ]
    },
    {
     "name": "stdout",
     "output_type": "stream",
     "text": [
      "[Pipeline] .............. (step 1 of 3) Processing vect, total=   0.7s\n",
      "[Pipeline] ............. (step 2 of 3) Processing tfidf, total=   0.0s\n",
      "[Pipeline] ............... (step 3 of 3) Processing svc, total=   0.4s\n",
      "[CV]  svc__C=1, svc__gamma=0.001, svc__kernel=rbf, score=0.174, total=   1.4s\n",
      "[CV] svc__C=1, svc__gamma=0.001, svc__kernel=rbf .....................\n",
      "[Pipeline] .............. (step 1 of 3) Processing vect, total=   0.7s\n",
      "[Pipeline] ............. (step 2 of 3) Processing tfidf, total=   0.0s\n",
      "[Pipeline] ............... (step 3 of 3) Processing svc, total=   0.4s\n",
      "[CV]  svc__C=1, svc__gamma=0.001, svc__kernel=rbf, score=0.173, total=   1.3s\n",
      "[CV] svc__C=1, svc__gamma=0.001, svc__kernel=rbf .....................\n",
      "[Pipeline] .............. (step 1 of 3) Processing vect, total=   0.7s\n",
      "[Pipeline] ............. (step 2 of 3) Processing tfidf, total=   0.0s\n",
      "[Pipeline] ............... (step 3 of 3) Processing svc, total=   0.4s\n",
      "[CV]  svc__C=1, svc__gamma=0.001, svc__kernel=rbf, score=0.173, total=   1.3s\n",
      "[CV] svc__C=1, svc__gamma=0.0001, svc__kernel=rbf ....................\n",
      "[Pipeline] .............. (step 1 of 3) Processing vect, total=   0.6s\n",
      "[Pipeline] ............. (step 2 of 3) Processing tfidf, total=   0.0s\n",
      "[Pipeline] ............... (step 3 of 3) Processing svc, total=   0.3s\n",
      "[CV]  svc__C=1, svc__gamma=0.0001, svc__kernel=rbf, score=0.173, total=   1.2s\n",
      "[CV] svc__C=1, svc__gamma=0.0001, svc__kernel=rbf ....................\n",
      "[Pipeline] .............. (step 1 of 3) Processing vect, total=   0.6s\n",
      "[Pipeline] ............. (step 2 of 3) Processing tfidf, total=   0.0s\n",
      "[Pipeline] ............... (step 3 of 3) Processing svc, total=   0.3s\n",
      "[CV]  svc__C=1, svc__gamma=0.0001, svc__kernel=rbf, score=0.173, total=   1.2s\n",
      "[CV] svc__C=1, svc__gamma=0.0001, svc__kernel=rbf ....................\n",
      "[Pipeline] .............. (step 1 of 3) Processing vect, total=   0.6s\n",
      "[Pipeline] ............. (step 2 of 3) Processing tfidf, total=   0.0s\n",
      "[Pipeline] ............... (step 3 of 3) Processing svc, total=   0.3s\n",
      "[CV]  svc__C=1, svc__gamma=0.0001, svc__kernel=rbf, score=0.174, total=   1.2s\n",
      "[CV] svc__C=1, svc__gamma=0.0001, svc__kernel=rbf ....................\n",
      "[Pipeline] .............. (step 1 of 3) Processing vect, total=   0.6s\n",
      "[Pipeline] ............. (step 2 of 3) Processing tfidf, total=   0.0s\n",
      "[Pipeline] ............... (step 3 of 3) Processing svc, total=   0.3s\n",
      "[CV]  svc__C=1, svc__gamma=0.0001, svc__kernel=rbf, score=0.173, total=   1.2s\n",
      "[CV] svc__C=1, svc__gamma=0.0001, svc__kernel=rbf ....................\n",
      "[Pipeline] .............. (step 1 of 3) Processing vect, total=   0.6s\n",
      "[Pipeline] ............. (step 2 of 3) Processing tfidf, total=   0.0s\n",
      "[Pipeline] ............... (step 3 of 3) Processing svc, total=   0.3s\n",
      "[CV]  svc__C=1, svc__gamma=0.0001, svc__kernel=rbf, score=0.173, total=   1.2s\n",
      "[CV] svc__C=10, svc__gamma=0.001, svc__kernel=rbf ....................\n",
      "[Pipeline] .............. (step 1 of 3) Processing vect, total=   0.6s\n",
      "[Pipeline] ............. (step 2 of 3) Processing tfidf, total=   0.0s\n",
      "[Pipeline] ............... (step 3 of 3) Processing svc, total=   0.4s\n",
      "[CV]  svc__C=10, svc__gamma=0.001, svc__kernel=rbf, score=0.173, total=   1.2s\n",
      "[CV] svc__C=10, svc__gamma=0.001, svc__kernel=rbf ....................\n",
      "[Pipeline] .............. (step 1 of 3) Processing vect, total=   0.7s\n",
      "[Pipeline] ............. (step 2 of 3) Processing tfidf, total=   0.0s\n",
      "[Pipeline] ............... (step 3 of 3) Processing svc, total=   0.4s\n",
      "[CV]  svc__C=10, svc__gamma=0.001, svc__kernel=rbf, score=0.173, total=   1.2s\n",
      "[CV] svc__C=10, svc__gamma=0.001, svc__kernel=rbf ....................\n",
      "[Pipeline] .............. (step 1 of 3) Processing vect, total=   0.6s\n",
      "[Pipeline] ............. (step 2 of 3) Processing tfidf, total=   0.0s\n",
      "[Pipeline] ............... (step 3 of 3) Processing svc, total=   0.4s\n",
      "[CV]  svc__C=10, svc__gamma=0.001, svc__kernel=rbf, score=0.174, total=   1.2s\n",
      "[CV] svc__C=10, svc__gamma=0.001, svc__kernel=rbf ....................\n",
      "[Pipeline] .............. (step 1 of 3) Processing vect, total=   0.6s\n",
      "[Pipeline] ............. (step 2 of 3) Processing tfidf, total=   0.0s\n",
      "[Pipeline] ............... (step 3 of 3) Processing svc, total=   0.4s\n",
      "[CV]  svc__C=10, svc__gamma=0.001, svc__kernel=rbf, score=0.173, total=   1.2s\n",
      "[CV] svc__C=10, svc__gamma=0.001, svc__kernel=rbf ....................\n",
      "[Pipeline] .............. (step 1 of 3) Processing vect, total=   0.6s\n",
      "[Pipeline] ............. (step 2 of 3) Processing tfidf, total=   0.0s\n",
      "[Pipeline] ............... (step 3 of 3) Processing svc, total=   0.4s\n",
      "[CV]  svc__C=10, svc__gamma=0.001, svc__kernel=rbf, score=0.173, total=   1.2s\n",
      "[CV] svc__C=10, svc__gamma=0.0001, svc__kernel=rbf ...................\n",
      "[Pipeline] .............. (step 1 of 3) Processing vect, total=   0.6s\n",
      "[Pipeline] ............. (step 2 of 3) Processing tfidf, total=   0.0s\n",
      "[Pipeline] ............... (step 3 of 3) Processing svc, total=   0.4s\n",
      "[CV]  svc__C=10, svc__gamma=0.0001, svc__kernel=rbf, score=0.173, total=   1.2s\n",
      "[CV] svc__C=10, svc__gamma=0.0001, svc__kernel=rbf ...................\n",
      "[Pipeline] .............. (step 1 of 3) Processing vect, total=   0.6s\n",
      "[Pipeline] ............. (step 2 of 3) Processing tfidf, total=   0.0s\n",
      "[Pipeline] ............... (step 3 of 3) Processing svc, total=   0.4s\n",
      "[CV]  svc__C=10, svc__gamma=0.0001, svc__kernel=rbf, score=0.173, total=   1.2s\n",
      "[CV] svc__C=10, svc__gamma=0.0001, svc__kernel=rbf ...................\n",
      "[Pipeline] .............. (step 1 of 3) Processing vect, total=   0.6s\n",
      "[Pipeline] ............. (step 2 of 3) Processing tfidf, total=   0.0s\n",
      "[Pipeline] ............... (step 3 of 3) Processing svc, total=   0.4s\n",
      "[CV]  svc__C=10, svc__gamma=0.0001, svc__kernel=rbf, score=0.174, total=   1.2s\n",
      "[CV] svc__C=10, svc__gamma=0.0001, svc__kernel=rbf ...................\n",
      "[Pipeline] .............. (step 1 of 3) Processing vect, total=   0.6s\n",
      "[Pipeline] ............. (step 2 of 3) Processing tfidf, total=   0.0s\n",
      "[Pipeline] ............... (step 3 of 3) Processing svc, total=   0.4s\n",
      "[CV]  svc__C=10, svc__gamma=0.0001, svc__kernel=rbf, score=0.173, total=   1.2s\n",
      "[CV] svc__C=10, svc__gamma=0.0001, svc__kernel=rbf ...................\n",
      "[Pipeline] .............. (step 1 of 3) Processing vect, total=   0.6s\n",
      "[Pipeline] ............. (step 2 of 3) Processing tfidf, total=   0.0s\n",
      "[Pipeline] ............... (step 3 of 3) Processing svc, total=   0.4s\n",
      "[CV]  svc__C=10, svc__gamma=0.0001, svc__kernel=rbf, score=0.173, total=   1.2s\n",
      "[CV] svc__C=100, svc__gamma=0.001, svc__kernel=rbf ...................\n",
      "[Pipeline] .............. (step 1 of 3) Processing vect, total=   0.6s\n",
      "[Pipeline] ............. (step 2 of 3) Processing tfidf, total=   0.0s\n",
      "[Pipeline] ............... (step 3 of 3) Processing svc, total=   0.4s\n",
      "[CV]  svc__C=100, svc__gamma=0.001, svc__kernel=rbf, score=0.187, total=   1.2s\n",
      "[CV] svc__C=100, svc__gamma=0.001, svc__kernel=rbf ...................\n",
      "[Pipeline] .............. (step 1 of 3) Processing vect, total=   0.6s\n",
      "[Pipeline] ............. (step 2 of 3) Processing tfidf, total=   0.0s\n",
      "[Pipeline] ............... (step 3 of 3) Processing svc, total=   0.4s\n",
      "[CV]  svc__C=100, svc__gamma=0.001, svc__kernel=rbf, score=0.200, total=   1.2s\n",
      "[CV] svc__C=100, svc__gamma=0.001, svc__kernel=rbf ...................\n",
      "[Pipeline] .............. (step 1 of 3) Processing vect, total=   0.7s\n",
      "[Pipeline] ............. (step 2 of 3) Processing tfidf, total=   0.0s\n",
      "[Pipeline] ............... (step 3 of 3) Processing svc, total=   0.4s\n",
      "[CV]  svc__C=100, svc__gamma=0.001, svc__kernel=rbf, score=0.213, total=   1.2s\n",
      "[CV] svc__C=100, svc__gamma=0.001, svc__kernel=rbf ...................\n",
      "[Pipeline] .............. (step 1 of 3) Processing vect, total=   0.6s\n",
      "[Pipeline] ............. (step 2 of 3) Processing tfidf, total=   0.0s\n",
      "[Pipeline] ............... (step 3 of 3) Processing svc, total=   0.4s\n",
      "[CV]  svc__C=100, svc__gamma=0.001, svc__kernel=rbf, score=0.193, total=   1.2s\n",
      "[CV] svc__C=100, svc__gamma=0.001, svc__kernel=rbf ...................\n",
      "[Pipeline] .............. (step 1 of 3) Processing vect, total=   0.6s\n",
      "[Pipeline] ............. (step 2 of 3) Processing tfidf, total=   0.0s\n",
      "[Pipeline] ............... (step 3 of 3) Processing svc, total=   0.4s\n",
      "[CV]  svc__C=100, svc__gamma=0.001, svc__kernel=rbf, score=0.198, total=   1.2s\n",
      "[CV] svc__C=100, svc__gamma=0.0001, svc__kernel=rbf ..................\n",
      "[Pipeline] .............. (step 1 of 3) Processing vect, total=   0.6s\n",
      "[Pipeline] ............. (step 2 of 3) Processing tfidf, total=   0.0s\n",
      "[Pipeline] ............... (step 3 of 3) Processing svc, total=   0.4s\n",
      "[CV]  svc__C=100, svc__gamma=0.0001, svc__kernel=rbf, score=0.173, total=   1.2s\n",
      "[CV] svc__C=100, svc__gamma=0.0001, svc__kernel=rbf ..................\n",
      "[Pipeline] .............. (step 1 of 3) Processing vect, total=   0.6s\n",
      "[Pipeline] ............. (step 2 of 3) Processing tfidf, total=   0.0s\n",
      "[Pipeline] ............... (step 3 of 3) Processing svc, total=   0.4s\n",
      "[CV]  svc__C=100, svc__gamma=0.0001, svc__kernel=rbf, score=0.173, total=   1.2s\n",
      "[CV] svc__C=100, svc__gamma=0.0001, svc__kernel=rbf ..................\n",
      "[Pipeline] .............. (step 1 of 3) Processing vect, total=   0.7s\n",
      "[Pipeline] ............. (step 2 of 3) Processing tfidf, total=   0.0s\n",
      "[Pipeline] ............... (step 3 of 3) Processing svc, total=   0.4s\n",
      "[CV]  svc__C=100, svc__gamma=0.0001, svc__kernel=rbf, score=0.174, total=   1.3s\n",
      "[CV] svc__C=100, svc__gamma=0.0001, svc__kernel=rbf ..................\n",
      "[Pipeline] .............. (step 1 of 3) Processing vect, total=   0.6s\n",
      "[Pipeline] ............. (step 2 of 3) Processing tfidf, total=   0.0s\n",
      "[Pipeline] ............... (step 3 of 3) Processing svc, total=   0.4s\n",
      "[CV]  svc__C=100, svc__gamma=0.0001, svc__kernel=rbf, score=0.173, total=   1.2s\n",
      "[CV] svc__C=100, svc__gamma=0.0001, svc__kernel=rbf ..................\n",
      "[Pipeline] .............. (step 1 of 3) Processing vect, total=   0.6s\n",
      "[Pipeline] ............. (step 2 of 3) Processing tfidf, total=   0.0s\n",
      "[Pipeline] ............... (step 3 of 3) Processing svc, total=   0.4s\n",
      "[CV]  svc__C=100, svc__gamma=0.0001, svc__kernel=rbf, score=0.173, total=   1.2s\n",
      "[CV] svc__C=1000, svc__gamma=0.001, svc__kernel=rbf ..................\n",
      "[Pipeline] .............. (step 1 of 3) Processing vect, total=   0.6s\n",
      "[Pipeline] ............. (step 2 of 3) Processing tfidf, total=   0.0s\n",
      "[Pipeline] ............... (step 3 of 3) Processing svc, total=   0.4s\n",
      "[CV]  svc__C=1000, svc__gamma=0.001, svc__kernel=rbf, score=0.435, total=   1.2s\n",
      "[CV] svc__C=1000, svc__gamma=0.001, svc__kernel=rbf ..................\n",
      "[Pipeline] .............. (step 1 of 3) Processing vect, total=   0.6s\n",
      "[Pipeline] ............. (step 2 of 3) Processing tfidf, total=   0.0s\n",
      "[Pipeline] ............... (step 3 of 3) Processing svc, total=   0.4s\n",
      "[CV]  svc__C=1000, svc__gamma=0.001, svc__kernel=rbf, score=0.401, total=   1.2s\n",
      "[CV] svc__C=1000, svc__gamma=0.001, svc__kernel=rbf ..................\n",
      "[Pipeline] .............. (step 1 of 3) Processing vect, total=   0.6s\n",
      "[Pipeline] ............. (step 2 of 3) Processing tfidf, total=   0.0s\n",
      "[Pipeline] ............... (step 3 of 3) Processing svc, total=   0.4s\n",
      "[CV]  svc__C=1000, svc__gamma=0.001, svc__kernel=rbf, score=0.400, total=   1.2s\n",
      "[CV] svc__C=1000, svc__gamma=0.001, svc__kernel=rbf ..................\n",
      "[Pipeline] .............. (step 1 of 3) Processing vect, total=   0.6s\n",
      "[Pipeline] ............. (step 2 of 3) Processing tfidf, total=   0.0s\n",
      "[Pipeline] ............... (step 3 of 3) Processing svc, total=   0.4s\n",
      "[CV]  svc__C=1000, svc__gamma=0.001, svc__kernel=rbf, score=0.363, total=   1.2s\n",
      "[CV] svc__C=1000, svc__gamma=0.001, svc__kernel=rbf ..................\n",
      "[Pipeline] .............. (step 1 of 3) Processing vect, total=   0.7s\n",
      "[Pipeline] ............. (step 2 of 3) Processing tfidf, total=   0.0s\n",
      "[Pipeline] ............... (step 3 of 3) Processing svc, total=   0.4s\n",
      "[CV]  svc__C=1000, svc__gamma=0.001, svc__kernel=rbf, score=0.377, total=   1.3s\n",
      "[CV] svc__C=1000, svc__gamma=0.0001, svc__kernel=rbf .................\n",
      "[Pipeline] .............. (step 1 of 3) Processing vect, total=   0.7s\n",
      "[Pipeline] ............. (step 2 of 3) Processing tfidf, total=   0.0s\n",
      "[Pipeline] ............... (step 3 of 3) Processing svc, total=   0.4s\n",
      "[CV]  svc__C=1000, svc__gamma=0.0001, svc__kernel=rbf, score=0.187, total=   1.3s\n",
      "[CV] svc__C=1000, svc__gamma=0.0001, svc__kernel=rbf .................\n",
      "[Pipeline] .............. (step 1 of 3) Processing vect, total=   0.6s\n",
      "[Pipeline] ............. (step 2 of 3) Processing tfidf, total=   0.0s\n",
      "[Pipeline] ............... (step 3 of 3) Processing svc, total=   0.4s\n",
      "[CV]  svc__C=1000, svc__gamma=0.0001, svc__kernel=rbf, score=0.200, total=   1.2s\n",
      "[CV] svc__C=1000, svc__gamma=0.0001, svc__kernel=rbf .................\n",
      "[Pipeline] .............. (step 1 of 3) Processing vect, total=   0.6s\n",
      "[Pipeline] ............. (step 2 of 3) Processing tfidf, total=   0.0s\n",
      "[Pipeline] ............... (step 3 of 3) Processing svc, total=   0.4s\n",
      "[CV]  svc__C=1000, svc__gamma=0.0001, svc__kernel=rbf, score=0.213, total=   1.2s\n",
      "[CV] svc__C=1000, svc__gamma=0.0001, svc__kernel=rbf .................\n",
      "[Pipeline] .............. (step 1 of 3) Processing vect, total=   0.6s\n",
      "[Pipeline] ............. (step 2 of 3) Processing tfidf, total=   0.0s\n",
      "[Pipeline] ............... (step 3 of 3) Processing svc, total=   0.4s\n",
      "[CV]  svc__C=1000, svc__gamma=0.0001, svc__kernel=rbf, score=0.193, total=   1.2s\n",
      "[CV] svc__C=1000, svc__gamma=0.0001, svc__kernel=rbf .................\n",
      "[Pipeline] .............. (step 1 of 3) Processing vect, total=   0.7s\n",
      "[Pipeline] ............. (step 2 of 3) Processing tfidf, total=   0.0s\n",
      "[Pipeline] ............... (step 3 of 3) Processing svc, total=   0.4s\n",
      "[CV]  svc__C=1000, svc__gamma=0.0001, svc__kernel=rbf, score=0.198, total=   1.2s\n",
      "[CV] svc__C=1, svc__kernel=linear ....................................\n",
      "[Pipeline] .............. (step 1 of 3) Processing vect, total=   0.6s\n",
      "[Pipeline] ............. (step 2 of 3) Processing tfidf, total=   0.0s\n",
      "[Pipeline] ............... (step 3 of 3) Processing svc, total=   0.3s\n",
      "[CV] ........ svc__C=1, svc__kernel=linear, score=0.432, total=   1.2s\n",
      "[CV] svc__C=1, svc__kernel=linear ....................................\n",
      "[Pipeline] .............. (step 1 of 3) Processing vect, total=   0.6s\n",
      "[Pipeline] ............. (step 2 of 3) Processing tfidf, total=   0.0s\n",
      "[Pipeline] ............... (step 3 of 3) Processing svc, total=   0.3s\n",
      "[CV] ........ svc__C=1, svc__kernel=linear, score=0.410, total=   1.2s\n",
      "[CV] svc__C=1, svc__kernel=linear ....................................\n",
      "[Pipeline] .............. (step 1 of 3) Processing vect, total=   0.6s\n",
      "[Pipeline] ............. (step 2 of 3) Processing tfidf, total=   0.0s\n",
      "[Pipeline] ............... (step 3 of 3) Processing svc, total=   0.3s\n",
      "[CV] ........ svc__C=1, svc__kernel=linear, score=0.394, total=   1.2s\n",
      "[CV] svc__C=1, svc__kernel=linear ....................................\n",
      "[Pipeline] .............. (step 1 of 3) Processing vect, total=   0.6s\n",
      "[Pipeline] ............. (step 2 of 3) Processing tfidf, total=   0.0s\n",
      "[Pipeline] ............... (step 3 of 3) Processing svc, total=   0.3s\n",
      "[CV] ........ svc__C=1, svc__kernel=linear, score=0.376, total=   1.2s\n",
      "[CV] svc__C=1, svc__kernel=linear ....................................\n",
      "[Pipeline] .............. (step 1 of 3) Processing vect, total=   0.7s\n",
      "[Pipeline] ............. (step 2 of 3) Processing tfidf, total=   0.0s\n",
      "[Pipeline] ............... (step 3 of 3) Processing svc, total=   0.3s\n",
      "[CV] ........ svc__C=1, svc__kernel=linear, score=0.348, total=   1.2s\n",
      "[CV] svc__C=10, svc__kernel=linear ...................................\n",
      "[Pipeline] .............. (step 1 of 3) Processing vect, total=   0.6s\n",
      "[Pipeline] ............. (step 2 of 3) Processing tfidf, total=   0.0s\n",
      "[Pipeline] ............... (step 3 of 3) Processing svc, total=   0.3s\n",
      "[CV] ....... svc__C=10, svc__kernel=linear, score=0.427, total=   1.2s\n",
      "[CV] svc__C=10, svc__kernel=linear ...................................\n",
      "[Pipeline] .............. (step 1 of 3) Processing vect, total=   0.7s\n",
      "[Pipeline] ............. (step 2 of 3) Processing tfidf, total=   0.0s\n",
      "[Pipeline] ............... (step 3 of 3) Processing svc, total=   0.3s\n",
      "[CV] ....... svc__C=10, svc__kernel=linear, score=0.395, total=   1.2s\n",
      "[CV] svc__C=10, svc__kernel=linear ...................................\n",
      "[Pipeline] .............. (step 1 of 3) Processing vect, total=   0.6s\n",
      "[Pipeline] ............. (step 2 of 3) Processing tfidf, total=   0.0s\n",
      "[Pipeline] ............... (step 3 of 3) Processing svc, total=   0.3s\n",
      "[CV] ....... svc__C=10, svc__kernel=linear, score=0.409, total=   1.2s\n",
      "[CV] svc__C=10, svc__kernel=linear ...................................\n",
      "[Pipeline] .............. (step 1 of 3) Processing vect, total=   0.6s\n",
      "[Pipeline] ............. (step 2 of 3) Processing tfidf, total=   0.0s\n",
      "[Pipeline] ............... (step 3 of 3) Processing svc, total=   0.3s\n",
      "[CV] ....... svc__C=10, svc__kernel=linear, score=0.371, total=   1.2s\n",
      "[CV] svc__C=10, svc__kernel=linear ...................................\n",
      "[Pipeline] .............. (step 1 of 3) Processing vect, total=   0.6s\n",
      "[Pipeline] ............. (step 2 of 3) Processing tfidf, total=   0.0s\n",
      "[Pipeline] ............... (step 3 of 3) Processing svc, total=   0.3s\n",
      "[CV] ....... svc__C=10, svc__kernel=linear, score=0.371, total=   1.2s\n",
      "[CV] svc__C=100, svc__kernel=linear ..................................\n",
      "[Pipeline] .............. (step 1 of 3) Processing vect, total=   0.6s\n",
      "[Pipeline] ............. (step 2 of 3) Processing tfidf, total=   0.0s\n",
      "[Pipeline] ............... (step 3 of 3) Processing svc, total=   0.3s\n",
      "[CV] ...... svc__C=100, svc__kernel=linear, score=0.427, total=   1.2s\n",
      "[CV] svc__C=100, svc__kernel=linear ..................................\n",
      "[Pipeline] .............. (step 1 of 3) Processing vect, total=   0.6s\n",
      "[Pipeline] ............. (step 2 of 3) Processing tfidf, total=   0.0s\n",
      "[Pipeline] ............... (step 3 of 3) Processing svc, total=   0.3s\n",
      "[CV] ...... svc__C=100, svc__kernel=linear, score=0.395, total=   1.2s\n",
      "[CV] svc__C=100, svc__kernel=linear ..................................\n",
      "[Pipeline] .............. (step 1 of 3) Processing vect, total=   0.6s\n",
      "[Pipeline] ............. (step 2 of 3) Processing tfidf, total=   0.0s\n",
      "[Pipeline] ............... (step 3 of 3) Processing svc, total=   0.3s\n",
      "[CV] ...... svc__C=100, svc__kernel=linear, score=0.409, total=   1.2s\n",
      "[CV] svc__C=100, svc__kernel=linear ..................................\n",
      "[Pipeline] .............. (step 1 of 3) Processing vect, total=   0.6s\n",
      "[Pipeline] ............. (step 2 of 3) Processing tfidf, total=   0.0s\n",
      "[Pipeline] ............... (step 3 of 3) Processing svc, total=   0.3s\n",
      "[CV] ...... svc__C=100, svc__kernel=linear, score=0.371, total=   1.2s\n",
      "[CV] svc__C=100, svc__kernel=linear ..................................\n",
      "[Pipeline] .............. (step 1 of 3) Processing vect, total=   0.6s\n",
      "[Pipeline] ............. (step 2 of 3) Processing tfidf, total=   0.0s\n",
      "[Pipeline] ............... (step 3 of 3) Processing svc, total=   0.3s\n",
      "[CV] ...... svc__C=100, svc__kernel=linear, score=0.371, total=   1.2s\n",
      "[CV] svc__C=1000, svc__kernel=linear .................................\n",
      "[Pipeline] .............. (step 1 of 3) Processing vect, total=   0.6s\n",
      "[Pipeline] ............. (step 2 of 3) Processing tfidf, total=   0.0s\n",
      "[Pipeline] ............... (step 3 of 3) Processing svc, total=   0.3s\n",
      "[CV] ..... svc__C=1000, svc__kernel=linear, score=0.427, total=   1.2s\n",
      "[CV] svc__C=1000, svc__kernel=linear .................................\n",
      "[Pipeline] .............. (step 1 of 3) Processing vect, total=   0.6s\n",
      "[Pipeline] ............. (step 2 of 3) Processing tfidf, total=   0.0s\n",
      "[Pipeline] ............... (step 3 of 3) Processing svc, total=   0.3s\n",
      "[CV] ..... svc__C=1000, svc__kernel=linear, score=0.395, total=   1.2s\n",
      "[CV] svc__C=1000, svc__kernel=linear .................................\n",
      "[Pipeline] .............. (step 1 of 3) Processing vect, total=   0.7s\n",
      "[Pipeline] ............. (step 2 of 3) Processing tfidf, total=   0.0s\n",
      "[Pipeline] ............... (step 3 of 3) Processing svc, total=   0.3s\n",
      "[CV] ..... svc__C=1000, svc__kernel=linear, score=0.409, total=   1.2s\n",
      "[CV] svc__C=1000, svc__kernel=linear .................................\n",
      "[Pipeline] .............. (step 1 of 3) Processing vect, total=   0.6s\n",
      "[Pipeline] ............. (step 2 of 3) Processing tfidf, total=   0.0s\n",
      "[Pipeline] ............... (step 3 of 3) Processing svc, total=   0.3s\n",
      "[CV] ..... svc__C=1000, svc__kernel=linear, score=0.371, total=   1.2s\n",
      "[CV] svc__C=1000, svc__kernel=linear .................................\n",
      "[Pipeline] .............. (step 1 of 3) Processing vect, total=   0.6s\n",
      "[Pipeline] ............. (step 2 of 3) Processing tfidf, total=   0.0s\n",
      "[Pipeline] ............... (step 3 of 3) Processing svc, total=   0.3s\n",
      "[CV] ..... svc__C=1000, svc__kernel=linear, score=0.371, total=   1.2s\n"
     ]
    },
    {
     "name": "stderr",
     "output_type": "stream",
     "text": [
      "[Parallel(n_jobs=1)]: Done  60 out of  60 | elapsed:  1.2min finished\n"
     ]
    },
    {
     "name": "stdout",
     "output_type": "stream",
     "text": [
      "[Pipeline] .............. (step 1 of 3) Processing vect, total=   0.8s\n",
      "[Pipeline] ............. (step 2 of 3) Processing tfidf, total=   0.0s\n",
      "[Pipeline] ............... (step 3 of 3) Processing svc, total=   0.6s\n",
      "Best parameters set found on development set:\n",
      "\n",
      "{'svc__C': 1000, 'svc__gamma': 0.001, 'svc__kernel': 'rbf'}\n",
      "\n",
      "Grid scores on development set:\n",
      "\n",
      "0.173 (+/-0.001) for {'svc__C': 1, 'svc__gamma': 0.001, 'svc__kernel': 'rbf'}\n",
      "0.173 (+/-0.001) for {'svc__C': 1, 'svc__gamma': 0.0001, 'svc__kernel': 'rbf'}\n",
      "0.173 (+/-0.001) for {'svc__C': 10, 'svc__gamma': 0.001, 'svc__kernel': 'rbf'}\n",
      "0.173 (+/-0.001) for {'svc__C': 10, 'svc__gamma': 0.0001, 'svc__kernel': 'rbf'}\n",
      "0.198 (+/-0.017) for {'svc__C': 100, 'svc__gamma': 0.001, 'svc__kernel': 'rbf'}\n",
      "0.173 (+/-0.001) for {'svc__C': 100, 'svc__gamma': 0.0001, 'svc__kernel': 'rbf'}\n",
      "0.395 (+/-0.049) for {'svc__C': 1000, 'svc__gamma': 0.001, 'svc__kernel': 'rbf'}\n",
      "0.198 (+/-0.017) for {'svc__C': 1000, 'svc__gamma': 0.0001, 'svc__kernel': 'rbf'}\n",
      "0.392 (+/-0.058) for {'svc__C': 1, 'svc__kernel': 'linear'}\n",
      "0.395 (+/-0.044) for {'svc__C': 10, 'svc__kernel': 'linear'}\n",
      "0.395 (+/-0.044) for {'svc__C': 100, 'svc__kernel': 'linear'}\n",
      "0.395 (+/-0.044) for {'svc__C': 1000, 'svc__kernel': 'linear'}\n",
      "\n"
     ]
    }
   ],
   "source": [
    "from sklearn.model_selection import GridSearchCV\n",
    "\n",
    "\n",
    "tuned_parameters = [{'svc__kernel': ['rbf'], 'svc__gamma': [1e-3, 1e-4],\n",
    "                     'svc__C': [1, 10, 100, 1000]},\n",
    "                    {'svc__kernel': ['linear'], 'svc__C': [1, 10, 100, 1000]}]\n",
    "\n",
    "\n",
    "text_pipe = Pipeline([\n",
    "        ('vect', CountVectorizer(analyzer = 'word',\n",
    "                  lowercase = True,\n",
    "                  ngram_range=(1, 2),\n",
    "                  preprocessor = preprocess_txt,) ),\n",
    "        ('tfidf', TfidfTransformer()),\n",
    "        ('svc', SVC(random_state=42)) ],\n",
    "        verbose = 1)\n",
    "\n",
    "\n",
    "\n",
    "clf = GridSearchCV(\n",
    "    text_pipe, tuned_parameters, scoring='f1_macro',\n",
    "    refit=True,verbose=3\n",
    ")\n",
    "\n",
    "clf.fit(X_train[:,1],y_train)\n",
    "\n",
    "print(\"Best parameters set found on development set:\")\n",
    "print()\n",
    "print(clf.best_params_)\n",
    "print()\n",
    "print(\"Grid scores on development set:\")\n",
    "print()\n",
    "means = clf.cv_results_['mean_test_score']\n",
    "stds = clf.cv_results_['std_test_score']\n",
    "for mean, std, params in zip(means, stds, clf.cv_results_['params']):\n",
    "    print(\"%0.3f (+/-%0.03f) for %r\"\n",
    "          % (mean, std * 2, params))\n",
    "print()"
   ]
  },
  {
   "cell_type": "code",
   "execution_count": null,
   "metadata": {
    "id": "-b-v8EYEEyiQ"
   },
   "outputs": [],
   "source": [
    "# make predictions\n",
    "y_pred_train_text = clf.predict(X_train[:,1])\n",
    "y_pred_val_text = clf.predict(X_val[:,1])\n",
    "y_pred_test_text = clf.predict(X_test[:,1])"
   ]
  },
  {
   "cell_type": "code",
   "execution_count": null,
   "metadata": {
    "colab": {
     "base_uri": "https://localhost:8080/"
    },
    "executionInfo": {
     "elapsed": 741,
     "status": "ok",
     "timestamp": 1618824190010,
     "user": {
      "displayName": "Subhalingam D",
      "photoUrl": "https://lh3.googleusercontent.com/a-/AOh14Gg86bQ1NVmL-U0-lCsAdMpCA_G3d9fxrw_PlOwtJg=s64",
      "userId": "08059846138458314824"
     },
     "user_tz": -330
    },
    "id": "Mi7J0fUvEy75",
    "outputId": "60137b8a-5884-45d3-f2c7-cc1263b5a979"
   },
   "outputs": [
    {
     "name": "stdout",
     "output_type": "stream",
     "text": [
      "              precision    recall  f1-score   support\n",
      "\n",
      "           0       0.99      1.00      1.00       513\n",
      "           1       1.00      1.00      1.00       586\n",
      "           2       1.00      0.99      1.00       593\n",
      "\n",
      "    accuracy                           1.00      1692\n",
      "   macro avg       1.00      1.00      1.00      1692\n",
      "weighted avg       1.00      1.00      1.00      1692\n",
      "\n",
      "              precision    recall  f1-score   support\n",
      "\n",
      "           0       0.30      0.26      0.28        91\n",
      "           1       0.43      0.49      0.46       103\n",
      "           2       0.39      0.39      0.39       105\n",
      "\n",
      "    accuracy                           0.38       299\n",
      "   macro avg       0.38      0.38      0.38       299\n",
      "weighted avg       0.38      0.38      0.38       299\n",
      "\n"
     ]
    }
   ],
   "source": [
    "from sklearn.metrics import classification_report\n",
    "print(classification_report(y_train, y_pred_train_text))\n",
    "print(classification_report(y_val, y_pred_val_text))"
   ]
  },
  {
   "cell_type": "code",
   "execution_count": null,
   "metadata": {
    "id": "EPqKJsDfEzQt"
   },
   "outputs": [],
   "source": [
    "## text_pipe.predict_proba(X_val[:,1])"
   ]
  },
  {
   "cell_type": "code",
   "execution_count": null,
   "metadata": {
    "id": "KiH6fmkyeM1w"
   },
   "outputs": [],
   "source": [
    "y_pred_test"
   ]
  },
  {
   "cell_type": "code",
   "execution_count": null,
   "metadata": {
    "id": "lYp5vLOtkdAb"
   },
   "outputs": [],
   "source": [
    "print(*y_pred_test_text,sep=\"\\n\")"
   ]
  },
  {
   "cell_type": "markdown",
   "metadata": {
    "id": "T5k_p3cbgV6r"
   },
   "source": [
    "### Combine"
   ]
  },
  {
   "cell_type": "code",
   "execution_count": null,
   "metadata": {
    "id": "E_Bo_yI4gcnL"
   },
   "outputs": [],
   "source": [
    "y_pred_train_comb = np.column_stack([y_pred_train_img,y_pred_train_text])\n",
    "y_pred_val_comb = np.column_stack([y_pred_val_img,y_pred_val_text])\n",
    "#y_pred_test_comb = np.column_stack([y_pred_test_img,y_pred_test_text])\n"
   ]
  },
  {
   "cell_type": "code",
   "execution_count": null,
   "metadata": {
    "id": "a9XRSy9KhyO2"
   },
   "outputs": [],
   "source": [
    "#clf = DecisionTreeClassifier()\n",
    "#clf = RandomForestClassifier()\n",
    "clf = SVC(random_state=42)\n",
    "clf = clf.fit(y_pred_train_comb, y_train)\n"
   ]
  },
  {
   "cell_type": "code",
   "execution_count": null,
   "metadata": {
    "id": "MuBmGc8vhW8j"
   },
   "outputs": [],
   "source": [
    "# make predictions\n",
    "y_pred_train_comb__ = clf.predict(y_pred_train_comb)\n",
    "y_pred_val_comb__ = clf.predict(y_pred_val_comb)\n",
    "#y_pred_test_comb__ = clf.predict(y_pred_test_comb)"
   ]
  },
  {
   "cell_type": "code",
   "execution_count": null,
   "metadata": {
    "colab": {
     "base_uri": "https://localhost:8080/"
    },
    "executionInfo": {
     "elapsed": 1387,
     "status": "ok",
     "timestamp": 1618826418340,
     "user": {
      "displayName": "Subhalingam D",
      "photoUrl": "https://lh3.googleusercontent.com/a-/AOh14Gg86bQ1NVmL-U0-lCsAdMpCA_G3d9fxrw_PlOwtJg=s64",
      "userId": "08059846138458314824"
     },
     "user_tz": -330
    },
    "id": "EKm4I5H2hi6s",
    "outputId": "c7647177-fd2c-4ce5-b7c8-ac891b498038"
   },
   "outputs": [
    {
     "name": "stdout",
     "output_type": "stream",
     "text": [
      "              precision    recall  f1-score   support\n",
      "\n",
      "           0       0.90      0.86      0.88       543\n",
      "           1       0.88      0.89      0.89       618\n",
      "           2       0.86      0.89      0.87       628\n",
      "\n",
      "    accuracy                           0.88      1789\n",
      "   macro avg       0.88      0.88      0.88      1789\n",
      "weighted avg       0.88      0.88      0.88      1789\n",
      "\n",
      "              precision    recall  f1-score   support\n",
      "\n",
      "           0       0.38      0.33      0.36        60\n",
      "           1       0.48      0.52      0.50        69\n",
      "           2       0.40      0.41      0.41        70\n",
      "\n",
      "    accuracy                           0.43       199\n",
      "   macro avg       0.42      0.42      0.42       199\n",
      "weighted avg       0.42      0.43      0.42       199\n",
      "\n"
     ]
    }
   ],
   "source": [
    "from sklearn.metrics import classification_report\n",
    "print(classification_report(y_train, y_pred_train_comb__))\n",
    "print(classification_report(y_val, y_pred_val_comb__))"
   ]
  },
  {
   "cell_type": "code",
   "execution_count": null,
   "metadata": {
    "id": "ufnsxqMbhmCX"
   },
   "outputs": [],
   "source": [
    "print(*y_pred_test_comb__,sep=\"\\n\")"
   ]
  },
  {
   "cell_type": "markdown",
   "metadata": {
    "id": "qYStEnz5fyvm"
   },
   "source": [
    "## Misc"
   ]
  },
  {
   "cell_type": "code",
   "execution_count": 84,
   "metadata": {
    "executionInfo": {
     "elapsed": 1006,
     "status": "ok",
     "timestamp": 1619357817601,
     "user": {
      "displayName": "Subhalingam D",
      "photoUrl": "https://lh3.googleusercontent.com/a-/AOh14Gg86bQ1NVmL-U0-lCsAdMpCA_G3d9fxrw_PlOwtJg=s64",
      "userId": "08059846138458314824"
     },
     "user_tz": -330
    },
    "id": "gyslIP8A-i0h"
   },
   "outputs": [],
   "source": [
    "import pickle\n",
    "\n",
    "open_file = open(\"__latest__4-25__X_train_wn1.pkl\", \"wb\")\n",
    "pickle.dump(X_train_wn, open_file)\n",
    "open_file.close()\n",
    "\n",
    "\n",
    "\n"
   ]
  },
  {
   "cell_type": "code",
   "execution_count": 204,
   "metadata": {
    "executionInfo": {
     "elapsed": 731,
     "status": "ok",
     "timestamp": 1619363134716,
     "user": {
      "displayName": "Subhalingam D",
      "photoUrl": "https://lh3.googleusercontent.com/a-/AOh14Gg86bQ1NVmL-U0-lCsAdMpCA_G3d9fxrw_PlOwtJg=s64",
      "userId": "08059846138458314824"
     },
     "user_tz": -330
    },
    "id": "PQv-s3-cO7_n"
   },
   "outputs": [],
   "source": [
    "\n",
    "\n",
    "open_file = open(\"__latest__4-25__text_pipe1_prob.sav\", \"wb\")\n",
    "pickle.dump(text_pipe, open_file)\n",
    "open_file.close()\n",
    "\n"
   ]
  },
  {
   "cell_type": "code",
   "execution_count": null,
   "metadata": {
    "colab": {
     "base_uri": "https://localhost:8080/"
    },
    "executionInfo": {
     "elapsed": 806,
     "status": "ok",
     "timestamp": 1619256826997,
     "user": {
      "displayName": "Subhalingam D",
      "photoUrl": "https://lh3.googleusercontent.com/a-/AOh14Gg86bQ1NVmL-U0-lCsAdMpCA_G3d9fxrw_PlOwtJg=s64",
      "userId": "08059846138458314824"
     },
     "user_tz": -330
    },
    "id": "YR3X4W96JLHw",
    "outputId": "0139dcce-cae3-46c3-e8df-e0f44c2b051e"
   },
   "outputs": [
    {
     "data": {
      "text/plain": [
       "('mather cri franchis domino pizza make offer refus 03 16 parmesan lettuc burn 1 2 medium 2 top pizza 5 99 godfath trilog godfath crono 2 p ort rount corpor alagam',\n",
       " 'mather call franchis domino pizza make offer refus 03 16 parmesan bread bite 1 2-medium 2-top pizza onto 5 99 godfath triad godfath crono 2 p ort rount firm alagam')"
      ]
     },
     "execution_count": 210,
     "metadata": {
      "tags": []
     },
     "output_type": "execute_result"
    }
   ],
   "source": [
    "iii=3\n",
    "X_train_wn[iii], X_train_emb[iii]"
   ]
  },
  {
   "cell_type": "code",
   "execution_count": 82,
   "metadata": {
    "executionInfo": {
     "elapsed": 1073,
     "status": "ok",
     "timestamp": 1619357762060,
     "user": {
      "displayName": "Subhalingam D",
      "photoUrl": "https://lh3.googleusercontent.com/a-/AOh14Gg86bQ1NVmL-U0-lCsAdMpCA_G3d9fxrw_PlOwtJg=s64",
      "userId": "08059846138458314824"
     },
     "user_tz": -330
    },
    "id": "d1CacaxgJ6Hd"
   },
   "outputs": [],
   "source": [
    "\n",
    "\n",
    "open_file = open(\"__cnn_y_val.pkl\", \"rb\")\n",
    "y__val_ = pickle.load( open_file)\n",
    "open_file.close()\n",
    "\n"
   ]
  },
  {
   "cell_type": "code",
   "execution_count": 83,
   "metadata": {
    "colab": {
     "base_uri": "https://localhost:8080/"
    },
    "executionInfo": {
     "elapsed": 798,
     "status": "ok",
     "timestamp": 1619357775619,
     "user": {
      "displayName": "Subhalingam D",
      "photoUrl": "https://lh3.googleusercontent.com/a-/AOh14Gg86bQ1NVmL-U0-lCsAdMpCA_G3d9fxrw_PlOwtJg=s64",
      "userId": "08059846138458314824"
     },
     "user_tz": -330
    },
    "id": "j1-8J7YkPldm",
    "outputId": "96406ef0-a0a1-45ad-a6a4-38ba9076f519"
   },
   "outputs": [
    {
     "data": {
      "text/plain": [
       "True"
      ]
     },
     "execution_count": 83,
     "metadata": {
      "tags": []
     },
     "output_type": "execute_result"
    }
   ],
   "source": [
    "y__val_ == y_val"
   ]
  },
  {
   "cell_type": "code",
   "execution_count": 132,
   "metadata": {
    "executionInfo": {
     "elapsed": 977,
     "status": "ok",
     "timestamp": 1619360523173,
     "user": {
      "displayName": "Subhalingam D",
      "photoUrl": "https://lh3.googleusercontent.com/a-/AOh14Gg86bQ1NVmL-U0-lCsAdMpCA_G3d9fxrw_PlOwtJg=s64",
      "userId": "08059846138458314824"
     },
     "user_tz": -330
    },
    "id": "Hc1mV0eKPrNj"
   },
   "outputs": [],
   "source": [
    "open_file = open(\"__latest__4-25__X_train.pkl\", \"wb\")\n",
    "pickle.dump(X_train, open_file)\n",
    "open_file.close()\n",
    "\n",
    "open_file = open(\"__latest__4-25__X_test.pkl\", \"wb\")\n",
    "pickle.dump(X_test, open_file)\n",
    "open_file.close()\n",
    "\n",
    "open_file = open(\"__latest__4-25__X_val.pkl\", \"wb\")\n",
    "pickle.dump(X_val, open_file)\n",
    "open_file.close()\n",
    "\n",
    "open_file = open(\"__latest__4-25__y_train.pkl\", \"wb\")\n",
    "pickle.dump(y_train, open_file)\n",
    "open_file.close()\n",
    "\n",
    "open_file = open(\"__latest__4-25__y_val.pkl\", \"wb\")\n",
    "pickle.dump(y_val, open_file)\n",
    "open_file.close()"
   ]
  },
  {
   "cell_type": "markdown",
   "metadata": {
    "id": "jmrbHlPJP_5f"
   },
   "source": [
    "# Ensemble"
   ]
  },
  {
   "cell_type": "markdown",
   "metadata": {
    "id": "480bRzrXTBSe"
   },
   "source": [
    "## My"
   ]
  },
  {
   "cell_type": "code",
   "execution_count": 110,
   "metadata": {
    "executionInfo": {
     "elapsed": 822,
     "status": "ok",
     "timestamp": 1619358735228,
     "user": {
      "displayName": "Subhalingam D",
      "photoUrl": "https://lh3.googleusercontent.com/a-/AOh14Gg86bQ1NVmL-U0-lCsAdMpCA_G3d9fxrw_PlOwtJg=s64",
      "userId": "08059846138458314824"
     },
     "user_tz": -330
    },
    "id": "6sm8l0MZQZw5"
   },
   "outputs": [],
   "source": []
  },
  {
   "cell_type": "code",
   "execution_count": 150,
   "metadata": {
    "colab": {
     "base_uri": "https://localhost:8080/"
    },
    "executionInfo": {
     "elapsed": 2076,
     "status": "ok",
     "timestamp": 1619361372560,
     "user": {
      "displayName": "Subhalingam D",
      "photoUrl": "https://lh3.googleusercontent.com/a-/AOh14Gg86bQ1NVmL-U0-lCsAdMpCA_G3d9fxrw_PlOwtJg=s64",
      "userId": "08059846138458314824"
     },
     "user_tz": -330
    },
    "id": "9R6x14n7QD1H",
    "outputId": "d08214f8-814c-4b6a-c41d-b0a30a36ce46"
   },
   "outputs": [
    {
     "name": "stdout",
     "output_type": "stream",
     "text": [
      "              precision    recall  f1-score   support\n",
      "\n",
      "           0       0.99      0.99      0.99       543\n",
      "           1       0.99      1.00      1.00       620\n",
      "           2       1.00      0.99      0.99       628\n",
      "\n",
      "    accuracy                           0.99      1791\n",
      "   macro avg       0.99      0.99      0.99      1791\n",
      "weighted avg       0.99      0.99      0.99      1791\n",
      "\n",
      "              precision    recall  f1-score   support\n",
      "\n",
      "           0       0.34      0.26      0.30        61\n",
      "           1       0.43      0.51      0.47        69\n",
      "           2       0.42      0.43      0.42        70\n",
      "\n",
      "    accuracy                           0.41       200\n",
      "   macro avg       0.40      0.40      0.40       200\n",
      "weighted avg       0.40      0.41      0.40       200\n",
      "\n"
     ]
    }
   ],
   "source": [
    "open_file = open(\"__latest__4-25__text_pipe.sav\", \"rb\")\n",
    "clf = pickle.load( open_file)\n",
    "open_file.close()\n",
    "\n",
    "\n",
    "# make predictions\n",
    "y_pred_train_text1 = clf.predict(list(X_train[:,1]))\n",
    "y_pred_val_text1 = clf.predict(X_val[:,1])\n",
    "\n",
    "print(classification_report([x for x in y_train], y_pred_train_text1))\n",
    "print(classification_report([x for x in y_val], y_pred_val_text1))"
   ]
  },
  {
   "cell_type": "code",
   "execution_count": 97,
   "metadata": {
    "executionInfo": {
     "elapsed": 862,
     "status": "ok",
     "timestamp": 1619358225016,
     "user": {
      "displayName": "Subhalingam D",
      "photoUrl": "https://lh3.googleusercontent.com/a-/AOh14Gg86bQ1NVmL-U0-lCsAdMpCA_G3d9fxrw_PlOwtJg=s64",
      "userId": "08059846138458314824"
     },
     "user_tz": -330
    },
    "id": "PxSNqZEaQlIg"
   },
   "outputs": [],
   "source": []
  },
  {
   "cell_type": "code",
   "execution_count": 196,
   "metadata": {
    "colab": {
     "base_uri": "https://localhost:8080/"
    },
    "executionInfo": {
     "elapsed": 840,
     "status": "ok",
     "timestamp": 1619362956103,
     "user": {
      "displayName": "Subhalingam D",
      "photoUrl": "https://lh3.googleusercontent.com/a-/AOh14Gg86bQ1NVmL-U0-lCsAdMpCA_G3d9fxrw_PlOwtJg=s64",
      "userId": "08059846138458314824"
     },
     "user_tz": -330
    },
    "id": "OX1CnajuRZiN",
    "outputId": "38954921-619d-470d-fa24-bd6cc1e37230"
   },
   "outputs": [
    {
     "data": {
      "text/plain": [
       "Pipeline(memory=None,\n",
       "         steps=[('vect',\n",
       "                 CountVectorizer(analyzer='word', binary=False,\n",
       "                                 decode_error='strict',\n",
       "                                 dtype=<class 'numpy.int64'>, encoding='utf-8',\n",
       "                                 input='content', lowercase=True, max_df=600,\n",
       "                                 max_features=None, min_df=3,\n",
       "                                 ngram_range=(1, 2), preprocessor=None,\n",
       "                                 stop_words=None, strip_accents=None,\n",
       "                                 token_pattern='(?u)\\\\b\\\\w\\\\w+\\\\b',\n",
       "                                 tokenizer=None, vocabulary=None)),\n",
       "                ('tfidf',\n",
       "                 TfidfTransformer(norm='l2', smooth_idf=True,\n",
       "                                  sublinear_tf=False, use_idf=True)),\n",
       "                ('clf',\n",
       "                 SVC(C=1, break_ties=False, cache_size=200, class_weight=None,\n",
       "                     coef0=0.0, decision_function_shape='ovr', degree=3,\n",
       "                     gamma='scale', kernel='rbf', max_iter=5000,\n",
       "                     probability=False, random_state=42, shrinking=True,\n",
       "                     tol=0.001, verbose=False))],\n",
       "         verbose=1)"
      ]
     },
     "execution_count": 196,
     "metadata": {
      "tags": []
     },
     "output_type": "execute_result"
    }
   ],
   "source": [
    "clf"
   ]
  },
  {
   "cell_type": "code",
   "execution_count": 353,
   "metadata": {
    "colab": {
     "base_uri": "https://localhost:8080/"
    },
    "executionInfo": {
     "elapsed": 3614,
     "status": "ok",
     "timestamp": 1619367898887,
     "user": {
      "displayName": "Subhalingam D",
      "photoUrl": "https://lh3.googleusercontent.com/a-/AOh14Gg86bQ1NVmL-U0-lCsAdMpCA_G3d9fxrw_PlOwtJg=s64",
      "userId": "08059846138458314824"
     },
     "user_tz": -330
    },
    "id": "3ODn83-PRg0e",
    "outputId": "febaa6af-25b1-4340-ffa6-9e7cb2931b6b"
   },
   "outputs": [
    {
     "name": "stdout",
     "output_type": "stream",
     "text": [
      "              precision    recall  f1-score   support\n",
      "\n",
      "           0       0.99      0.99      0.99       543\n",
      "           1       1.00      1.00      1.00       620\n",
      "           2       1.00      0.99      0.99       628\n",
      "\n",
      "    accuracy                           0.99      1791\n",
      "   macro avg       0.99      0.99      0.99      1791\n",
      "weighted avg       0.99      0.99      0.99      1791\n",
      "\n",
      "              precision    recall  f1-score   support\n",
      "\n",
      "           0       0.38      0.26      0.31        61\n",
      "           1       0.42      0.52      0.46        69\n",
      "           2       0.42      0.43      0.42        70\n",
      "\n",
      "    accuracy                           0.41       200\n",
      "   macro avg       0.41      0.40      0.40       200\n",
      "weighted avg       0.41      0.41      0.40       200\n",
      "\n"
     ]
    }
   ],
   "source": [
    "open_file = open(\"__latest__4-25__text_pipe1_prob.sav\", \"rb\")\n",
    "clf = pickle.load( open_file)\n",
    "open_file.close()\n",
    "\n",
    "\n",
    "\n",
    "# make predictions\n",
    "y_pred_val_text2 = clf.predict(X_val[:,1])\n",
    "y_pred_train_text2 = clf.predict(list(X_train[:,1]))\n",
    "\n",
    "y_pred_val_text2_ = clf.predict_proba(X_val[:,1])\n",
    "y_pred_train_text2_ = clf.predict_proba(list(X_train[:,1]))\n",
    "\n",
    "y_pred_test_text2_ = clf.predict_proba(list(X_test[:,1]))\n",
    "\n",
    "\n",
    "print(classification_report([x for x in y_train], y_pred_train_text2))\n",
    "print(classification_report([x for x in y_val], y_pred_val_text2))"
   ]
  },
  {
   "cell_type": "code",
   "execution_count": 137,
   "metadata": {
    "executionInfo": {
     "elapsed": 679,
     "status": "ok",
     "timestamp": 1619360796018,
     "user": {
      "displayName": "Subhalingam D",
      "photoUrl": "https://lh3.googleusercontent.com/a-/AOh14Gg86bQ1NVmL-U0-lCsAdMpCA_G3d9fxrw_PlOwtJg=s64",
      "userId": "08059846138458314824"
     },
     "user_tz": -330
    },
    "id": "GGibzYfMaf64"
   },
   "outputs": [],
   "source": [
    "with open(\"out/my_1.txt\",\"w\") as f:\n",
    "  print(*y_pred_val_text1,sep=\"\\n\",file=f)"
   ]
  },
  {
   "cell_type": "code",
   "execution_count": 138,
   "metadata": {
    "executionInfo": {
     "elapsed": 722,
     "status": "ok",
     "timestamp": 1619360798011,
     "user": {
      "displayName": "Subhalingam D",
      "photoUrl": "https://lh3.googleusercontent.com/a-/AOh14Gg86bQ1NVmL-U0-lCsAdMpCA_G3d9fxrw_PlOwtJg=s64",
      "userId": "08059846138458314824"
     },
     "user_tz": -330
    },
    "id": "KKxnMRrTRhHn"
   },
   "outputs": [],
   "source": [
    "with open(\"out/my_2.txt\",\"w\") as f:\n",
    "  print(*y_pred_val_text2,sep=\"\\n\",file=f)"
   ]
  },
  {
   "cell_type": "markdown",
   "metadata": {
    "id": "Dt6AsJdqRjhs"
   },
   "source": [
    "## Transfer"
   ]
  },
  {
   "cell_type": "code",
   "execution_count": 141,
   "metadata": {
    "executionInfo": {
     "elapsed": 707,
     "status": "ok",
     "timestamp": 1619361090409,
     "user": {
      "displayName": "Subhalingam D",
      "photoUrl": "https://lh3.googleusercontent.com/a-/AOh14Gg86bQ1NVmL-U0-lCsAdMpCA_G3d9fxrw_PlOwtJg=s64",
      "userId": "08059846138458314824"
     },
     "user_tz": -330
    },
    "id": "iT58TgPORmkE"
   },
   "outputs": [],
   "source": [
    "open_file = open(\"__cnn_pred_val.pkl\", \"rb\")\n",
    "__cnn_pred_val = pickle.load( open_file)\n",
    "open_file.close()\n",
    "\n",
    "open_file = open(\"__cnn_y_val.pkl\", \"rb\")\n",
    "__cnn_y_val = pickle.load( open_file)\n",
    "open_file.close()\n",
    "\n",
    "\n",
    "open_file = open(\"__cnn_pred_train.pkl\", \"rb\")\n",
    "__cnn_pred_train = pickle.load( open_file)\n",
    "open_file.close()\n",
    "\n",
    "open_file = open(\"__cnn_y_train.pkl\", \"rb\")\n",
    "__cnn_y_train = pickle.load( open_file)\n",
    "open_file.close()"
   ]
  },
  {
   "cell_type": "code",
   "execution_count": 101,
   "metadata": {
    "colab": {
     "base_uri": "https://localhost:8080/"
    },
    "executionInfo": {
     "elapsed": 880,
     "status": "ok",
     "timestamp": 1619358443429,
     "user": {
      "displayName": "Subhalingam D",
      "photoUrl": "https://lh3.googleusercontent.com/a-/AOh14Gg86bQ1NVmL-U0-lCsAdMpCA_G3d9fxrw_PlOwtJg=s64",
      "userId": "08059846138458314824"
     },
     "user_tz": -330
    },
    "id": "Vpd-SMueSMDM",
    "outputId": "ce5584d5-085a-4716-87ea-b6d4429413ea"
   },
   "outputs": [
    {
     "data": {
      "text/plain": [
       "True"
      ]
     },
     "execution_count": 101,
     "metadata": {
      "tags": []
     },
     "output_type": "execute_result"
    }
   ],
   "source": [
    "__cnn_y_val == y_val"
   ]
  },
  {
   "cell_type": "code",
   "execution_count": 355,
   "metadata": {
    "colab": {
     "base_uri": "https://localhost:8080/"
    },
    "executionInfo": {
     "elapsed": 637,
     "status": "ok",
     "timestamp": 1619367966466,
     "user": {
      "displayName": "Subhalingam D",
      "photoUrl": "https://lh3.googleusercontent.com/a-/AOh14Gg86bQ1NVmL-U0-lCsAdMpCA_G3d9fxrw_PlOwtJg=s64",
      "userId": "08059846138458314824"
     },
     "user_tz": -330
    },
    "id": "PkOs3qb7SOJg",
    "outputId": "ce8a56f3-f92c-4ff7-bb6a-6c352cd8239f"
   },
   "outputs": [
    {
     "name": "stdout",
     "output_type": "stream",
     "text": [
      "              precision    recall  f1-score   support\n",
      "\n",
      "           0       0.99      1.00      1.00       543\n",
      "           1       1.00      1.00      1.00       620\n",
      "           2       1.00      0.99      0.99       628\n",
      "\n",
      "    accuracy                           1.00      1791\n",
      "   macro avg       1.00      1.00      1.00      1791\n",
      "weighted avg       1.00      1.00      1.00      1791\n",
      "\n",
      "              precision    recall  f1-score   support\n",
      "\n",
      "           0       0.35      0.36      0.36        61\n",
      "           1       0.42      0.43      0.43        69\n",
      "           2       0.45      0.43      0.44        70\n",
      "\n",
      "    accuracy                           0.41       200\n",
      "   macro avg       0.41      0.41      0.41       200\n",
      "weighted avg       0.41      0.41      0.41       200\n",
      "\n"
     ]
    }
   ],
   "source": [
    "open_file = open(\"nlptone__dt.sav\", \"rb\")\n",
    "clf = pickle.load( open_file)\n",
    "open_file.close()\n",
    "\n",
    "# make predictions\n",
    "y_pred_val_text_t0 = clf.predict(__cnn_pred_val)\n",
    "y_pred_train_text_t0 = clf.predict(__cnn_pred_train)\n",
    "\n",
    "y_pred_train_test_t0 = clf.predict(__cnn_pred_test)\n",
    "\n",
    "\n",
    "print(classification_report([x for x in y_train], y_pred_train_text_t0))\n",
    "print(classification_report([x for x in y_val], y_pred_val_text_t0))"
   ]
  },
  {
   "cell_type": "code",
   "execution_count": 356,
   "metadata": {
    "colab": {
     "base_uri": "https://localhost:8080/"
    },
    "executionInfo": {
     "elapsed": 979,
     "status": "ok",
     "timestamp": 1619367982646,
     "user": {
      "displayName": "Subhalingam D",
      "photoUrl": "https://lh3.googleusercontent.com/a-/AOh14Gg86bQ1NVmL-U0-lCsAdMpCA_G3d9fxrw_PlOwtJg=s64",
      "userId": "08059846138458314824"
     },
     "user_tz": -330
    },
    "id": "ljtMV6LESf2e",
    "outputId": "45d19423-cd11-4900-dc20-93062edfbdb1"
   },
   "outputs": [
    {
     "name": "stdout",
     "output_type": "stream",
     "text": [
      "              precision    recall  f1-score   support\n",
      "\n",
      "           0       0.99      1.00      1.00       543\n",
      "           1       1.00      1.00      1.00       620\n",
      "           2       1.00      0.99      0.99       628\n",
      "\n",
      "    accuracy                           1.00      1791\n",
      "   macro avg       1.00      1.00      1.00      1791\n",
      "weighted avg       1.00      1.00      1.00      1791\n",
      "\n",
      "              precision    recall  f1-score   support\n",
      "\n",
      "           0       0.37      0.36      0.37        61\n",
      "           1       0.40      0.41      0.40        69\n",
      "           2       0.46      0.47      0.47        70\n",
      "\n",
      "    accuracy                           0.41       200\n",
      "   macro avg       0.41      0.41      0.41       200\n",
      "weighted avg       0.41      0.41      0.41       200\n",
      "\n"
     ]
    }
   ],
   "source": [
    "open_file = open(\"nlptone__dt1.sav\", \"rb\")\n",
    "clf = pickle.load( open_file)\n",
    "open_file.close()\n",
    "\n",
    "# make predictions\n",
    "y_pred_val_text_t1 = clf.predict(__cnn_pred_val)\n",
    "y_pred_train_text_t1 = clf.predict(__cnn_pred_train)\n",
    "\n",
    "y_pred_train_test_t1 = clf.predict(__cnn_pred_test)\n",
    "\n",
    "print(classification_report([x for x in y_train], y_pred_train_text_t1))\n",
    "print(classification_report([x for x in y_val], y_pred_val_text_t1))"
   ]
  },
  {
   "cell_type": "code",
   "execution_count": 357,
   "metadata": {
    "colab": {
     "base_uri": "https://localhost:8080/"
    },
    "executionInfo": {
     "elapsed": 906,
     "status": "ok",
     "timestamp": 1619367990722,
     "user": {
      "displayName": "Subhalingam D",
      "photoUrl": "https://lh3.googleusercontent.com/a-/AOh14Gg86bQ1NVmL-U0-lCsAdMpCA_G3d9fxrw_PlOwtJg=s64",
      "userId": "08059846138458314824"
     },
     "user_tz": -330
    },
    "id": "_zOwbgAFSjFt",
    "outputId": "74d64da0-0a1c-43f1-ab95-3570ecb256d0"
   },
   "outputs": [
    {
     "name": "stdout",
     "output_type": "stream",
     "text": [
      "              precision    recall  f1-score   support\n",
      "\n",
      "           0       0.99      1.00      1.00       543\n",
      "           1       1.00      1.00      1.00       620\n",
      "           2       1.00      0.99      0.99       628\n",
      "\n",
      "    accuracy                           1.00      1791\n",
      "   macro avg       1.00      1.00      1.00      1791\n",
      "weighted avg       1.00      1.00      1.00      1791\n",
      "\n",
      "              precision    recall  f1-score   support\n",
      "\n",
      "           0       0.36      0.39      0.38        61\n",
      "           1       0.41      0.43      0.42        69\n",
      "           2       0.46      0.40      0.43        70\n",
      "\n",
      "    accuracy                           0.41       200\n",
      "   macro avg       0.41      0.41      0.41       200\n",
      "weighted avg       0.41      0.41      0.41       200\n",
      "\n"
     ]
    }
   ],
   "source": [
    "open_file = open(\"nlptone__dt2.sav\", \"rb\")\n",
    "clf = pickle.load( open_file)\n",
    "open_file.close()\n",
    "\n",
    "# make predictions\n",
    "y_pred_val_text_t2 = clf.predict(__cnn_pred_val)\n",
    "y_pred_train_text_t2 = clf.predict(__cnn_pred_train)\n",
    "\n",
    "y_pred_train_test_t2 = clf.predict(__cnn_pred_test)\n",
    "\n",
    "print(classification_report([x for x in y_train], y_pred_train_text_t2))\n",
    "print(classification_report([x for x in y_val], y_pred_val_text_t2))"
   ]
  },
  {
   "cell_type": "code",
   "execution_count": 358,
   "metadata": {
    "colab": {
     "base_uri": "https://localhost:8080/"
    },
    "executionInfo": {
     "elapsed": 927,
     "status": "ok",
     "timestamp": 1619367996300,
     "user": {
      "displayName": "Subhalingam D",
      "photoUrl": "https://lh3.googleusercontent.com/a-/AOh14Gg86bQ1NVmL-U0-lCsAdMpCA_G3d9fxrw_PlOwtJg=s64",
      "userId": "08059846138458314824"
     },
     "user_tz": -330
    },
    "id": "AK-KAcO9Skft",
    "outputId": "deb2e6cc-f872-4b01-d919-b260cd0fc850"
   },
   "outputs": [
    {
     "name": "stdout",
     "output_type": "stream",
     "text": [
      "              precision    recall  f1-score   support\n",
      "\n",
      "           0       0.99      1.00      1.00       543\n",
      "           1       1.00      1.00      1.00       620\n",
      "           2       1.00      0.99      0.99       628\n",
      "\n",
      "    accuracy                           1.00      1791\n",
      "   macro avg       1.00      1.00      1.00      1791\n",
      "weighted avg       1.00      1.00      1.00      1791\n",
      "\n",
      "              precision    recall  f1-score   support\n",
      "\n",
      "           0       0.36      0.33      0.34        61\n",
      "           1       0.41      0.39      0.40        69\n",
      "           2       0.46      0.51      0.49        70\n",
      "\n",
      "    accuracy                           0.41       200\n",
      "   macro avg       0.41      0.41      0.41       200\n",
      "weighted avg       0.41      0.41      0.41       200\n",
      "\n"
     ]
    },
    {
     "name": "stderr",
     "output_type": "stream",
     "text": [
      "/usr/local/lib/python3.7/dist-packages/sklearn/base.py:318: UserWarning: Trying to unpickle estimator DecisionTreeClassifier from version 0.23.2 when using version 0.22.2.post1. This might lead to breaking code or invalid results. Use at your own risk.\n",
      "  UserWarning)\n"
     ]
    }
   ],
   "source": [
    "open_file = open(\"nlptone__dt3.sav\", \"rb\")\n",
    "clf = pickle.load( open_file)\n",
    "open_file.close()\n",
    "\n",
    "# make predictions\n",
    "y_pred_val_text_t3 = clf.predict(__cnn_pred_val)\n",
    "y_pred_train_text_t3 = clf.predict(__cnn_pred_train)\n",
    "\n",
    "y_pred_train_test_t3 = clf.predict(__cnn_pred_test)\n",
    "\n",
    "print(classification_report([x for x in y_train], y_pred_train_text_t3))\n",
    "print(classification_report([x for x in y_val], y_pred_val_text_t3))"
   ]
  },
  {
   "cell_type": "code",
   "execution_count": 359,
   "metadata": {
    "colab": {
     "base_uri": "https://localhost:8080/"
    },
    "executionInfo": {
     "elapsed": 945,
     "status": "ok",
     "timestamp": 1619368005078,
     "user": {
      "displayName": "Subhalingam D",
      "photoUrl": "https://lh3.googleusercontent.com/a-/AOh14Gg86bQ1NVmL-U0-lCsAdMpCA_G3d9fxrw_PlOwtJg=s64",
      "userId": "08059846138458314824"
     },
     "user_tz": -330
    },
    "id": "SpP_aMgDSmnJ",
    "outputId": "014ef096-f8cf-4f2a-d9e5-4f3a795cc9d0"
   },
   "outputs": [
    {
     "name": "stdout",
     "output_type": "stream",
     "text": [
      "              precision    recall  f1-score   support\n",
      "\n",
      "           0       0.99      1.00      1.00       543\n",
      "           1       1.00      1.00      1.00       620\n",
      "           2       1.00      0.99      0.99       628\n",
      "\n",
      "    accuracy                           1.00      1791\n",
      "   macro avg       1.00      1.00      1.00      1791\n",
      "weighted avg       1.00      1.00      1.00      1791\n",
      "\n",
      "              precision    recall  f1-score   support\n",
      "\n",
      "           0       0.38      0.34      0.36        61\n",
      "           1       0.41      0.43      0.42        69\n",
      "           2       0.43      0.43      0.43        70\n",
      "\n",
      "    accuracy                           0.41       200\n",
      "   macro avg       0.40      0.40      0.40       200\n",
      "weighted avg       0.40      0.41      0.40       200\n",
      "\n"
     ]
    },
    {
     "name": "stderr",
     "output_type": "stream",
     "text": [
      "/usr/local/lib/python3.7/dist-packages/sklearn/base.py:318: UserWarning: Trying to unpickle estimator DecisionTreeClassifier from version 0.23.2 when using version 0.22.2.post1. This might lead to breaking code or invalid results. Use at your own risk.\n",
      "  UserWarning)\n"
     ]
    }
   ],
   "source": [
    "open_file = open(\"nlptone__dt4.sav\", \"rb\")\n",
    "clf = pickle.load( open_file)\n",
    "open_file.close()\n",
    "\n",
    "# make predictions\n",
    "y_pred_val_text_t4 = clf.predict(__cnn_pred_val)\n",
    "y_pred_train_text_t4 = clf.predict(__cnn_pred_train)\n",
    "\n",
    "y_pred_train_test_t4 = clf.predict(__cnn_pred_test)\n",
    "\n",
    "print(classification_report([x for x in y_train], y_pred_train_text_t4))\n",
    "print(classification_report([x for x in y_val], y_pred_val_text_t4))"
   ]
  },
  {
   "cell_type": "code",
   "execution_count": 360,
   "metadata": {
    "colab": {
     "base_uri": "https://localhost:8080/"
    },
    "executionInfo": {
     "elapsed": 995,
     "status": "ok",
     "timestamp": 1619368013483,
     "user": {
      "displayName": "Subhalingam D",
      "photoUrl": "https://lh3.googleusercontent.com/a-/AOh14Gg86bQ1NVmL-U0-lCsAdMpCA_G3d9fxrw_PlOwtJg=s64",
      "userId": "08059846138458314824"
     },
     "user_tz": -330
    },
    "id": "OnapkCylSobt",
    "outputId": "3c36d67b-d421-429d-eac3-ef82ab39dae1"
   },
   "outputs": [
    {
     "name": "stdout",
     "output_type": "stream",
     "text": [
      "              precision    recall  f1-score   support\n",
      "\n",
      "           0       0.99      1.00      1.00       543\n",
      "           1       1.00      1.00      1.00       620\n",
      "           2       1.00      0.99      0.99       628\n",
      "\n",
      "    accuracy                           1.00      1791\n",
      "   macro avg       1.00      1.00      1.00      1791\n",
      "weighted avg       1.00      1.00      1.00      1791\n",
      "\n",
      "              precision    recall  f1-score   support\n",
      "\n",
      "           0       0.35      0.36      0.35        61\n",
      "           1       0.42      0.41      0.41        69\n",
      "           2       0.49      0.49      0.49        70\n",
      "\n",
      "    accuracy                           0.42       200\n",
      "   macro avg       0.42      0.42      0.42       200\n",
      "weighted avg       0.42      0.42      0.42       200\n",
      "\n"
     ]
    },
    {
     "name": "stderr",
     "output_type": "stream",
     "text": [
      "/usr/local/lib/python3.7/dist-packages/sklearn/base.py:318: UserWarning: Trying to unpickle estimator DecisionTreeClassifier from version 0.23.2 when using version 0.22.2.post1. This might lead to breaking code or invalid results. Use at your own risk.\n",
      "  UserWarning)\n"
     ]
    }
   ],
   "source": [
    "open_file = open(\"nlptone__dt5.sav\", \"rb\")\n",
    "clf = pickle.load( open_file)\n",
    "open_file.close()\n",
    "\n",
    "# make predictions\n",
    "y_pred_val_text_t5 = clf.predict(__cnn_pred_val)\n",
    "y_pred_train_text_t5 = clf.predict(__cnn_pred_train)\n",
    "\n",
    "y_pred_train_test_t5 = clf.predict(__cnn_pred_test)\n",
    "\n",
    "print(classification_report([x for x in y_train], y_pred_train_text_t5))\n",
    "print(classification_report([x for x in y_val], y_pred_val_text_t5))"
   ]
  },
  {
   "cell_type": "code",
   "execution_count": 361,
   "metadata": {
    "colab": {
     "base_uri": "https://localhost:8080/"
    },
    "executionInfo": {
     "elapsed": 838,
     "status": "ok",
     "timestamp": 1619368021709,
     "user": {
      "displayName": "Subhalingam D",
      "photoUrl": "https://lh3.googleusercontent.com/a-/AOh14Gg86bQ1NVmL-U0-lCsAdMpCA_G3d9fxrw_PlOwtJg=s64",
      "userId": "08059846138458314824"
     },
     "user_tz": -330
    },
    "id": "bz7Cv2_uSp3d",
    "outputId": "f4d9ce7a-ec89-40bf-9611-a8267bbfcacd"
   },
   "outputs": [
    {
     "name": "stdout",
     "output_type": "stream",
     "text": [
      "              precision    recall  f1-score   support\n",
      "\n",
      "           0       0.99      1.00      1.00       543\n",
      "           1       1.00      1.00      1.00       620\n",
      "           2       1.00      0.99      0.99       628\n",
      "\n",
      "    accuracy                           1.00      1791\n",
      "   macro avg       1.00      1.00      1.00      1791\n",
      "weighted avg       1.00      1.00      1.00      1791\n",
      "\n",
      "              precision    recall  f1-score   support\n",
      "\n",
      "           0       0.38      0.41      0.40        61\n",
      "           1       0.40      0.42      0.41        69\n",
      "           2       0.46      0.41      0.44        70\n",
      "\n",
      "    accuracy                           0.41       200\n",
      "   macro avg       0.42      0.41      0.41       200\n",
      "weighted avg       0.42      0.41      0.42       200\n",
      "\n"
     ]
    },
    {
     "name": "stderr",
     "output_type": "stream",
     "text": [
      "/usr/local/lib/python3.7/dist-packages/sklearn/base.py:318: UserWarning: Trying to unpickle estimator DecisionTreeClassifier from version 0.23.2 when using version 0.22.2.post1. This might lead to breaking code or invalid results. Use at your own risk.\n",
      "  UserWarning)\n"
     ]
    }
   ],
   "source": [
    "open_file = open(\"nlptone__dt6.sav\", \"rb\")\n",
    "clf = pickle.load( open_file)\n",
    "open_file.close()\n",
    "\n",
    "# make predictions\n",
    "y_pred_val_text_t6 = clf.predict(__cnn_pred_val)\n",
    "y_pred_train_text_t6 = clf.predict(__cnn_pred_train)\n",
    "\n",
    "y_pred_train_test_t6 = clf.predict(__cnn_pred_test)\n",
    "\n",
    "print(classification_report([x for x in y_train], y_pred_train_text_t6))\n",
    "print(classification_report([x for x in y_val], y_pred_val_text_t6))"
   ]
  },
  {
   "cell_type": "code",
   "execution_count": 140,
   "metadata": {
    "executionInfo": {
     "elapsed": 852,
     "status": "ok",
     "timestamp": 1619360959603,
     "user": {
      "displayName": "Subhalingam D",
      "photoUrl": "https://lh3.googleusercontent.com/a-/AOh14Gg86bQ1NVmL-U0-lCsAdMpCA_G3d9fxrw_PlOwtJg=s64",
      "userId": "08059846138458314824"
     },
     "user_tz": -330
    },
    "id": "_wLIY99ESrhL"
   },
   "outputs": [],
   "source": [
    "with open(\"out/transfer_0.txt\",\"w\") as f:\n",
    "  print(*y_pred_val_text_t0,sep=\"\\n\",file=f)\n",
    "\n",
    "with open(\"out/transfer_1.txt\",\"w\") as f:\n",
    "  print(*y_pred_val_text_t1,sep=\"\\n\",file=f)\n",
    "\n",
    "with open(\"out/transfer_2.txt\",\"w\") as f:\n",
    "  print(*y_pred_val_text_t2,sep=\"\\n\",file=f)\n",
    "\n",
    "with open(\"out/transfer_3.txt\",\"w\") as f:\n",
    "  print(*y_pred_val_text_t3,sep=\"\\n\",file=f)\n",
    "\n",
    "with open(\"out/transfer_4.txt\",\"w\") as f:\n",
    "  print(*y_pred_val_text_t4,sep=\"\\n\",file=f)\n",
    "\n",
    "with open(\"out/transfer_5.txt\",\"w\") as f:\n",
    "  print(*y_pred_val_text_t5,sep=\"\\n\",file=f)\n",
    "\n",
    "with open(\"out/transfer_6.txt\",\"w\") as f:\n",
    "  print(*y_pred_val_text_t6,sep=\"\\n\",file=f)"
   ]
  },
  {
   "cell_type": "markdown",
   "metadata": {
    "id": "vCZaLy6PTJes"
   },
   "source": [
    "## Mixin"
   ]
  },
  {
   "cell_type": "code",
   "execution_count": 417,
   "metadata": {
    "executionInfo": {
     "elapsed": 1236,
     "status": "ok",
     "timestamp": 1619369054713,
     "user": {
      "displayName": "Subhalingam D",
      "photoUrl": "https://lh3.googleusercontent.com/a-/AOh14Gg86bQ1NVmL-U0-lCsAdMpCA_G3d9fxrw_PlOwtJg=s64",
      "userId": "08059846138458314824"
     },
     "user_tz": -330
    },
    "id": "s2W1H_AwTLq3"
   },
   "outputs": [],
   "source": [
    "\"\"\"\n",
    "\n",
    "new_X_train = np.column_stack([y_pred_train_text2_,\n",
    "                               __cnn_pred_train\n",
    "                               ])\n",
    "\n",
    "new_X_val = np.column_stack([y_pred_val_text2_,\n",
    "                             __cnn_pred_val\n",
    "                             ])\n",
    "\"\"\"\n",
    "\n",
    "new_X_train = np.column_stack([y_pred_train_text2_,\n",
    "                               y_pred_train_text_t6,\n",
    "                               y_pred_train_text_t3,\n",
    "                               y_pred_train_text_t2\n",
    "                               ])\n",
    "\n",
    "new_X_val = np.column_stack([y_pred_val_text2_,\n",
    "                             y_pred_val_text_t6,\n",
    "                             y_pred_val_text_t3,\n",
    "                             y_pred_val_text_t2\n",
    "                             ])\n",
    "\n",
    "new_X_test = np.column_stack([y_pred_test_text2_,\n",
    "                             y_pred_train_test_t6,\n",
    "                             y_pred_train_test_t3,\n",
    "                             y_pred_train_test_t2\n",
    "                             ])"
   ]
  },
  {
   "cell_type": "code",
   "execution_count": 418,
   "metadata": {
    "colab": {
     "base_uri": "https://localhost:8080/"
    },
    "executionInfo": {
     "elapsed": 766,
     "status": "ok",
     "timestamp": 1619369055802,
     "user": {
      "displayName": "Subhalingam D",
      "photoUrl": "https://lh3.googleusercontent.com/a-/AOh14Gg86bQ1NVmL-U0-lCsAdMpCA_G3d9fxrw_PlOwtJg=s64",
      "userId": "08059846138458314824"
     },
     "user_tz": -330
    },
    "id": "joHc6_yYXC0W",
    "outputId": "6900f3b0-f70e-4eac-8045-b8887692d393"
   },
   "outputs": [
    {
     "data": {
      "text/plain": [
       "((1791, 6), (600, 6))"
      ]
     },
     "execution_count": 418,
     "metadata": {
      "tags": []
     },
     "output_type": "execute_result"
    }
   ],
   "source": [
    "new_X_train.shape, new_X_test.shape"
   ]
  },
  {
   "cell_type": "code",
   "execution_count": 440,
   "metadata": {
    "colab": {
     "base_uri": "https://localhost:8080/"
    },
    "executionInfo": {
     "elapsed": 944,
     "status": "ok",
     "timestamp": 1619369200534,
     "user": {
      "displayName": "Subhalingam D",
      "photoUrl": "https://lh3.googleusercontent.com/a-/AOh14Gg86bQ1NVmL-U0-lCsAdMpCA_G3d9fxrw_PlOwtJg=s64",
      "userId": "08059846138458314824"
     },
     "user_tz": -330
    },
    "id": "EOCalIOGeD_A",
    "outputId": "c4e4ccec-04db-43a6-89ac-6440b3db9fb6"
   },
   "outputs": [
    {
     "data": {
      "text/plain": [
       "DecisionTreeClassifier(ccp_alpha=0.0, class_weight=None, criterion='gini',\n",
       "                       max_depth=None, max_features=None, max_leaf_nodes=None,\n",
       "                       min_impurity_decrease=0.0, min_impurity_split=None,\n",
       "                       min_samples_leaf=1, min_samples_split=2,\n",
       "                       min_weight_fraction_leaf=0.0, presort='deprecated',\n",
       "                       random_state=None, splitter='best')"
      ]
     },
     "execution_count": 440,
     "metadata": {
      "tags": []
     },
     "output_type": "execute_result"
    }
   ],
   "source": [
    "ensemble  = DecisionTreeClassifier()\n",
    "ensemble.fit(new_X_train,y_train)"
   ]
  },
  {
   "cell_type": "code",
   "execution_count": 441,
   "metadata": {
    "colab": {
     "base_uri": "https://localhost:8080/"
    },
    "executionInfo": {
     "elapsed": 1036,
     "status": "ok",
     "timestamp": 1619369201054,
     "user": {
      "displayName": "Subhalingam D",
      "photoUrl": "https://lh3.googleusercontent.com/a-/AOh14Gg86bQ1NVmL-U0-lCsAdMpCA_G3d9fxrw_PlOwtJg=s64",
      "userId": "08059846138458314824"
     },
     "user_tz": -330
    },
    "id": "E50Sao7meMbW",
    "outputId": "0249ee51-a827-4478-f74d-fd7c597cf492"
   },
   "outputs": [
    {
     "name": "stdout",
     "output_type": "stream",
     "text": [
      "              precision    recall  f1-score   support\n",
      "\n",
      "           0       0.99      1.00      1.00       543\n",
      "           1       1.00      1.00      1.00       620\n",
      "           2       1.00      0.99      1.00       628\n",
      "\n",
      "    accuracy                           1.00      1791\n",
      "   macro avg       1.00      1.00      1.00      1791\n",
      "weighted avg       1.00      1.00      1.00      1791\n",
      "\n",
      "              precision    recall  f1-score   support\n",
      "\n",
      "           0       0.38      0.39      0.38        61\n",
      "           1       0.41      0.46      0.44        69\n",
      "           2       0.47      0.39      0.42        70\n",
      "\n",
      "    accuracy                           0.41       200\n",
      "   macro avg       0.42      0.41      0.41       200\n",
      "weighted avg       0.42      0.41      0.41       200\n",
      "\n"
     ]
    }
   ],
   "source": [
    "# make predictions\n",
    "new_y_pred_train = ensemble.predict(new_X_train)\n",
    "new_y_pred_val = ensemble.predict(new_X_val)\n",
    "\n",
    "print(classification_report([x for x in y_train], new_y_pred_train))\n",
    "print(classification_report([x for x in y_val], new_y_pred_val))"
   ]
  },
  {
   "cell_type": "code",
   "execution_count": 340,
   "metadata": {
    "colab": {
     "base_uri": "https://localhost:8080/",
     "height": 181
    },
    "executionInfo": {
     "elapsed": 23723,
     "status": "error",
     "timestamp": 1619367690002,
     "user": {
      "displayName": "Subhalingam D",
      "photoUrl": "https://lh3.googleusercontent.com/a-/AOh14Gg86bQ1NVmL-U0-lCsAdMpCA_G3d9fxrw_PlOwtJg=s64",
      "userId": "08059846138458314824"
     },
     "user_tz": -330
    },
    "id": "st3_TZoEekRS",
    "outputId": "d7a36a2d-3cde-4105-d129-dd6c9219e340"
   },
   "outputs": [
    {
     "ename": "KeyboardInterrupt",
     "evalue": "ignored",
     "output_type": "error",
     "traceback": [
      "\u001b[0;31m---------------------------------------------------------------------------\u001b[0m",
      "\u001b[0;31mKeyboardInterrupt\u001b[0m                         Traceback (most recent call last)",
      "\u001b[0;32m<ipython-input-340-648a2bab0435>\u001b[0m in \u001b[0;36m<module>\u001b[0;34m()\u001b[0m\n\u001b[1;32m      1\u001b[0m \u001b[0;32mwhile\u001b[0m \u001b[0;32mTrue\u001b[0m\u001b[0;34m:\u001b[0m\u001b[0;34m\u001b[0m\u001b[0;34m\u001b[0m\u001b[0m\n\u001b[0;32m----> 2\u001b[0;31m   \u001b[0;32mpass\u001b[0m\u001b[0;34m\u001b[0m\u001b[0;34m\u001b[0m\u001b[0m\n\u001b[0m",
      "\u001b[0;31mKeyboardInterrupt\u001b[0m: "
     ]
    }
   ],
   "source": [
    "while True:\n",
    "  pass"
   ]
  },
  {
   "cell_type": "code",
   "execution_count": 212,
   "metadata": {
    "executionInfo": {
     "elapsed": 774,
     "status": "ok",
     "timestamp": 1619364798382,
     "user": {
      "displayName": "Subhalingam D",
      "photoUrl": "https://lh3.googleusercontent.com/a-/AOh14Gg86bQ1NVmL-U0-lCsAdMpCA_G3d9fxrw_PlOwtJg=s64",
      "userId": "08059846138458314824"
     },
     "user_tz": -330
    },
    "id": "7juqEqz7h-xI"
   },
   "outputs": [],
   "source": [
    "with open(\"out/y_val.txt\",\"w\") as f:\n",
    "  print(*y_val,sep=\"\\n\",file=f)\n",
    "\n",
    "with open(\"out/x_val.txt\",\"w\") as f:\n",
    "  print(*X_val,sep=\"\\n\",file=f)\n",
    "\n"
   ]
  },
  {
   "cell_type": "code",
   "execution_count": 325,
   "metadata": {
    "executionInfo": {
     "elapsed": 849,
     "status": "ok",
     "timestamp": 1619367409317,
     "user": {
      "displayName": "Subhalingam D",
      "photoUrl": "https://lh3.googleusercontent.com/a-/AOh14Gg86bQ1NVmL-U0-lCsAdMpCA_G3d9fxrw_PlOwtJg=s64",
      "userId": "08059846138458314824"
     },
     "user_tz": -330
    },
    "id": "cqstV3bPqdui"
   },
   "outputs": [],
   "source": []
  },
  {
   "cell_type": "code",
   "execution_count": 351,
   "metadata": {
    "executionInfo": {
     "elapsed": 951,
     "status": "ok",
     "timestamp": 1619367828374,
     "user": {
      "displayName": "Subhalingam D",
      "photoUrl": "https://lh3.googleusercontent.com/a-/AOh14Gg86bQ1NVmL-U0-lCsAdMpCA_G3d9fxrw_PlOwtJg=s64",
      "userId": "08059846138458314824"
     },
     "user_tz": -330
    },
    "id": "pfwMIQDe0cSN"
   },
   "outputs": [],
   "source": [
    "open_file = open(\"__cnn_pred_test.pkl\", \"rb\")\n",
    "__cnn_pred_test = pickle.load( open_file)\n",
    "open_file.close()"
   ]
  },
  {
   "cell_type": "code",
   "execution_count": 398,
   "metadata": {
    "colab": {
     "base_uri": "https://localhost:8080/"
    },
    "executionInfo": {
     "elapsed": 1710,
     "status": "ok",
     "timestamp": 1619368769160,
     "user": {
      "displayName": "Subhalingam D",
      "photoUrl": "https://lh3.googleusercontent.com/a-/AOh14Gg86bQ1NVmL-U0-lCsAdMpCA_G3d9fxrw_PlOwtJg=s64",
      "userId": "08059846138458314824"
     },
     "user_tz": -330
    },
    "id": "LpieqAMb2BRP",
    "outputId": "0db14e8e-ce69-4446-f1d1-7a7259ae250a"
   },
   "outputs": [
    {
     "data": {
      "text/plain": [
       "(600, 5)"
      ]
     },
     "execution_count": 398,
     "metadata": {
      "tags": []
     },
     "output_type": "execute_result"
    }
   ],
   "source": [
    "__cnn_pred_test.shape"
   ]
  },
  {
   "cell_type": "code",
   "execution_count": 399,
   "metadata": {
    "colab": {
     "base_uri": "https://localhost:8080/"
    },
    "executionInfo": {
     "elapsed": 2218,
     "status": "ok",
     "timestamp": 1619368771908,
     "user": {
      "displayName": "Subhalingam D",
      "photoUrl": "https://lh3.googleusercontent.com/a-/AOh14Gg86bQ1NVmL-U0-lCsAdMpCA_G3d9fxrw_PlOwtJg=s64",
      "userId": "08059846138458314824"
     },
     "user_tz": -330
    },
    "id": "d32eGdI82G84",
    "outputId": "81afc5ee-3cec-4b39-c857-64a1fdfe0e82"
   },
   "outputs": [
    {
     "data": {
      "text/plain": [
       "(600, 3)"
      ]
     },
     "execution_count": 399,
     "metadata": {
      "tags": []
     },
     "output_type": "execute_result"
    }
   ],
   "source": [
    "y_pred_test_text2_.shape"
   ]
  },
  {
   "cell_type": "code",
   "execution_count": 367,
   "metadata": {
    "colab": {
     "base_uri": "https://localhost:8080/"
    },
    "executionInfo": {
     "elapsed": 882,
     "status": "ok",
     "timestamp": 1619368057081,
     "user": {
      "displayName": "Subhalingam D",
      "photoUrl": "https://lh3.googleusercontent.com/a-/AOh14Gg86bQ1NVmL-U0-lCsAdMpCA_G3d9fxrw_PlOwtJg=s64",
      "userId": "08059846138458314824"
     },
     "user_tz": -330
    },
    "id": "XUt3p1aR2VJ8",
    "outputId": "66469bdf-f76b-46bc-b0a7-6d26648c0a08"
   },
   "outputs": [
    {
     "data": {
      "text/plain": [
       "(600,)"
      ]
     },
     "execution_count": 367,
     "metadata": {
      "tags": []
     },
     "output_type": "execute_result"
    }
   ],
   "source": [
    "y_pred_train_test_t1.shape"
   ]
  },
  {
   "cell_type": "code",
   "execution_count": 442,
   "metadata": {
    "colab": {
     "base_uri": "https://localhost:8080/"
    },
    "executionInfo": {
     "elapsed": 1011,
     "status": "ok",
     "timestamp": 1619369216338,
     "user": {
      "displayName": "Subhalingam D",
      "photoUrl": "https://lh3.googleusercontent.com/a-/AOh14Gg86bQ1NVmL-U0-lCsAdMpCA_G3d9fxrw_PlOwtJg=s64",
      "userId": "08059846138458314824"
     },
     "user_tz": -330
    },
    "id": "PpNeQZ8S5pm3",
    "outputId": "4b029e0e-f048-428e-95bd-6a7eb616e622"
   },
   "outputs": [
    {
     "data": {
      "text/plain": [
       "(600, 6)"
      ]
     },
     "execution_count": 442,
     "metadata": {
      "tags": []
     },
     "output_type": "execute_result"
    }
   ],
   "source": [
    "new_X_test.shape"
   ]
  },
  {
   "cell_type": "code",
   "execution_count": 443,
   "metadata": {
    "executionInfo": {
     "elapsed": 700,
     "status": "ok",
     "timestamp": 1619369238860,
     "user": {
      "displayName": "Subhalingam D",
      "photoUrl": "https://lh3.googleusercontent.com/a-/AOh14Gg86bQ1NVmL-U0-lCsAdMpCA_G3d9fxrw_PlOwtJg=s64",
      "userId": "08059846138458314824"
     },
     "user_tz": -330
    },
    "id": "2sl4k_ly21Bs"
   },
   "outputs": [],
   "source": [
    "file_name_end = \"pred/632__384442_41_2\"\n",
    "\n",
    "p_t = ensemble.predict(new_X_test)\n",
    "\n",
    "\n",
    "with open(file_name_end+\".txt\",\"w\") as f:\n",
    "  print(*p_t,sep=\"\\n\",file=f)\n",
    "\n",
    "\n",
    "open_file = open(file_name_end+\".sav\", \"wb\")\n",
    "pickle.dump(ensemble, open_file)\n",
    "open_file.close()"
   ]
  },
  {
   "cell_type": "code",
   "execution_count": null,
   "metadata": {
    "id": "2LmNKClh4NEO"
   },
   "outputs": [],
   "source": []
  }
 ],
 "metadata": {
  "colab": {
   "authorship_tag": "ABX9TyOuPjLgLZ+pS7nufuNJA7PA",
   "collapsed_sections": [
    "U0fY-iCFbOwP",
    "480bRzrXTBSe"
   ],
   "mount_file_id": "18kUQWVMJZcxWDLHHAFID_R_ExbzY6mv9",
   "name": "Just Copy of [new]mtl782_3.ipynb",
   "provenance": [
    {
     "file_id": "1SN44hCEbm3-IwAIDEMD4LRZgzRZwcDcm",
     "timestamp": 1619328028509
    },
    {
     "file_id": "1Nwrired9lZZBWogCh1XFOvbChvhVGlqZ",
     "timestamp": 1618296278069
    }
   ]
  },
  "kernelspec": {
   "display_name": "Python 3",
   "language": "python",
   "name": "python3"
  },
  "language_info": {
   "codemirror_mode": {
    "name": "ipython",
    "version": 3
   },
   "file_extension": ".py",
   "mimetype": "text/x-python",
   "name": "python",
   "nbconvert_exporter": "python",
   "pygments_lexer": "ipython3",
   "version": "3.7.2"
  }
 },
 "nbformat": 4,
 "nbformat_minor": 1
}
