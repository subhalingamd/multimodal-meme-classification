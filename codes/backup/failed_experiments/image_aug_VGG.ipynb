{
 "cells": [
  {
   "cell_type": "markdown",
   "metadata": {},
   "source": [
    "### Load the data"
   ]
  },
  {
   "cell_type": "code",
   "execution_count": 2,
   "metadata": {},
   "outputs": [],
   "source": [
    "import numpy as np\n",
    "from numpy import expand_dims\n",
    "from keras.preprocessing.image import load_img\n",
    "from keras.preprocessing.image import img_to_array\n",
    "from keras.preprocessing.image import ImageDataGenerator\n",
    "from matplotlib import pyplot\n",
    "import pandas as pd\n",
    "import os\n",
    "import imgaug as ia\n",
    "import imgaug.augmenters as iaa\n",
    "from PIL import Image"
   ]
  },
  {
   "cell_type": "code",
   "execution_count": 3,
   "metadata": {},
   "outputs": [
    {
     "data": {
      "text/html": [
       "<div>\n",
       "<style scoped>\n",
       "    .dataframe tbody tr th:only-of-type {\n",
       "        vertical-align: middle;\n",
       "    }\n",
       "\n",
       "    .dataframe tbody tr th {\n",
       "        vertical-align: top;\n",
       "    }\n",
       "\n",
       "    .dataframe thead th {\n",
       "        text-align: right;\n",
       "    }\n",
       "</style>\n",
       "<table border=\"1\" class=\"dataframe\">\n",
       "  <thead>\n",
       "    <tr style=\"text-align: right;\">\n",
       "      <th></th>\n",
       "      <th>ID</th>\n",
       "      <th>image id</th>\n",
       "      <th>text</th>\n",
       "      <th>label</th>\n",
       "      <th>label_num</th>\n",
       "    </tr>\n",
       "  </thead>\n",
       "  <tbody>\n",
       "    <tr>\n",
       "      <th>0</th>\n",
       "      <td>1</td>\n",
       "      <td>image_2455.jpg</td>\n",
       "      <td>- It is not our fight - Are we not part of thi...</td>\n",
       "      <td>troll</td>\n",
       "      <td>2</td>\n",
       "    </tr>\n",
       "    <tr>\n",
       "      <th>1</th>\n",
       "      <td>2</td>\n",
       "      <td>image_3701.jpg</td>\n",
       "      <td>THAT'S THE DIFFERENCE BETWEEN YOU AND ME  YOU...</td>\n",
       "      <td>none</td>\n",
       "      <td>0</td>\n",
       "    </tr>\n",
       "    <tr>\n",
       "      <th>2</th>\n",
       "      <td>3</td>\n",
       "      <td>image_4166.png</td>\n",
       "      <td>- WHAT DO THE TITANIC AND THE SIXTH SENSE HAVE...</td>\n",
       "      <td>none</td>\n",
       "      <td>0</td>\n",
       "    </tr>\n",
       "    <tr>\n",
       "      <th>3</th>\n",
       "      <td>4</td>\n",
       "      <td>448_image_batch_2.png</td>\n",
       "      <td>\"COME ON MAN, YOU KNOW THE THING.\\r\\nJUST ASK ...</td>\n",
       "      <td>troll</td>\n",
       "      <td>2</td>\n",
       "    </tr>\n",
       "    <tr>\n",
       "      <th>4</th>\n",
       "      <td>5</td>\n",
       "      <td>653_image_batch_2.png</td>\n",
       "      <td>\"Those who believe without reason cannot be co...</td>\n",
       "      <td>none</td>\n",
       "      <td>0</td>\n",
       "    </tr>\n",
       "  </tbody>\n",
       "</table>\n",
       "</div>"
      ],
      "text/plain": [
       "   ID               image id  \\\n",
       "0   1         image_2455.jpg   \n",
       "1   2         image_3701.jpg   \n",
       "2   3         image_4166.png   \n",
       "3   4  448_image_batch_2.png   \n",
       "4   5  653_image_batch_2.png   \n",
       "\n",
       "                                                text  label  label_num  \n",
       "0  - It is not our fight - Are we not part of thi...  troll          2  \n",
       "1   THAT'S THE DIFFERENCE BETWEEN YOU AND ME  YOU...   none          0  \n",
       "2  - WHAT DO THE TITANIC AND THE SIXTH SENSE HAVE...   none          0  \n",
       "3  \"COME ON MAN, YOU KNOW THE THING.\\r\\nJUST ASK ...  troll          2  \n",
       "4  \"Those who believe without reason cannot be co...   none          0  "
      ]
     },
     "metadata": {},
     "output_type": "display_data"
    }
   ],
   "source": [
    "path = r\"D:\\train_images\"\n",
    "df = pd.read_csv('train.csv', delimiter=',', header=None, skiprows=1, names=['ID','image id','text','label', 'label_num'])\n",
    "display(df.head())"
   ]
  },
  {
   "cell_type": "code",
   "execution_count": 4,
   "metadata": {},
   "outputs": [],
   "source": [
    "shuffle_df = pd.DataFrame(np.random.permutation(df))\n",
    "shuffle_df.columns = ['id','image_id','text','label','class']\n",
    "shuffle_df = shuffle_df[['image_id','text','class']]"
   ]
  },
  {
   "cell_type": "code",
   "execution_count": 5,
   "metadata": {},
   "outputs": [],
   "source": [
    "M = int(0.85*df.shape[0])\n",
    "y_train = shuffle_df['class'][0:M]\n",
    "y_test = shuffle_df['class'][M:]"
   ]
  },
  {
   "cell_type": "code",
   "execution_count": 6,
   "metadata": {},
   "outputs": [],
   "source": [
    "def make_dataset(df):\n",
    "    M = int(0.85*df.shape[0])\n",
    "    x_train = np.zeros(shape=(M,224,224,3))\n",
    "    for i in range(M):\n",
    "        img_path = df['image_id'][i]\n",
    "        img_class = df['class'][i]\n",
    "        s = path + os.sep + img_path\n",
    "        image = Image.open(s)\n",
    "        image = image.resize((224, 224))\n",
    "        image = np.asarray(image)\n",
    "        if len(image.shape) < 3 :\n",
    "            image = np.stack((image,)*3, axis=-1)\n",
    "        image = image[...,:3]\n",
    "        image = image.reshape((1,) + image.shape)\n",
    "        x_train[i] = image\n",
    "        if i%100 == 0:\n",
    "            print(i)\n",
    "    y_train = df['class'][0:M]\n",
    "    \n",
    "    x_test = np.zeros(shape=(len(df)-M,224,224,3))\n",
    "    \n",
    "    for i in range(len(df)-M):\n",
    "        img_path = df['image_id'][i+M]\n",
    "        img_class = df['class'][i+M]\n",
    "        s = path + os.sep + img_path\n",
    "        image = Image.open(s)\n",
    "        image = image.resize((224, 224))\n",
    "        image = np.asarray(image)\n",
    "        if len(image.shape) < 3 :\n",
    "            image = np.stack((image,)*3, axis=-1)\n",
    "        image = image[...,:3]\n",
    "        image = image.reshape((1,) + image.shape)\n",
    "        x_test[i] = image\n",
    "        if i%100 == 0:\n",
    "            print(i)\n",
    "    y_test = df['class'][M:]\n",
    "    return x_train, y_train, x_test, y_test"
   ]
  },
  {
   "cell_type": "code",
   "execution_count": 7,
   "metadata": {},
   "outputs": [
    {
     "name": "stdout",
     "output_type": "stream",
     "text": [
      "0\n",
      "100\n"
     ]
    },
    {
     "name": "stderr",
     "output_type": "stream",
     "text": [
      "C:\\Users\\CHIRAG\\anaconda3\\lib\\site-packages\\PIL\\TiffImagePlugin.py:792: UserWarning: Corrupt EXIF data.  Expecting to read 2 bytes but only got 0. \n",
      "  warnings.warn(str(msg))\n"
     ]
    },
    {
     "name": "stdout",
     "output_type": "stream",
     "text": [
      "200\n",
      "300\n",
      "400\n",
      "500\n",
      "600\n",
      "700\n",
      "800\n",
      "900\n",
      "1000\n",
      "1100\n",
      "1200\n",
      "1300\n",
      "1400\n",
      "1500\n",
      "1600\n",
      "0\n",
      "100\n",
      "200\n"
     ]
    }
   ],
   "source": [
    "x_train, y_train, x_test, y_test = make_dataset(shuffle_df)"
   ]
  },
  {
   "cell_type": "code",
   "execution_count": 8,
   "metadata": {},
   "outputs": [
    {
     "name": "stdout",
     "output_type": "stream",
     "text": [
      "(1692, 224, 224, 3)\n",
      "(1692,)\n",
      "(299, 224, 224, 3)\n",
      "(299,)\n"
     ]
    }
   ],
   "source": [
    "print(x_train.shape)\n",
    "print(y_train.shape)\n",
    "print(x_test.shape)\n",
    "print(y_test.shape)"
   ]
  },
  {
   "cell_type": "code",
   "execution_count": 9,
   "metadata": {},
   "outputs": [],
   "source": [
    "#with open('x_train.npy', 'wb') as f:\n",
    "#    np.save(f, x_train)\n",
    "#with open('x_test.npy', 'wb') as f:\n",
    "#    np.save(f, x_test)"
   ]
  },
  {
   "cell_type": "code",
   "execution_count": 10,
   "metadata": {},
   "outputs": [],
   "source": [
    "x_train = np.asarray(x_train).astype('float32')\n",
    "x_test = np.asarray(x_test).astype('float32')"
   ]
  },
  {
   "cell_type": "code",
   "execution_count": 11,
   "metadata": {},
   "outputs": [],
   "source": [
    "from keras.utils import to_categorical\n",
    "\n",
    "y_train=to_categorical(y_train)\n",
    "y_test=to_categorical(y_test)\n",
    "y_train = np.asarray(y_train).astype(np.int)\n",
    "y_test = np.asarray(y_test).astype(np.int)"
   ]
  },
  {
   "cell_type": "markdown",
   "metadata": {},
   "source": [
    "### Running the model with data augmentation"
   ]
  },
  {
   "cell_type": "code",
   "execution_count": 13,
   "metadata": {},
   "outputs": [],
   "source": [
    "from keras.models import Model,Sequential\n",
    "from keras.layers import Input,BatchNormalization, Conv2D, SeparableConv2D, MaxPooling2D, GlobalAveragePooling2D, Activation, Flatten, Dropout, Dense, Concatenate, Add, UpSampling2D, LeakyReLU\n",
    "from keras.preprocessing.image import ImageDataGenerator\n",
    "import keras\n",
    "from keras.layers import Dense, Conv2D, MaxPool2D , Flatten\n",
    "from keras.callbacks import ModelCheckpoint, EarlyStopping\n",
    "from keras.optimizers import Adam"
   ]
  },
  {
   "cell_type": "code",
   "execution_count": 14,
   "metadata": {},
   "outputs": [],
   "source": [
    "aug = ImageDataGenerator(\n",
    "\t\trotation_range=12.5,\n",
    "\t\tzoom_range=0.13,\n",
    "\t\twidth_shift_range=0.12,\n",
    "\t\theight_shift_range=0.12,\n",
    "\t\thorizontal_flip=True,\n",
    "    vertical_flip = True,\n",
    "\t\tfill_mode=\"nearest\")"
   ]
  },
  {
   "cell_type": "code",
   "execution_count": 15,
   "metadata": {},
   "outputs": [],
   "source": [
    "model = Sequential()\n",
    "model.add(Conv2D(input_shape=(224,224,3),filters=64,kernel_size=(3,3),padding=\"same\", activation=\"relu\"))\n",
    "model.add(Conv2D(filters=64,kernel_size=(3,3),padding=\"same\", activation=\"relu\"))\n",
    "model.add(MaxPool2D(pool_size=(2,2),strides=(2,2)))\n",
    "model.add(Conv2D(filters=128, kernel_size=(3,3), padding=\"same\", activation=\"relu\"))\n",
    "model.add(Conv2D(filters=128, kernel_size=(3,3), padding=\"same\", activation=\"relu\"))\n",
    "model.add(MaxPool2D(pool_size=(2,2),strides=(2,2)))\n",
    "model.add(Conv2D(filters=256, kernel_size=(3,3), padding=\"same\", activation=\"relu\"))\n",
    "model.add(Conv2D(filters=256, kernel_size=(3,3), padding=\"same\", activation=\"relu\"))\n",
    "model.add(Conv2D(filters=256, kernel_size=(3,3), padding=\"same\", activation=\"relu\"))\n",
    "model.add(MaxPool2D(pool_size=(2,2),strides=(2,2)))\n",
    "model.add(Conv2D(filters=512, kernel_size=(3,3), padding=\"same\", activation=\"relu\"))\n",
    "model.add(Conv2D(filters=512, kernel_size=(3,3), padding=\"same\", activation=\"relu\"))\n",
    "model.add(Conv2D(filters=512, kernel_size=(3,3), padding=\"same\", activation=\"relu\"))\n",
    "model.add(MaxPool2D(pool_size=(2,2),strides=(2,2)))\n",
    "model.add(Conv2D(filters=512, kernel_size=(3,3), padding=\"same\", activation=\"relu\"))\n",
    "model.add(Conv2D(filters=512, kernel_size=(3,3), padding=\"same\", activation=\"relu\"))\n",
    "model.add(Conv2D(filters=512, kernel_size=(3,3), padding=\"same\", activation=\"relu\"))\n",
    "model.add(MaxPool2D(pool_size=(2,2),strides=(2,2)))"
   ]
  },
  {
   "cell_type": "code",
   "execution_count": 16,
   "metadata": {},
   "outputs": [],
   "source": [
    "model.add(Flatten())\n",
    "model.add(Dense(units=4096,activation=\"relu\"))\n",
    "model.add(Dense(units=4096,activation=\"relu\"))\n",
    "model.add(Dense(units=3, activation=\"softmax\"))"
   ]
  },
  {
   "cell_type": "code",
   "execution_count": 17,
   "metadata": {},
   "outputs": [],
   "source": [
    "opt = Adam(lr=0.001)\n",
    "model.compile(optimizer=opt, loss=keras.losses.categorical_crossentropy, metrics=['accuracy'])"
   ]
  },
  {
   "cell_type": "code",
   "execution_count": 18,
   "metadata": {},
   "outputs": [],
   "source": [
    "checkpoint = ModelCheckpoint(\"vgg16_1.h5\", monitor='val_accuracy', verbose=1, save_best_only=True, save_weights_only=False, mode='auto', save_freq=1)\n",
    "early = EarlyStopping(monitor='val_acc', min_delta=0, patience=20, verbose=1, mode='auto')\n"
   ]
  },
  {
   "cell_type": "code",
   "execution_count": 19,
   "metadata": {},
   "outputs": [
    {
     "name": "stderr",
     "output_type": "stream",
     "text": [
      "C:\\Users\\CHIRAG\\anaconda3\\lib\\site-packages\\tensorflow\\python\\keras\\engine\\training.py:1844: UserWarning: `Model.fit_generator` is deprecated and will be removed in a future version. Please use `Model.fit`, which supports generators.\n",
      "  warnings.warn('`Model.fit_generator` is deprecated and '\n"
     ]
    },
    {
     "name": "stdout",
     "output_type": "stream",
     "text": [
      "Epoch 1/32\n",
      "1/2 [==============>...............] - ETA: 12s - loss: 1.1111 - accuracy: 0.1875WARNING:tensorflow:Can save best model only with val_accuracy available, skipping.\n",
      "2/2 [==============================] - ETA: 0s - loss: 1847.8798 - accuracy: 0.2031WARNING:tensorflow:Can save best model only with val_accuracy available, skipping.\n",
      "2/2 [==============================] - 67s 55s/step - loss: 2463.4693 - accuracy: 0.2083 - val_loss: 2.8306 - val_accuracy: 0.3512\n",
      "WARNING:tensorflow:Early stopping conditioned on metric `val_acc` which is not available. Available metrics are: loss,accuracy,val_loss,val_accuracy\n",
      "Epoch 2/32\n",
      "1/2 [==============>...............] - ETA: 10s - loss: 1.8508 - accuracy: 0.5625WARNING:tensorflow:Can save best model only with val_accuracy available, skipping.\n",
      "2/2 [==============================] - ETA: 0s - loss: 1.6748 - accuracy: 0.4688 WARNING:tensorflow:Can save best model only with val_accuracy available, skipping.\n",
      "2/2 [==============================] - 66s 56s/step - loss: 1.6162 - accuracy: 0.4375 - val_loss: 1.1269 - val_accuracy: 0.2977\n",
      "WARNING:tensorflow:Early stopping conditioned on metric `val_acc` which is not available. Available metrics are: loss,accuracy,val_loss,val_accuracy\n",
      "Epoch 3/32\n",
      "1/2 [==============>...............] - ETA: 10s - loss: 1.1557 - accuracy: 0.2500WARNING:tensorflow:Can save best model only with val_accuracy available, skipping.\n",
      "2/2 [==============================] - ETA: 0s - loss: 1.1428 - accuracy: 0.2344 WARNING:tensorflow:Can save best model only with val_accuracy available, skipping.\n",
      "2/2 [==============================] - 69s 58s/step - loss: 1.1386 - accuracy: 0.2292 - val_loss: 1.1008 - val_accuracy: 0.3512\n",
      "WARNING:tensorflow:Early stopping conditioned on metric `val_acc` which is not available. Available metrics are: loss,accuracy,val_loss,val_accuracy\n",
      "Epoch 4/32\n",
      "1/2 [==============>...............] - ETA: 11s - loss: 1.1082 - accuracy: 0.2500WARNING:tensorflow:Can save best model only with val_accuracy available, skipping.\n",
      "2/2 [==============================] - ETA: 0s - loss: 1.1073 - accuracy: 0.2344 WARNING:tensorflow:Can save best model only with val_accuracy available, skipping.\n",
      "2/2 [==============================] - 71s 60s/step - loss: 1.1071 - accuracy: 0.2292 - val_loss: 1.0989 - val_accuracy: 0.2977\n",
      "WARNING:tensorflow:Early stopping conditioned on metric `val_acc` which is not available. Available metrics are: loss,accuracy,val_loss,val_accuracy\n",
      "Epoch 5/32\n",
      "1/2 [==============>...............] - ETA: 11s - loss: 1.0991 - accuracy: 0.3750WARNING:tensorflow:Can save best model only with val_accuracy available, skipping.\n",
      "2/2 [==============================] - ETA: 0s - loss: 1.0981 - accuracy: 0.4062 WARNING:tensorflow:Can save best model only with val_accuracy available, skipping.\n",
      "2/2 [==============================] - 73s 62s/step - loss: 1.0977 - accuracy: 0.4167 - val_loss: 1.1274 - val_accuracy: 0.2977\n",
      "WARNING:tensorflow:Early stopping conditioned on metric `val_acc` which is not available. Available metrics are: loss,accuracy,val_loss,val_accuracy\n",
      "Epoch 6/32\n",
      "1/2 [==============>...............] - ETA: 11s - loss: 1.1775 - accuracy: 0.3125WARNING:tensorflow:Can save best model only with val_accuracy available, skipping.\n",
      "2/2 [==============================] - ETA: 0s - loss: 1.1579 - accuracy: 0.3281 WARNING:tensorflow:Can save best model only with val_accuracy available, skipping.\n",
      "2/2 [==============================] - 74s 62s/step - loss: 1.1514 - accuracy: 0.3333 - val_loss: 1.1005 - val_accuracy: 0.2977\n",
      "WARNING:tensorflow:Early stopping conditioned on metric `val_acc` which is not available. Available metrics are: loss,accuracy,val_loss,val_accuracy\n",
      "Epoch 7/32\n",
      "1/2 [==============>...............] - ETA: 11s - loss: 1.1032 - accuracy: 0.2500WARNING:tensorflow:Can save best model only with val_accuracy available, skipping.\n",
      "2/2 [==============================] - ETA: 0s - loss: 1.1014 - accuracy: 0.2812 WARNING:tensorflow:Can save best model only with val_accuracy available, skipping.\n",
      "2/2 [==============================] - 73s 62s/step - loss: 1.1008 - accuracy: 0.2917 - val_loss: 1.0954 - val_accuracy: 0.3612\n",
      "WARNING:tensorflow:Early stopping conditioned on metric `val_acc` which is not available. Available metrics are: loss,accuracy,val_loss,val_accuracy\n",
      "Epoch 8/32\n",
      "1/2 [==============>...............] - ETA: 11s - loss: 1.1010 - accuracy: 0.3125WARNING:tensorflow:Can save best model only with val_accuracy available, skipping.\n",
      "2/2 [==============================] - ETA: 0s - loss: 1.1040 - accuracy: 0.2500 WARNING:tensorflow:Can save best model only with val_accuracy available, skipping.\n",
      "2/2 [==============================] - 79s 68s/step - loss: 1.1050 - accuracy: 0.2292 - val_loss: 1.0992 - val_accuracy: 0.3512\n",
      "WARNING:tensorflow:Early stopping conditioned on metric `val_acc` which is not available. Available metrics are: loss,accuracy,val_loss,val_accuracy\n",
      "Epoch 9/32\n",
      "1/2 [==============>...............] - ETA: 12s - loss: 1.1035 - accuracy: 0.2500WARNING:tensorflow:Can save best model only with val_accuracy available, skipping.\n",
      "2/2 [==============================] - ETA: 0s - loss: 1.1008 - accuracy: 0.2812 WARNING:tensorflow:Can save best model only with val_accuracy available, skipping.\n",
      "2/2 [==============================] - 81s 68s/step - loss: 1.1000 - accuracy: 0.2917 - val_loss: 1.0994 - val_accuracy: 0.3512\n",
      "WARNING:tensorflow:Early stopping conditioned on metric `val_acc` which is not available. Available metrics are: loss,accuracy,val_loss,val_accuracy\n",
      "Epoch 10/32\n",
      "1/2 [==============>...............] - ETA: 13s - loss: 1.1032 - accuracy: 0.4375WARNING:tensorflow:Can save best model only with val_accuracy available, skipping.\n",
      "2/2 [==============================] - ETA: 0s - loss: 1.1266 - accuracy: 0.4219 WARNING:tensorflow:Can save best model only with val_accuracy available, skipping.\n",
      "2/2 [==============================] - 82s 68s/step - loss: 1.1344 - accuracy: 0.4167 - val_loss: 1.1001 - val_accuracy: 0.3512\n",
      "WARNING:tensorflow:Early stopping conditioned on metric `val_acc` which is not available. Available metrics are: loss,accuracy,val_loss,val_accuracy\n",
      "Epoch 11/32\n",
      "1/2 [==============>...............] - ETA: 13s - loss: 1.0942 - accuracy: 0.4375WARNING:tensorflow:Can save best model only with val_accuracy available, skipping.\n",
      "2/2 [==============================] - ETA: 0s - loss: 1.0951 - accuracy: 0.3906 WARNING:tensorflow:Can save best model only with val_accuracy available, skipping.\n",
      "2/2 [==============================] - 81s 67s/step - loss: 1.0954 - accuracy: 0.3750 - val_loss: 1.1004 - val_accuracy: 0.3278\n",
      "WARNING:tensorflow:Early stopping conditioned on metric `val_acc` which is not available. Available metrics are: loss,accuracy,val_loss,val_accuracy\n",
      "Epoch 12/32\n",
      "1/2 [==============>...............] - ETA: 12s - loss: 1.0968 - accuracy: 0.5000WARNING:tensorflow:Can save best model only with val_accuracy available, skipping.\n",
      "2/2 [==============================] - ETA: 0s - loss: 1.0983 - accuracy: 0.4531 WARNING:tensorflow:Can save best model only with val_accuracy available, skipping.\n",
      "2/2 [==============================] - 81s 68s/step - loss: 1.0988 - accuracy: 0.4375 - val_loss: 1.1010 - val_accuracy: 0.2977\n",
      "WARNING:tensorflow:Early stopping conditioned on metric `val_acc` which is not available. Available metrics are: loss,accuracy,val_loss,val_accuracy\n",
      "Epoch 13/32\n",
      "1/2 [==============>...............] - ETA: 13s - loss: 1.0949 - accuracy: 0.5625WARNING:tensorflow:Can save best model only with val_accuracy available, skipping.\n",
      "2/2 [==============================] - ETA: 0s - loss: 1.0984 - accuracy: 0.4844 WARNING:tensorflow:Can save best model only with val_accuracy available, skipping.\n",
      "2/2 [==============================] - 88s 75s/step - loss: 1.0996 - accuracy: 0.4583 - val_loss: 1.1013 - val_accuracy: 0.2977\n",
      "WARNING:tensorflow:Early stopping conditioned on metric `val_acc` which is not available. Available metrics are: loss,accuracy,val_loss,val_accuracy\n",
      "Epoch 14/32\n",
      "1/2 [==============>...............] - ETA: 13s - loss: 1.0969 - accuracy: 0.3750WARNING:tensorflow:Can save best model only with val_accuracy available, skipping.\n",
      "2/2 [==============================] - ETA: 0s - loss: 1.0960 - accuracy: 0.3750 WARNING:tensorflow:Can save best model only with val_accuracy available, skipping.\n",
      "2/2 [==============================] - 92s 78s/step - loss: 1.0957 - accuracy: 0.3750 - val_loss: 1.1024 - val_accuracy: 0.2977\n",
      "WARNING:tensorflow:Early stopping conditioned on metric `val_acc` which is not available. Available metrics are: loss,accuracy,val_loss,val_accuracy\n",
      "Epoch 15/32\n",
      "1/2 [==============>...............] - ETA: 14s - loss: 1.1003 - accuracy: 0.3125WARNING:tensorflow:Can save best model only with val_accuracy available, skipping.\n",
      "2/2 [==============================] - ETA: 0s - loss: 1.1016 - accuracy: 0.2969 WARNING:tensorflow:Can save best model only with val_accuracy available, skipping.\n",
      "2/2 [==============================] - 85s 71s/step - loss: 1.1020 - accuracy: 0.2917 - val_loss: 1.1020 - val_accuracy: 0.2977\n",
      "WARNING:tensorflow:Early stopping conditioned on metric `val_acc` which is not available. Available metrics are: loss,accuracy,val_loss,val_accuracy\n",
      "Epoch 16/32\n",
      "1/2 [==============>...............] - ETA: 13s - loss: 1.0901 - accuracy: 0.3750WARNING:tensorflow:Can save best model only with val_accuracy available, skipping.\n",
      "2/2 [==============================] - ETA: 0s - loss: 1.0917 - accuracy: 0.3750 WARNING:tensorflow:Can save best model only with val_accuracy available, skipping.\n",
      "2/2 [==============================] - 88s 74s/step - loss: 1.0922 - accuracy: 0.3750 - val_loss: 1.1026 - val_accuracy: 0.2977\n",
      "WARNING:tensorflow:Early stopping conditioned on metric `val_acc` which is not available. Available metrics are: loss,accuracy,val_loss,val_accuracy\n",
      "Epoch 17/32\n",
      "1/2 [==============>...............] - ETA: 14s - loss: 1.1019 - accuracy: 0.1875WARNING:tensorflow:Can save best model only with val_accuracy available, skipping.\n",
      "2/2 [==============================] - ETA: 0s - loss: 1.1064 - accuracy: 0.1875 WARNING:tensorflow:Can save best model only with val_accuracy available, skipping.\n",
      "2/2 [==============================] - 86s 72s/step - loss: 1.1079 - accuracy: 0.1875 - val_loss: 1.1021 - val_accuracy: 0.2977\n",
      "WARNING:tensorflow:Early stopping conditioned on metric `val_acc` which is not available. Available metrics are: loss,accuracy,val_loss,val_accuracy\n",
      "Epoch 18/32\n",
      "1/2 [==============>...............] - ETA: 14s - loss: 1.1014 - accuracy: 0.2500WARNING:tensorflow:Can save best model only with val_accuracy available, skipping.\n",
      "2/2 [==============================] - ETA: 0s - loss: 1.1071 - accuracy: 0.2188 WARNING:tensorflow:Can save best model only with val_accuracy available, skipping.\n",
      "2/2 [==============================] - 83s 68s/step - loss: 1.1091 - accuracy: 0.2083 - val_loss: 1.1009 - val_accuracy: 0.2977\n",
      "WARNING:tensorflow:Early stopping conditioned on metric `val_acc` which is not available. Available metrics are: loss,accuracy,val_loss,val_accuracy\n",
      "Epoch 19/32\n",
      "1/2 [==============>...............] - ETA: 14s - loss: 1.0962 - accuracy: 0.2500WARNING:tensorflow:Can save best model only with val_accuracy available, skipping.\n",
      "2/2 [==============================] - ETA: 0s - loss: 1.0970 - accuracy: 0.2500 WARNING:tensorflow:Can save best model only with val_accuracy available, skipping.\n",
      "2/2 [==============================] - 80s 66s/step - loss: 1.0972 - accuracy: 0.2500 - val_loss: 1.0998 - val_accuracy: 0.3512\n",
      "WARNING:tensorflow:Early stopping conditioned on metric `val_acc` which is not available. Available metrics are: loss,accuracy,val_loss,val_accuracy\n",
      "Epoch 20/32\n",
      "1/2 [==============>...............] - ETA: 10s - loss: 1.0988 - accuracy: 0.4167WARNING:tensorflow:Can save best model only with val_accuracy available, skipping.\n",
      "2/2 [==============================] - ETA: 0s - loss: 1.0980 - accuracy: 0.4405 WARNING:tensorflow:Can save best model only with val_accuracy available, skipping.\n",
      "2/2 [==============================] - 82s 72s/step - loss: 1.0977 - accuracy: 0.4484 - val_loss: 1.0989 - val_accuracy: 0.3512\n",
      "WARNING:tensorflow:Early stopping conditioned on metric `val_acc` which is not available. Available metrics are: loss,accuracy,val_loss,val_accuracy\n",
      "Epoch 21/32\n",
      "1/2 [==============>...............] - ETA: 13s - loss: 1.0972 - accuracy: 0.3750WARNING:tensorflow:Can save best model only with val_accuracy available, skipping.\n",
      "2/2 [==============================] - ETA: 0s - loss: 1.0939 - accuracy: 0.4375 WARNING:tensorflow:Can save best model only with val_accuracy available, skipping.\n",
      "2/2 [==============================] - 83s 70s/step - loss: 1.0928 - accuracy: 0.4583 - val_loss: 1.0983 - val_accuracy: 0.3512\n",
      "WARNING:tensorflow:Early stopping conditioned on metric `val_acc` which is not available. Available metrics are: loss,accuracy,val_loss,val_accuracy\n",
      "Epoch 22/32\n",
      "1/2 [==============>...............] - ETA: 11s - loss: 1.1200 - accuracy: 0.0000e+00WARNING:tensorflow:Can save best model only with val_accuracy available, skipping.\n",
      "2/2 [==============================] - ETA: 0s - loss: 1.1122 - accuracy: 0.1250     WARNING:tensorflow:Can save best model only with val_accuracy available, skipping.\n",
      "2/2 [==============================] - 77s 65s/step - loss: 1.1096 - accuracy: 0.1667 - val_loss: 1.0978 - val_accuracy: 0.3512\n",
      "WARNING:tensorflow:Early stopping conditioned on metric `val_acc` which is not available. Available metrics are: loss,accuracy,val_loss,val_accuracy\n",
      "Epoch 23/32\n",
      "1/2 [==============>...............] - ETA: 13s - loss: 1.1006 - accuracy: 0.3125WARNING:tensorflow:Can save best model only with val_accuracy available, skipping.\n",
      "2/2 [==============================] - ETA: 0s - loss: 1.0962 - accuracy: 0.3750 WARNING:tensorflow:Can save best model only with val_accuracy available, skipping.\n",
      "2/2 [==============================] - 81s 67s/step - loss: 1.0947 - accuracy: 0.3958 - val_loss: 1.0976 - val_accuracy: 0.3512\n",
      "WARNING:tensorflow:Early stopping conditioned on metric `val_acc` which is not available. Available metrics are: loss,accuracy,val_loss,val_accuracy\n",
      "Epoch 24/32\n",
      "1/2 [==============>...............] - ETA: 12s - loss: 1.0996 - accuracy: 0.3125WARNING:tensorflow:Can save best model only with val_accuracy available, skipping.\n",
      "2/2 [==============================] - ETA: 0s - loss: 1.0990 - accuracy: 0.3281 WARNING:tensorflow:Can save best model only with val_accuracy available, skipping.\n",
      "2/2 [==============================] - 80s 68s/step - loss: 1.0988 - accuracy: 0.3333 - val_loss: 1.0973 - val_accuracy: 0.3512\n",
      "WARNING:tensorflow:Early stopping conditioned on metric `val_acc` which is not available. Available metrics are: loss,accuracy,val_loss,val_accuracy\n",
      "Epoch 25/32\n",
      "1/2 [==============>...............] - ETA: 11s - loss: 1.0897 - accuracy: 0.4375WARNING:tensorflow:Can save best model only with val_accuracy available, skipping.\n",
      "2/2 [==============================] - ETA: 0s - loss: 1.0912 - accuracy: 0.4219 WARNING:tensorflow:Can save best model only with val_accuracy available, skipping.\n",
      "2/2 [==============================] - 78s 66s/step - loss: 1.0918 - accuracy: 0.4167 - val_loss: 1.0972 - val_accuracy: 0.3512\n",
      "WARNING:tensorflow:Early stopping conditioned on metric `val_acc` which is not available. Available metrics are: loss,accuracy,val_loss,val_accuracy\n",
      "Epoch 26/32\n",
      "1/2 [==============>...............] - ETA: 11s - loss: 1.1011 - accuracy: 0.3125WARNING:tensorflow:Can save best model only with val_accuracy available, skipping.\n",
      "2/2 [==============================] - ETA: 0s - loss: 1.0963 - accuracy: 0.3594 WARNING:tensorflow:Can save best model only with val_accuracy available, skipping.\n",
      "2/2 [==============================] - 78s 66s/step - loss: 1.0948 - accuracy: 0.3750 - val_loss: 1.0971 - val_accuracy: 0.3512\n",
      "WARNING:tensorflow:Early stopping conditioned on metric `val_acc` which is not available. Available metrics are: loss,accuracy,val_loss,val_accuracy\n",
      "Epoch 27/32\n",
      "1/2 [==============>...............] - ETA: 12s - loss: 1.1099 - accuracy: 0.2500WARNING:tensorflow:Can save best model only with val_accuracy available, skipping.\n",
      "2/2 [==============================] - ETA: 0s - loss: 1.1076 - accuracy: 0.2812 WARNING:tensorflow:Can save best model only with val_accuracy available, skipping.\n",
      "2/2 [==============================] - 80s 68s/step - loss: 1.1068 - accuracy: 0.2917 - val_loss: 1.0972 - val_accuracy: 0.3512\n",
      "WARNING:tensorflow:Early stopping conditioned on metric `val_acc` which is not available. Available metrics are: loss,accuracy,val_loss,val_accuracy\n",
      "Epoch 28/32\n",
      "1/2 [==============>...............] - ETA: 14s - loss: 1.1059 - accuracy: 0.2500WARNING:tensorflow:Can save best model only with val_accuracy available, skipping.\n",
      "2/2 [==============================] - ETA: 0s - loss: 1.0983 - accuracy: 0.3281 WARNING:tensorflow:Can save best model only with val_accuracy available, skipping.\n",
      "2/2 [==============================] - 82s 67s/step - loss: 1.0958 - accuracy: 0.3542 - val_loss: 1.0973 - val_accuracy: 0.3512\n",
      "WARNING:tensorflow:Early stopping conditioned on metric `val_acc` which is not available. Available metrics are: loss,accuracy,val_loss,val_accuracy\n",
      "Epoch 29/32\n",
      "1/2 [==============>...............] - ETA: 12s - loss: 1.1118 - accuracy: 0.2500WARNING:tensorflow:Can save best model only with val_accuracy available, skipping.\n",
      "2/2 [==============================] - ETA: 0s - loss: 1.1094 - accuracy: 0.2500 WARNING:tensorflow:Can save best model only with val_accuracy available, skipping.\n",
      "2/2 [==============================] - 81s 69s/step - loss: 1.1085 - accuracy: 0.2500 - val_loss: 1.0972 - val_accuracy: 0.3512\n",
      "WARNING:tensorflow:Early stopping conditioned on metric `val_acc` which is not available. Available metrics are: loss,accuracy,val_loss,val_accuracy\n",
      "Epoch 30/32\n",
      "1/2 [==============>...............] - ETA: 12s - loss: 1.0754 - accuracy: 0.5000WARNING:tensorflow:Can save best model only with val_accuracy available, skipping.\n",
      "2/2 [==============================] - ETA: 0s - loss: 1.0812 - accuracy: 0.4531 WARNING:tensorflow:Can save best model only with val_accuracy available, skipping.\n",
      "2/2 [==============================] - 80s 68s/step - loss: 1.0832 - accuracy: 0.4375 - val_loss: 1.0969 - val_accuracy: 0.3512\n",
      "WARNING:tensorflow:Early stopping conditioned on metric `val_acc` which is not available. Available metrics are: loss,accuracy,val_loss,val_accuracy\n",
      "Epoch 31/32\n",
      "1/2 [==============>...............] - ETA: 12s - loss: 1.1021 - accuracy: 0.3125WARNING:tensorflow:Can save best model only with val_accuracy available, skipping.\n",
      "2/2 [==============================] - ETA: 0s - loss: 1.0981 - accuracy: 0.3281 WARNING:tensorflow:Can save best model only with val_accuracy available, skipping.\n",
      "2/2 [==============================] - 80s 67s/step - loss: 1.0968 - accuracy: 0.3333 - val_loss: 1.0967 - val_accuracy: 0.3512\n",
      "WARNING:tensorflow:Early stopping conditioned on metric `val_acc` which is not available. Available metrics are: loss,accuracy,val_loss,val_accuracy\n",
      "Epoch 32/32\n",
      "1/2 [==============>...............] - ETA: 12s - loss: 1.0965 - accuracy: 0.3125WARNING:tensorflow:Can save best model only with val_accuracy available, skipping.\n",
      "2/2 [==============================] - ETA: 0s - loss: 1.0963 - accuracy: 0.3281 WARNING:tensorflow:Can save best model only with val_accuracy available, skipping.\n",
      "2/2 [==============================] - 81s 68s/step - loss: 1.0962 - accuracy: 0.3333 - val_loss: 1.0964 - val_accuracy: 0.3512\n",
      "WARNING:tensorflow:Early stopping conditioned on metric `val_acc` which is not available. Available metrics are: loss,accuracy,val_loss,val_accuracy\n"
     ]
    }
   ],
   "source": [
    "hist = model.fit_generator(steps_per_epoch = 2, generator = aug.flow(x_train, y_train, batch_size=16),validation_data= (x_test, y_test), validation_steps=8,epochs=32, callbacks=[checkpoint,early])"
   ]
  },
  {
   "cell_type": "markdown",
   "metadata": {},
   "source": [
    "### Predicting for the test data"
   ]
  },
  {
   "cell_type": "code",
   "execution_count": 40,
   "metadata": {},
   "outputs": [],
   "source": [
    "test_path = r\"D:\\test_images\"\n",
    "test_df = pd.read_csv('test.csv', delimiter=',', header=None, skiprows=1, names=['ID','image id','text','label', 'label_num'])\n",
    "test_df.columns = ['id','image_id','text','label','class']\n",
    "#test_df = test_df[['image_id','text','class']]"
   ]
  },
  {
   "cell_type": "code",
   "execution_count": 51,
   "metadata": {},
   "outputs": [],
   "source": [
    "def make_test_dataset(df):\n",
    "    x_test = np.zeros(shape=(len(df),224,224,3))\n",
    "    for i in range(600):\n",
    "        img_path = df['image_id'][i]\n",
    "        img_class = df['class'][i]\n",
    "        s = test_path + os.sep + img_path\n",
    "        image = Image.open(s)\n",
    "        image = image.resize((224, 224))\n",
    "        image = np.asarray(image)\n",
    "        if len(image.shape) < 3 :\n",
    "            image = np.stack((image,)*3, axis=-1)\n",
    "        image = image[...,:3]\n",
    "        image = image.reshape((1,) + image.shape)\n",
    "        x_train[i] = image\n",
    "        if i%100 == 0:\n",
    "            print(i)\n",
    "    return x_test"
   ]
  },
  {
   "cell_type": "code",
   "execution_count": 52,
   "metadata": {},
   "outputs": [
    {
     "name": "stdout",
     "output_type": "stream",
     "text": [
      "0\n",
      "100\n",
      "200\n",
      "300\n",
      "400\n",
      "500\n"
     ]
    }
   ],
   "source": [
    "test_data = make_test_dataset(test_df)"
   ]
  },
  {
   "cell_type": "code",
   "execution_count": 53,
   "metadata": {},
   "outputs": [
    {
     "ename": "KeyboardInterrupt",
     "evalue": "",
     "output_type": "error",
     "traceback": [
      "\u001b[1;31m---------------------------------------------------------------------------\u001b[0m",
      "\u001b[1;31mKeyboardInterrupt\u001b[0m                         Traceback (most recent call last)",
      "\u001b[1;32m<ipython-input-53-525cc4029e74>\u001b[0m in \u001b[0;36m<module>\u001b[1;34m\u001b[0m\n\u001b[1;32m----> 1\u001b[1;33m \u001b[0mprobabilities\u001b[0m \u001b[1;33m=\u001b[0m \u001b[0mmodel\u001b[0m\u001b[1;33m.\u001b[0m\u001b[0mpredict\u001b[0m\u001b[1;33m(\u001b[0m\u001b[0mtest_data\u001b[0m\u001b[1;33m)\u001b[0m\u001b[1;33m\u001b[0m\u001b[1;33m\u001b[0m\u001b[0m\n\u001b[0m",
      "\u001b[1;32m~\\anaconda3\\lib\\site-packages\\tensorflow\\python\\keras\\engine\\training.py\u001b[0m in \u001b[0;36mpredict\u001b[1;34m(self, x, batch_size, verbose, steps, callbacks, max_queue_size, workers, use_multiprocessing)\u001b[0m\n\u001b[0;32m   1627\u001b[0m           \u001b[1;32mfor\u001b[0m \u001b[0mstep\u001b[0m \u001b[1;32min\u001b[0m \u001b[0mdata_handler\u001b[0m\u001b[1;33m.\u001b[0m\u001b[0msteps\u001b[0m\u001b[1;33m(\u001b[0m\u001b[1;33m)\u001b[0m\u001b[1;33m:\u001b[0m\u001b[1;33m\u001b[0m\u001b[1;33m\u001b[0m\u001b[0m\n\u001b[0;32m   1628\u001b[0m             \u001b[0mcallbacks\u001b[0m\u001b[1;33m.\u001b[0m\u001b[0mon_predict_batch_begin\u001b[0m\u001b[1;33m(\u001b[0m\u001b[0mstep\u001b[0m\u001b[1;33m)\u001b[0m\u001b[1;33m\u001b[0m\u001b[1;33m\u001b[0m\u001b[0m\n\u001b[1;32m-> 1629\u001b[1;33m             \u001b[0mtmp_batch_outputs\u001b[0m \u001b[1;33m=\u001b[0m \u001b[0mself\u001b[0m\u001b[1;33m.\u001b[0m\u001b[0mpredict_function\u001b[0m\u001b[1;33m(\u001b[0m\u001b[0miterator\u001b[0m\u001b[1;33m)\u001b[0m\u001b[1;33m\u001b[0m\u001b[1;33m\u001b[0m\u001b[0m\n\u001b[0m\u001b[0;32m   1630\u001b[0m             \u001b[1;32mif\u001b[0m \u001b[0mdata_handler\u001b[0m\u001b[1;33m.\u001b[0m\u001b[0mshould_sync\u001b[0m\u001b[1;33m:\u001b[0m\u001b[1;33m\u001b[0m\u001b[1;33m\u001b[0m\u001b[0m\n\u001b[0;32m   1631\u001b[0m               \u001b[0mcontext\u001b[0m\u001b[1;33m.\u001b[0m\u001b[0masync_wait\u001b[0m\u001b[1;33m(\u001b[0m\u001b[1;33m)\u001b[0m\u001b[1;33m\u001b[0m\u001b[1;33m\u001b[0m\u001b[0m\n",
      "\u001b[1;32m~\\anaconda3\\lib\\site-packages\\tensorflow\\python\\eager\\def_function.py\u001b[0m in \u001b[0;36m__call__\u001b[1;34m(self, *args, **kwds)\u001b[0m\n\u001b[0;32m    826\u001b[0m     \u001b[0mtracing_count\u001b[0m \u001b[1;33m=\u001b[0m \u001b[0mself\u001b[0m\u001b[1;33m.\u001b[0m\u001b[0mexperimental_get_tracing_count\u001b[0m\u001b[1;33m(\u001b[0m\u001b[1;33m)\u001b[0m\u001b[1;33m\u001b[0m\u001b[1;33m\u001b[0m\u001b[0m\n\u001b[0;32m    827\u001b[0m     \u001b[1;32mwith\u001b[0m \u001b[0mtrace\u001b[0m\u001b[1;33m.\u001b[0m\u001b[0mTrace\u001b[0m\u001b[1;33m(\u001b[0m\u001b[0mself\u001b[0m\u001b[1;33m.\u001b[0m\u001b[0m_name\u001b[0m\u001b[1;33m)\u001b[0m \u001b[1;32mas\u001b[0m \u001b[0mtm\u001b[0m\u001b[1;33m:\u001b[0m\u001b[1;33m\u001b[0m\u001b[1;33m\u001b[0m\u001b[0m\n\u001b[1;32m--> 828\u001b[1;33m       \u001b[0mresult\u001b[0m \u001b[1;33m=\u001b[0m \u001b[0mself\u001b[0m\u001b[1;33m.\u001b[0m\u001b[0m_call\u001b[0m\u001b[1;33m(\u001b[0m\u001b[1;33m*\u001b[0m\u001b[0margs\u001b[0m\u001b[1;33m,\u001b[0m \u001b[1;33m**\u001b[0m\u001b[0mkwds\u001b[0m\u001b[1;33m)\u001b[0m\u001b[1;33m\u001b[0m\u001b[1;33m\u001b[0m\u001b[0m\n\u001b[0m\u001b[0;32m    829\u001b[0m       \u001b[0mcompiler\u001b[0m \u001b[1;33m=\u001b[0m \u001b[1;34m\"xla\"\u001b[0m \u001b[1;32mif\u001b[0m \u001b[0mself\u001b[0m\u001b[1;33m.\u001b[0m\u001b[0m_experimental_compile\u001b[0m \u001b[1;32melse\u001b[0m \u001b[1;34m\"nonXla\"\u001b[0m\u001b[1;33m\u001b[0m\u001b[1;33m\u001b[0m\u001b[0m\n\u001b[0;32m    830\u001b[0m       \u001b[0mnew_tracing_count\u001b[0m \u001b[1;33m=\u001b[0m \u001b[0mself\u001b[0m\u001b[1;33m.\u001b[0m\u001b[0mexperimental_get_tracing_count\u001b[0m\u001b[1;33m(\u001b[0m\u001b[1;33m)\u001b[0m\u001b[1;33m\u001b[0m\u001b[1;33m\u001b[0m\u001b[0m\n",
      "\u001b[1;32m~\\anaconda3\\lib\\site-packages\\tensorflow\\python\\eager\\def_function.py\u001b[0m in \u001b[0;36m_call\u001b[1;34m(self, *args, **kwds)\u001b[0m\n\u001b[0;32m    860\u001b[0m       \u001b[1;31m# In this case we have not created variables on the first call. So we can\u001b[0m\u001b[1;33m\u001b[0m\u001b[1;33m\u001b[0m\u001b[1;33m\u001b[0m\u001b[0m\n\u001b[0;32m    861\u001b[0m       \u001b[1;31m# run the first trace but we should fail if variables are created.\u001b[0m\u001b[1;33m\u001b[0m\u001b[1;33m\u001b[0m\u001b[1;33m\u001b[0m\u001b[0m\n\u001b[1;32m--> 862\u001b[1;33m       \u001b[0mresults\u001b[0m \u001b[1;33m=\u001b[0m \u001b[0mself\u001b[0m\u001b[1;33m.\u001b[0m\u001b[0m_stateful_fn\u001b[0m\u001b[1;33m(\u001b[0m\u001b[1;33m*\u001b[0m\u001b[0margs\u001b[0m\u001b[1;33m,\u001b[0m \u001b[1;33m**\u001b[0m\u001b[0mkwds\u001b[0m\u001b[1;33m)\u001b[0m\u001b[1;33m\u001b[0m\u001b[1;33m\u001b[0m\u001b[0m\n\u001b[0m\u001b[0;32m    863\u001b[0m       \u001b[1;32mif\u001b[0m \u001b[0mself\u001b[0m\u001b[1;33m.\u001b[0m\u001b[0m_created_variables\u001b[0m\u001b[1;33m:\u001b[0m\u001b[1;33m\u001b[0m\u001b[1;33m\u001b[0m\u001b[0m\n\u001b[0;32m    864\u001b[0m         raise ValueError(\"Creating variables on a non-first call to a function\"\n",
      "\u001b[1;32m~\\anaconda3\\lib\\site-packages\\tensorflow\\python\\eager\\function.py\u001b[0m in \u001b[0;36m__call__\u001b[1;34m(self, *args, **kwargs)\u001b[0m\n\u001b[0;32m   2940\u001b[0m       (graph_function,\n\u001b[0;32m   2941\u001b[0m        filtered_flat_args) = self._maybe_define_function(args, kwargs)\n\u001b[1;32m-> 2942\u001b[1;33m     return graph_function._call_flat(\n\u001b[0m\u001b[0;32m   2943\u001b[0m         filtered_flat_args, captured_inputs=graph_function.captured_inputs)  # pylint: disable=protected-access\n\u001b[0;32m   2944\u001b[0m \u001b[1;33m\u001b[0m\u001b[0m\n",
      "\u001b[1;32m~\\anaconda3\\lib\\site-packages\\tensorflow\\python\\eager\\function.py\u001b[0m in \u001b[0;36m_call_flat\u001b[1;34m(self, args, captured_inputs, cancellation_manager)\u001b[0m\n\u001b[0;32m   1916\u001b[0m         and executing_eagerly):\n\u001b[0;32m   1917\u001b[0m       \u001b[1;31m# No tape is watching; skip to running the function.\u001b[0m\u001b[1;33m\u001b[0m\u001b[1;33m\u001b[0m\u001b[1;33m\u001b[0m\u001b[0m\n\u001b[1;32m-> 1918\u001b[1;33m       return self._build_call_outputs(self._inference_function.call(\n\u001b[0m\u001b[0;32m   1919\u001b[0m           ctx, args, cancellation_manager=cancellation_manager))\n\u001b[0;32m   1920\u001b[0m     forward_backward = self._select_forward_and_backward_functions(\n",
      "\u001b[1;32m~\\anaconda3\\lib\\site-packages\\tensorflow\\python\\eager\\function.py\u001b[0m in \u001b[0;36mcall\u001b[1;34m(self, ctx, args, cancellation_manager)\u001b[0m\n\u001b[0;32m    553\u001b[0m       \u001b[1;32mwith\u001b[0m \u001b[0m_InterpolateFunctionError\u001b[0m\u001b[1;33m(\u001b[0m\u001b[0mself\u001b[0m\u001b[1;33m)\u001b[0m\u001b[1;33m:\u001b[0m\u001b[1;33m\u001b[0m\u001b[1;33m\u001b[0m\u001b[0m\n\u001b[0;32m    554\u001b[0m         \u001b[1;32mif\u001b[0m \u001b[0mcancellation_manager\u001b[0m \u001b[1;32mis\u001b[0m \u001b[1;32mNone\u001b[0m\u001b[1;33m:\u001b[0m\u001b[1;33m\u001b[0m\u001b[1;33m\u001b[0m\u001b[0m\n\u001b[1;32m--> 555\u001b[1;33m           outputs = execute.execute(\n\u001b[0m\u001b[0;32m    556\u001b[0m               \u001b[0mstr\u001b[0m\u001b[1;33m(\u001b[0m\u001b[0mself\u001b[0m\u001b[1;33m.\u001b[0m\u001b[0msignature\u001b[0m\u001b[1;33m.\u001b[0m\u001b[0mname\u001b[0m\u001b[1;33m)\u001b[0m\u001b[1;33m,\u001b[0m\u001b[1;33m\u001b[0m\u001b[1;33m\u001b[0m\u001b[0m\n\u001b[0;32m    557\u001b[0m               \u001b[0mnum_outputs\u001b[0m\u001b[1;33m=\u001b[0m\u001b[0mself\u001b[0m\u001b[1;33m.\u001b[0m\u001b[0m_num_outputs\u001b[0m\u001b[1;33m,\u001b[0m\u001b[1;33m\u001b[0m\u001b[1;33m\u001b[0m\u001b[0m\n",
      "\u001b[1;32m~\\anaconda3\\lib\\site-packages\\tensorflow\\python\\eager\\execute.py\u001b[0m in \u001b[0;36mquick_execute\u001b[1;34m(op_name, num_outputs, inputs, attrs, ctx, name)\u001b[0m\n\u001b[0;32m     57\u001b[0m   \u001b[1;32mtry\u001b[0m\u001b[1;33m:\u001b[0m\u001b[1;33m\u001b[0m\u001b[1;33m\u001b[0m\u001b[0m\n\u001b[0;32m     58\u001b[0m     \u001b[0mctx\u001b[0m\u001b[1;33m.\u001b[0m\u001b[0mensure_initialized\u001b[0m\u001b[1;33m(\u001b[0m\u001b[1;33m)\u001b[0m\u001b[1;33m\u001b[0m\u001b[1;33m\u001b[0m\u001b[0m\n\u001b[1;32m---> 59\u001b[1;33m     tensors = pywrap_tfe.TFE_Py_Execute(ctx._handle, device_name, op_name,\n\u001b[0m\u001b[0;32m     60\u001b[0m                                         inputs, attrs, num_outputs)\n\u001b[0;32m     61\u001b[0m   \u001b[1;32mexcept\u001b[0m \u001b[0mcore\u001b[0m\u001b[1;33m.\u001b[0m\u001b[0m_NotOkStatusException\u001b[0m \u001b[1;32mas\u001b[0m \u001b[0me\u001b[0m\u001b[1;33m:\u001b[0m\u001b[1;33m\u001b[0m\u001b[1;33m\u001b[0m\u001b[0m\n",
      "\u001b[1;31mKeyboardInterrupt\u001b[0m: "
     ]
    }
   ],
   "source": [
    "probabilities = model.predict(test_data)"
   ]
  },
  {
   "cell_type": "code",
   "execution_count": null,
   "metadata": {},
   "outputs": [],
   "source": [
    "print(probabilities)"
   ]
  },
  {
   "cell_type": "code",
   "execution_count": null,
   "metadata": {},
   "outputs": [],
   "source": [
    "final_df = pd.DataFrame(columns = ['ID', 'label_num'])\n",
    "for i in range(len(test_data)):\n",
    "    img_id = test_df['id'][i]\n",
    "    prediction = (np.where(probabilities[i] == np.amax(probabilities[i])))[0]\n",
    "    final_df = final_df.append({'ID' : img_id, 'label_num' : prediction[0]}, \n",
    "                ignore_index = True)"
   ]
  },
  {
   "cell_type": "code",
   "execution_count": null,
   "metadata": {},
   "outputs": [],
   "source": [
    "display(final_df)"
   ]
  }
 ],
 "metadata": {
  "kernelspec": {
   "display_name": "Python 3",
   "language": "python",
   "name": "python3"
  },
  "language_info": {
   "codemirror_mode": {
    "name": "ipython",
    "version": 3
   },
   "file_extension": ".py",
   "mimetype": "text/x-python",
   "name": "python",
   "nbconvert_exporter": "python",
   "pygments_lexer": "ipython3",
   "version": "3.8.5"
  }
 },
 "nbformat": 4,
 "nbformat_minor": 4
}
